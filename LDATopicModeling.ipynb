{
 "cells": [
  {
   "cell_type": "code",
   "execution_count": 1,
   "id": "9d05fffc",
   "metadata": {},
   "outputs": [
    {
     "name": "stdout",
     "output_type": "stream",
     "text": [
      "3.11.4\n"
     ]
    }
   ],
   "source": [
    "#check which version of python is being run. The follow code was made and run in python 3.11.4\n",
    "from platform import python_version\n",
    "\n",
    "print(python_version())"
   ]
  },
  {
   "cell_type": "code",
   "execution_count": 3,
   "id": "560369ee",
   "metadata": {},
   "outputs": [
    {
     "name": "stderr",
     "output_type": "stream",
     "text": [
      "[nltk_data] Downloading package stopwords to\n",
      "[nltk_data]     C:\\Users\\caleb\\AppData\\Roaming\\nltk_data...\n",
      "[nltk_data]   Package stopwords is already up-to-date!\n"
     ]
    },
    {
     "data": {
      "text/plain": [
       "True"
      ]
     },
     "execution_count": 3,
     "metadata": {},
     "output_type": "execute_result"
    }
   ],
   "source": [
    "#dowload nltk stopwords if not done so already\n",
    "import nltk\n",
    "nltk.download(\"stopwords\")"
   ]
  },
  {
   "cell_type": "code",
   "execution_count": 20,
   "id": "7b34dde2",
   "metadata": {},
   "outputs": [],
   "source": [
    "#import used modules\n",
    "import numpy as np #note: numpy 1.24.2 is used\n",
    "import pandas as pd\n",
    "import matplotlib.pyplot as plt\n",
    "import json\n",
    "import glob\n",
    "import os\n",
    "import re\n",
    "import random\n",
    "import math\n",
    "\n",
    "# Gensim\n",
    "import gensim\n",
    "import gensim.corpora as corpora\n",
    "from gensim.utils import simple_preprocess\n",
    "from gensim.models import CoherenceModel\n",
    "from gensim.models import TfidfModel\n",
    "\n",
    "# spacy\n",
    "import spacy\n",
    "from nltk.corpus import stopwords\n",
    "\n",
    "import pyLDAvis\n",
    "import pyLDAvis.gensim\n",
    "\n",
    "# T-5 Model\n",
    "from transformers import T5Tokenizer, T5ForConditionalGeneration, pipeline\n",
    "\n",
    "# Bertopic\n",
    "from bertopic import BERTopic"
   ]
  },
  {
   "cell_type": "code",
   "execution_count": 2,
   "id": "03ad5849",
   "metadata": {},
   "outputs": [],
   "source": [
    "# load data\n",
    "def load_data(file):\n",
    "    with open(file, \"r\", encoding=\"utf-8\") as f:\n",
    "        data = json.load(f)\n",
    "    return data\n",
    "\n",
    "# write data\n",
    "def write_data(file, data):\n",
    "    with open(file, \"w\", encoding=\"utf-8\") as f:\n",
    "        json.dump(data, f, indent=4)\n",
    "        \n"
   ]
  },
  {
   "cell_type": "markdown",
   "id": "2f36b6e6",
   "metadata": {},
   "source": [
    "# Variables"
   ]
  },
  {
   "cell_type": "markdown",
   "id": "fa6c00e0",
   "metadata": {},
   "source": [
    "General Variables are kept here (such as which data is being used, etc.)"
   ]
  },
  {
   "cell_type": "code",
   "execution_count": 3,
   "id": "df861865",
   "metadata": {},
   "outputs": [],
   "source": [
    "data = []\n",
    "\n",
    "min_word_length = 3\n",
    "\n",
    "\n",
    "\n",
    "\n",
    "#variable to hold data that will be processed"
   ]
  },
  {
   "cell_type": "markdown",
   "id": "d5e5e21c",
   "metadata": {},
   "source": [
    "Setup functions that we can use later for handling our data"
   ]
  },
  {
   "cell_type": "markdown",
   "id": "6c1b3ca3",
   "metadata": {},
   "source": [
    "# Preparing the Data"
   ]
  },
  {
   "cell_type": "markdown",
   "id": "2d96dea2",
   "metadata": {},
   "source": [
    "Bringing up a sample json data that we have been given"
   ]
  },
  {
   "cell_type": "code",
   "execution_count": 12,
   "id": "4988997e",
   "metadata": {},
   "outputs": [
    {
     "name": "stdout",
     "output_type": "stream",
     "text": [
      "MIHAIL KOGALNICEANU, Romania  U.S. Army Soldiers assigned to Alpha Company, 526th Brigade Support Battalion, 2nd Brigade Combat Team, 101st Airborne Division (Air Assault), conducted a Forward Arming \n"
     ]
    }
   ],
   "source": [
    "path_to_json_files = 'Data/InternshipData-main/Internship Data ArmyAPI Pull_06222023/'\n",
    "#get all JSON file names as a list\n",
    "json_file_names = [filename for filename in os.listdir(path_to_json_files) if filename.endswith('.json')]\n",
    "\n",
    "#get all data into one big list\n",
    "for json_file_name in json_file_names:\n",
    "    with open(os.path.join(path_to_json_files, json_file_name)) as json_file:\n",
    "        json_text = json.load(json_file)\n",
    "        data.append(json_text['text'])\n",
    "        \n",
    "print(data[0][0:200])"
   ]
  },
  {
   "cell_type": "markdown",
   "id": "c656661c",
   "metadata": {},
   "source": [
    "Load Test McDonald review Data"
   ]
  },
  {
   "cell_type": "code",
   "execution_count": 32,
   "id": "b7f8c52b",
   "metadata": {},
   "outputs": [
    {
     "name": "stdout",
     "output_type": "stream",
     "text": [
      "Why does it look like someone spit on my food?\n",
      "I had a normal transaction,  everyone was chill and polite, but now i dont want to eat this. Im trying not to think about what this milky white/clear substance is all over my food, i d*** sure am not coming back.\n"
     ]
    }
   ],
   "source": [
    "# load in Mcdonalds Review data from csv, latin encoding is used since non-utf-8 characters are present\n",
    "data_df = pd.read_csv(\"Data\\\\McDonald_s_Reviews.csv\", encoding='latin-1')\n",
    "data_df = data_df.replace(r'\\ï¿½', '', regex=True)\n",
    "data = data_df[\"review\"].tolist()\n",
    "print(data[0])"
   ]
  },
  {
   "cell_type": "markdown",
   "id": "fe10b593",
   "metadata": {},
   "source": [
    "Other test data used in example video"
   ]
  },
  {
   "cell_type": "code",
   "execution_count": 33,
   "id": "e96b365d",
   "metadata": {},
   "outputs": [
    {
     "name": "stdout",
     "output_type": "stream",
     "text": [
      " My name David Kochalski. I was born in a small town called , and I was born May 5, 1928.  Well, we were very hard working, six children, father and mother and we had a small mill, flour, buckwheat. W\n"
     ]
    }
   ],
   "source": [
    "test_data = load_data(\"C:\\\\Users\\\\caleb\\\\PycharmProjects\\\\python-selenium\\\\PythonPractice\\\\NLTK\\\\ushmm_dn.json\")[\"texts\"]\n",
    "# print(data[0:1])\n",
    "data = test_data\n",
    "print(data[0][0:200])"
   ]
  },
  {
   "cell_type": "markdown",
   "id": "5fcf6fb9",
   "metadata": {},
   "source": [
    "# Data cleaning"
   ]
  },
  {
   "cell_type": "code",
   "execution_count": 77,
   "id": "15cbe5a8",
   "metadata": {},
   "outputs": [],
   "source": [
    "# lemmatization function isolates important words using the spacy library\n",
    "def lemmatization(texts, allowed_postags=[\"NOUN\", \"ADJ\", \"VERB\", \"ADV\"]):\n",
    "    nlp = spacy.load(\"en_core_web_sm\", disable=[\"parser\", \"ner\"])\n",
    "    texts_out = []\n",
    "    for text in texts:\n",
    "        doc = nlp(text)\n",
    "        new_text = []\n",
    "        for token in doc:\n",
    "            if token.pos_ in allowed_postags:\n",
    "                new_text.append(token.lemma_)\n",
    "        final = \" \".join(new_text)\n",
    "        texts_out.append(final)\n",
    "    return (texts_out)\n",
    "\n",
    "lemmatized_texts = lemmatization(data)"
   ]
  },
  {
   "cell_type": "code",
   "execution_count": 79,
   "id": "9e513b99",
   "metadata": {},
   "outputs": [],
   "source": [
    "# save the lemmatized data as a JSON file to avoid long computation processs later\n",
    "write_data('Data/Mili-lemm.json',lemmatized_texts)"
   ]
  },
  {
   "cell_type": "code",
   "execution_count": 37,
   "id": "ed4ad4a1",
   "metadata": {},
   "outputs": [
    {
     "name": "stdout",
     "output_type": "stream",
     "text": [
      "Mcd-lemm.json\n",
      "Mili-lemm.json\n"
     ]
    },
    {
     "data": {
      "text/plain": [
       "[None, None]"
      ]
     },
     "execution_count": 37,
     "metadata": {},
     "output_type": "execute_result"
    }
   ],
   "source": [
    "# Show currently saved Data in Data Folder\n",
    "[print(file) for file in os.listdir('Data') if re.search(r'.json$',file)]"
   ]
  },
  {
   "cell_type": "code",
   "execution_count": 5,
   "id": "abe9e1f9",
   "metadata": {},
   "outputs": [],
   "source": [
    "# load the lemmatized data'\n",
    "lemmatized_texts = load_data('Data/Mili-lemm.json')"
   ]
  },
  {
   "cell_type": "code",
   "execution_count": 26,
   "id": "f869dc7d",
   "metadata": {},
   "outputs": [
    {
     "name": "stdout",
     "output_type": "stream",
     "text": [
      "['assign conduct operation american romanian aviation asset increase knowledge future real world operation share importance training especially future use basically have fuel line element set fill helicopter fast more lethal way say conduct operation allow aviation unit refuel need stop engine enable american romanian aviation unit quickly return mission more efficient regular fueling more productive less time consume say very reliable come aviator fill take return mission as quickly possible fly mission refuel include enable soldier train refuel different type aviation asset training also help cross train other say lot different soldier here cross train operation different task maneuver training enable soldier different military occupation perform job increase knowledge fuel aviation asset future use mission important help sustain fight say 1st non - commissioned officer charge operation especially come use aviation aviation asset 101st currently deploy portion order support unrelenting commitment european ally learn more follow 101st']\n"
     ]
    }
   ],
   "source": [
    "print(lemmatized_texts[0:1])"
   ]
  },
  {
   "cell_type": "code",
   "execution_count": 6,
   "id": "fde9ff90",
   "metadata": {},
   "outputs": [
    {
     "name": "stdout",
     "output_type": "stream",
     "text": [
      "['assign', 'conduct', 'operation', 'american', 'romanian', 'aviation', 'asset', 'increase', 'knowledge', 'future', 'real', 'world', 'operation', 'share', 'importance', 'training', 'especially', 'future', 'use', 'basically', 'have', 'fuel', 'line', 'element', 'set', 'fill', 'helicopter', 'fast', 'more', 'lethal', 'way', 'say', 'conduct', 'operation', 'allow', 'aviation', 'unit', 'refuel', 'need', 'stop', 'engine', 'enable', 'american', 'romanian', 'aviation', 'unit', 'quickly', 'return', 'mission', 'more', 'efficient', 'regular', 'fueling', 'more', 'productive', 'less', 'time', 'consume', 'say', 'very', 'reliable', 'come', 'aviator', 'fill', 'take', 'return', 'mission', 'quickly', 'possible', 'fly', 'mission', 'refuel', 'include', 'enable', 'soldier', 'train', 'refuel', 'different', 'type', 'aviation', 'asset', 'training', 'also', 'help', 'cross', 'train', 'other', 'say', 'lot', 'different', 'soldier', 'here', 'cross', 'train', 'operation', 'different', 'task', 'maneuver', 'training', 'enable', 'soldier', 'different', 'military', 'occupation', 'perform', 'job', 'increase', 'knowledge', 'fuel', 'aviation', 'asset', 'future', 'use', 'mission', 'important', 'help', 'sustain', 'fight', 'say', 'numst', 'non', 'commissioned', 'officer', 'charge', 'operation', 'especially', 'come', 'use', 'aviation', 'aviation', 'asset', 'numst', 'currently', 'deploy', 'portion', 'order', 'support', 'unrelenting', 'commitment', 'european', 'ally', 'learn', 'more', 'follow', 'numst']\n"
     ]
    }
   ],
   "source": [
    "# use the gensim simple_preprocess function to preform a simple preprocess on data\n",
    "def gen_words(texts):\n",
    "    final = []\n",
    "    for text in texts:\n",
    "        new = gensim.utils.simple_preprocess(text, deacc=True)\n",
    "        final.append(new)\n",
    "    return (final)\n",
    "\n",
    "# function to remove very short words from the articles, as more often than not they do not add much (NO SOURCE I MADE THIS UP)\n",
    "def remove_short(texts):\n",
    "    final2 = []\n",
    "    for article in texts:\n",
    "        final = []\n",
    "        for word in article:\n",
    "            if len(word) >= min_word_length:\n",
    "               final.append(word)\n",
    "        final2.append(final)\n",
    "    return final2\n",
    "\n",
    "# function that will generalize battalion numbers instead of getting rid of them entriely (experimental)\n",
    "def generalize_numbers(texts):\n",
    "    final2 = []\n",
    "    for article in texts:\n",
    "        final = []\n",
    "        for word in article:\n",
    "            word = re.sub(r'^\\d+(\\w+)',r'numst',word)\n",
    "            final.append(word)\n",
    "        final2.append(final)\n",
    "    return final2\n",
    "\n",
    "data_words = generalize_numbers([article.split() for article in lemmatized_texts])\n",
    "data_words = remove_short(data_words)\n",
    "data_words = gen_words([' '.join(article) for article in data_words])\n",
    "print(data_words[0])"
   ]
  },
  {
   "cell_type": "code",
   "execution_count": 7,
   "id": "5efad0ee",
   "metadata": {},
   "outputs": [
    {
     "name": "stdout",
     "output_type": "stream",
     "text": [
      "['assign', 'conduct', 'operation', 'american', 'romanian', 'aviation_asset', 'increase', 'knowledge', 'future', 'real_world', 'operation', 'share', 'importance', 'training', 'especially', 'future', 'use', 'basically', 'have', 'fuel', 'line', 'element', 'set', 'fill', 'helicopter', 'fast', 'more', 'lethal', 'way', 'say', 'conduct', 'operation', 'allow', 'aviation_unit', 'refuel', 'need', 'stop', 'engine', 'enable', 'american', 'romanian', 'aviation_unit', 'quickly', 'return', 'mission', 'more', 'efficient', 'regular', 'fueling', 'more', 'productive', 'less', 'time', 'consume', 'say', 'very', 'reliable', 'come', 'aviator', 'fill', 'take', 'return', 'mission', 'quickly', 'possible', 'fly', 'mission', 'refuel', 'include', 'enable', 'soldier_train', 'refuel', 'different', 'type', 'aviation_asset', 'training', 'also', 'help', 'cross', 'train', 'other', 'say', 'lot', 'different', 'soldier', 'here', 'cross', 'train', 'operation', 'different', 'task', 'maneuver', 'training', 'enable', 'soldier', 'different', 'military', 'occupation', 'perform', 'job', 'increase', 'knowledge', 'fuel', 'aviation_asset', 'future', 'use', 'mission', 'important', 'help', 'sustain', 'fight', 'say', 'numst', 'non', 'commissioned', 'officer_charge', 'operation', 'especially', 'come', 'use', 'aviation', 'aviation_asset', 'numst', 'currently', 'deploy', 'portion', 'order', 'support', 'unrelenting', 'commitment', 'european', 'ally', 'learn_more', 'follow', 'numst']\n"
     ]
    }
   ],
   "source": [
    "# Bigrams and Trigrams\n",
    "bigram_phrases = gensim.models.Phrases(data_words, min_count=3, threshold=5)\n",
    "trigram_phrases = gensim.models.Phrases(bigram_phrases[data_words], threshold=5)\n",
    "\n",
    "bigram = gensim.models.phrases.Phraser(bigram_phrases)\n",
    "trigram = gensim.models.phrases.Phraser(trigram_phrases)\n",
    "\n",
    "def make_bigrams(texts):\n",
    "    return ([bigram[doc] for doc in texts])\n",
    "\n",
    "def make_trigrams(texts):\n",
    "    return ([trigram[bigram[doc]] for doc in texts])\n",
    "\n",
    "data_bigrams = make_bigrams(data_words)\n",
    "data_bigrams_trigrams = make_trigrams(data_bigrams)\n",
    "\n",
    "print(data_bigrams_trigrams[0])"
   ]
  },
  {
   "cell_type": "markdown",
   "id": "320de25c",
   "metadata": {},
   "source": [
    "# Preparing the Corpora"
   ]
  },
  {
   "cell_type": "code",
   "execution_count": 8,
   "id": "6bbf12f0",
   "metadata": {},
   "outputs": [
    {
     "name": "stdout",
     "output_type": "stream",
     "text": [
      "['say', 'new', 'get', 'ask', 'too']\n"
     ]
    }
   ],
   "source": [
    "#TF-IDF REMOVAL\n",
    "\n",
    "# automatically gets rid of some of the highest occuring words from the corpus. This is done to get rid of words that aren't stop\n",
    "# words, but don't nessecarily add much to acually discovering what topics are present. (For example, say the word \"say\")\n",
    "\n",
    "\n",
    "id2word = corpora.Dictionary(data_bigrams_trigrams)\n",
    "texts = data_bigrams_trigrams\n",
    "corpus = [id2word.doc2bow(text) for text in texts]\n",
    "\n",
    "tfidf = TfidfModel(corpus, id2word=id2word)\n",
    "\n",
    "# increasing this value will increase the amount of words that are dropped because they are too frequent (according to TF-IDF)\n",
    "low_value = 0.035\n",
    "\n",
    "words = []\n",
    "words_missing_in_tfidf = []\n",
    "\n",
    "\n",
    "for i in range(0, len(corpus)):\n",
    "    bow = corpus[i]\n",
    "    low_value_words = []\n",
    "    tfidf_ids = [id for id, value in tfidf[bow]]\n",
    "    bow_ids = [id for id, value in bow]\n",
    "    low_value_words = [id for id, value in tfidf[bow] if value < low_value]\n",
    "    drops = low_value_words + words_missing_in_tfidf\n",
    "    for item in drops:\n",
    "        words.append(id2word[item])\n",
    "    words_missing_in_tfidf = [id for id in bow_ids if id not in tfidf_ids] # The words with tf-idf score 0 will be missing\n",
    "    low_value_words = [id for id in low_value_words if len(id2word[id]) <= min_word_length]\n",
    "    \n",
    "    new_bow = [b for b in bow if b[0] not in low_value_words and b[0] not in words_missing_in_tfidf]\n",
    "    corpus[i] = new_bow\n",
    "\n",
    "# prints out removed words as well as their corpora id\n",
    "print([(id2word[lowvalue]) for lowvalue in low_value_words])"
   ]
  },
  {
   "cell_type": "code",
   "execution_count": 35,
   "id": "2a231724",
   "metadata": {},
   "outputs": [],
   "source": [
    "# id2word = corpora.Dictionary(data_words)\n",
    "\n",
    "# corpus = []\n",
    "# for text in data_words:\n",
    "#     new = id2word.doc2bow(text)\n",
    "#     corpus.append(new)\n",
    "    \n",
    "# print(corpus[0])\n"
   ]
  },
  {
   "cell_type": "code",
   "execution_count": 42,
   "id": "979ed65a",
   "metadata": {},
   "outputs": [],
   "source": [
    "num_of_topics = 7\n",
    "# this little line of code does all of the actual LDA modeling!\n",
    "lda_model = gensim.models.ldamodel.LdaModel(corpus=corpus,\n",
    "                                           id2word=id2word,\n",
    "                                           num_topics=num_of_topics,\n",
    "                                           random_state=49,\n",
    "                                           update_every=1,\n",
    "                                           chunksize=100,\n",
    "                                           passes=3,\n",
    "                                           alpha=\"auto\")\n"
   ]
  },
  {
   "cell_type": "markdown",
   "id": "1bec1137",
   "metadata": {},
   "source": [
    "# Generating Topic Names"
   ]
  },
  {
   "cell_type": "code",
   "execution_count": 43,
   "id": "83fb8db4",
   "metadata": {
    "scrolled": true
   },
   "outputs": [],
   "source": [
    "topics = []\n",
    "for topicNum in range(num_of_topics):\n",
    "    topic_terms = lda_model.get_topic_terms(topicNum,topn=30)\n",
    "    topic_term_words = [(id2word[id], percent) for id, percent in topic_terms ]\n",
    "    topics.append(topic_term_words)\n",
    "    "
   ]
  },
  {
   "cell_type": "code",
   "execution_count": 13,
   "id": "b26e5882",
   "metadata": {},
   "outputs": [
    {
     "data": {
      "text/plain": [
       "([5,\n",
       "  7,\n",
       "  2,\n",
       "  5,\n",
       "  -1,\n",
       "  0,\n",
       "  1,\n",
       "  3,\n",
       "  4,\n",
       "  -1,\n",
       "  4,\n",
       "  4,\n",
       "  3,\n",
       "  3,\n",
       "  1,\n",
       "  1,\n",
       "  0,\n",
       "  0,\n",
       "  2,\n",
       "  6,\n",
       "  7,\n",
       "  0,\n",
       "  5,\n",
       "  2,\n",
       "  2,\n",
       "  1,\n",
       "  6,\n",
       "  0,\n",
       "  3,\n",
       "  6,\n",
       "  4,\n",
       "  2,\n",
       "  5,\n",
       "  5,\n",
       "  2,\n",
       "  -1,\n",
       "  -1,\n",
       "  2,\n",
       "  7,\n",
       "  2,\n",
       "  4,\n",
       "  -1,\n",
       "  -1,\n",
       "  6,\n",
       "  6,\n",
       "  0,\n",
       "  2,\n",
       "  4,\n",
       "  7,\n",
       "  6,\n",
       "  6,\n",
       "  -1,\n",
       "  0,\n",
       "  3,\n",
       "  1,\n",
       "  0,\n",
       "  1,\n",
       "  2,\n",
       "  0,\n",
       "  -1,\n",
       "  4,\n",
       "  0,\n",
       "  -1,\n",
       "  2,\n",
       "  3,\n",
       "  1,\n",
       "  1,\n",
       "  2,\n",
       "  4,\n",
       "  5,\n",
       "  4,\n",
       "  0,\n",
       "  0,\n",
       "  0,\n",
       "  0,\n",
       "  -1,\n",
       "  0,\n",
       "  0,\n",
       "  3,\n",
       "  2,\n",
       "  1,\n",
       "  0,\n",
       "  -1,\n",
       "  3,\n",
       "  5,\n",
       "  1,\n",
       "  1,\n",
       "  1,\n",
       "  1,\n",
       "  1,\n",
       "  7,\n",
       "  1,\n",
       "  4,\n",
       "  -1,\n",
       "  0,\n",
       "  7,\n",
       "  3,\n",
       "  4,\n",
       "  3,\n",
       "  3,\n",
       "  5,\n",
       "  7,\n",
       "  2,\n",
       "  5,\n",
       "  -1,\n",
       "  0,\n",
       "  1,\n",
       "  3,\n",
       "  4,\n",
       "  -1,\n",
       "  4,\n",
       "  4,\n",
       "  3,\n",
       "  3,\n",
       "  1,\n",
       "  1,\n",
       "  0,\n",
       "  0,\n",
       "  2,\n",
       "  6,\n",
       "  7,\n",
       "  0,\n",
       "  5,\n",
       "  2,\n",
       "  2,\n",
       "  1,\n",
       "  6,\n",
       "  0,\n",
       "  3,\n",
       "  6,\n",
       "  4,\n",
       "  2,\n",
       "  5,\n",
       "  5,\n",
       "  2,\n",
       "  -1,\n",
       "  -1,\n",
       "  2,\n",
       "  7,\n",
       "  2,\n",
       "  4,\n",
       "  3,\n",
       "  -1,\n",
       "  6,\n",
       "  6,\n",
       "  0,\n",
       "  2,\n",
       "  4,\n",
       "  7,\n",
       "  6,\n",
       "  6,\n",
       "  -1,\n",
       "  0,\n",
       "  3,\n",
       "  1,\n",
       "  0,\n",
       "  1,\n",
       "  2,\n",
       "  0,\n",
       "  -1,\n",
       "  4,\n",
       "  0,\n",
       "  -1,\n",
       "  2,\n",
       "  3,\n",
       "  1,\n",
       "  1,\n",
       "  -1,\n",
       "  4,\n",
       "  5,\n",
       "  4,\n",
       "  0,\n",
       "  0,\n",
       "  0,\n",
       "  0,\n",
       "  -1,\n",
       "  0,\n",
       "  0,\n",
       "  3,\n",
       "  2,\n",
       "  1,\n",
       "  0,\n",
       "  -1,\n",
       "  3,\n",
       "  5,\n",
       "  1,\n",
       "  1,\n",
       "  1,\n",
       "  1,\n",
       "  1,\n",
       "  7,\n",
       "  1,\n",
       "  4,\n",
       "  -1,\n",
       "  0,\n",
       "  7,\n",
       "  3,\n",
       "  4,\n",
       "  3,\n",
       "  3],\n",
       " array([1.        , 1.        , 0.40136501, 1.        , 0.        ,\n",
       "        0.99556844, 1.        , 0.90778293, 0.35913704, 0.        ,\n",
       "        1.        , 1.        , 0.88544802, 0.96025684, 0.72239714,\n",
       "        1.        , 0.76919561, 0.75742884, 1.        , 1.        ,\n",
       "        1.        , 0.81856808, 0.76852615, 1.        , 1.        ,\n",
       "        1.        , 1.        , 1.        , 0.79650816, 1.        ,\n",
       "        0.45561338, 0.59133606, 1.        , 1.        , 0.82935111,\n",
       "        0.        , 0.        , 0.63435102, 1.        , 1.        ,\n",
       "        0.34227008, 0.        , 0.        , 1.        , 0.99243698,\n",
       "        0.65968097, 0.99851163, 1.        , 1.        , 1.        ,\n",
       "        1.        , 0.        , 1.        , 1.        , 0.79481434,\n",
       "        0.7456609 , 1.        , 1.        , 0.62419507, 0.        ,\n",
       "        0.37273005, 0.62155628, 0.        , 0.48295692, 1.        ,\n",
       "        1.        , 1.        , 0.37177304, 1.        , 1.        ,\n",
       "        1.        , 0.98754315, 0.73377137, 0.76919561, 0.76919561,\n",
       "        0.        , 1.        , 1.        , 0.80822002, 0.76189334,\n",
       "        1.        , 1.        , 0.        , 0.68699903, 1.        ,\n",
       "        1.        , 1.        , 1.        , 1.        , 1.        ,\n",
       "        1.        , 0.84336507, 0.48764213, 0.        , 0.63013748,\n",
       "        0.99127328, 1.        , 1.        , 1.        , 1.        ,\n",
       "        0.95077617, 1.        , 0.41078399, 1.        , 0.        ,\n",
       "        1.        , 1.        , 0.95000852, 0.36006344, 0.        ,\n",
       "        1.        , 1.        , 0.78967118, 1.        , 0.7138349 ,\n",
       "        1.        , 0.76919561, 0.68654621, 1.        , 0.99325503,\n",
       "        1.        , 0.80581511, 0.76645748, 1.        , 1.        ,\n",
       "        1.        , 1.        , 1.        , 0.78124954, 1.        ,\n",
       "        0.44077636, 0.57689228, 0.94748   , 1.        , 0.89993405,\n",
       "        0.        , 0.        , 0.62169329, 1.        , 1.        ,\n",
       "        0.35856508, 0.66959214, 0.        , 1.        , 1.        ,\n",
       "        0.68872375, 0.91176097, 1.        , 0.91710099, 0.96518275,\n",
       "        0.99841603, 0.        , 0.86495873, 1.        , 0.78744143,\n",
       "        0.74093491, 1.        , 1.        , 0.58235096, 0.        ,\n",
       "        0.36851814, 0.63398016, 0.        , 0.46893495, 1.        ,\n",
       "        1.        , 1.        , 0.        , 0.95969651, 1.        ,\n",
       "        1.        , 0.98678909, 0.76919561, 0.76919561, 0.76919561,\n",
       "        0.        , 1.        , 1.        , 0.86010148, 0.80431226,\n",
       "        0.97683028, 1.        , 0.        , 0.71623238, 1.        ,\n",
       "        0.99532329, 1.        , 1.        , 1.        , 1.        ,\n",
       "        1.        , 0.92526784, 0.50131591, 0.        , 0.61998539,\n",
       "        1.        , 1.        , 0.87077858, 1.        , 0.89351154]))"
      ]
     },
     "execution_count": 13,
     "metadata": {},
     "output_type": "execute_result"
    }
   ],
   "source": [
    "# create a BerTopic Model to use later to evaluate Topic names\n",
    "topic_model = BERTopic()\n",
    "topic_model.fit_transform(data)"
   ]
  },
  {
   "cell_type": "code",
   "execution_count": 14,
   "id": "4c61b928",
   "metadata": {},
   "outputs": [
    {
     "name": "stdout",
     "output_type": "stream",
     "text": [
      "[[('numst', 0.011703893), ('say', 0.010956546), ('soldier', 0.00802974), ('unit', 0.007963312), ('support', 0.007522529), ('capability', 0.005384276), ('event', 0.004743501), ('provide', 0.0047250167), ('also', 0.0042954907), ('other', 0.0042233076), ('year', 0.004220049), ('work', 0.0040623257), ('system', 0.00367689), ('help', 0.0034787343), ('level', 0.0032466282), ('come', 0.0032226217), ('operation', 0.0032088093), ('military', 0.0032073092), ('continue', 0.0031945752), ('time', 0.0031924553), ('know', 0.0031004974), ('vehicle', 0.003063576), ('equipment', 0.0030615302), ('leader', 0.0029154576), ('more', 0.0027652094), ('use', 0.0027466002), ('take', 0.0027296615), ('include', 0.002653517), ('deploy', 0.00257637), ('part', 0.0025659155)], [('support', 0.009430401), ('numst', 0.007932322), ('provide', 0.006862245), ('operation', 0.0061270315), ('team', 0.005698706), ('soldier', 0.005633209), ('more', 0.004936436), ('unit', 0.0047258693), ('also', 0.00471232), ('exercise', 0.0045925993), ('information', 0.0042480524), ('training', 0.0039960486), ('battalion', 0.0038349763), ('include', 0.0036079464), ('use', 0.0034979067), ('force', 0.0034160737), ('datum', 0.0034069258), ('business', 0.0033519962), ('work', 0.0032817712), ('help', 0.0032750962), ('commander', 0.0032610637), ('program', 0.0032190771), ('other', 0.0031691873), ('need', 0.0029939408), ('intelligence', 0.0029696412), ('year', 0.0029686019), ('area', 0.0029684277), ('capability', 0.0029521256), ('division', 0.0029353625), ('mission', 0.0028994028)], [('team', 0.0057473513), ('work', 0.0051452266), ('mission', 0.0049067624), ('day', 0.004882226), ('just', 0.0045851246), ('make', 0.0044452827), ('continue', 0.0044438033), ('need', 0.0043447386), ('event', 0.004336777), ('know', 0.0043186625), ('support', 0.0042607756), ('help', 0.0042278026), ('say', 0.004200443), ('family', 0.004075467), ('take', 0.0040244292), ('come', 0.0039165183), ('serve', 0.0036773004), ('year', 0.0036579056), ('get', 0.0034873036), ('time', 0.0034210251), ('numst', 0.0034167527), ('people', 0.0034165399), ('soldier', 0.0032719935), ('military', 0.0030685232), ('first', 0.0030450302), ('life', 0.0030433377), ('training', 0.003019199), ('different', 0.0030146092), ('provide', 0.0030041581), ('give', 0.0029763011)]]\n"
     ]
    }
   ],
   "source": [
    "# print topic groups\n",
    "print(topics[0:3])"
   ]
  },
  {
   "cell_type": "code",
   "execution_count": 44,
   "id": "274692dd",
   "metadata": {},
   "outputs": [
    {
     "name": "stdout",
     "output_type": "stream",
     "text": [
      "{0: [(2, 0.9981151), (3, 0.99625134), (5, 0.9977089), (14, 0.99388295), (24, 0.9938827), (31, 0.99619883), (35, 0.9971562), (49, 0.99701524), (50, 0.99644804), (54, 0.9692406), (63, 0.99647117), (64, 0.69525415), (80, 0.9136465), (91, 0.79357034), (97, 0.9985252)], 1: [(13, 0.9969844), (15, 0.9981522), (19, 0.82820666), (20, 0.9847058), (32, 0.9981196), (37, 0.9982784), (38, 0.99719244), (43, 0.9977328), (47, 0.79974526), (53, 0.9981196), (59, 0.9982146), (74, 0.9981459), (81, 0.9990365), (84, 0.99643695), (87, 0.8097668), (89, 0.9977333), (90, 0.99829495)], 2: [(7, 0.9980327), (21, 0.45222557), (22, 0.99887943), (23, 0.7079947), (25, 0.99576914), (26, 0.9988862), (27, 0.97361), (36, 0.9977291), (65, 0.99777526), (72, 0.9981338), (73, 0.99686575)], 3: [(0, 0.99595183), (4, 0.99695426), (11, 0.99781126), (34, 0.99755865), (42, 0.9981088), (44, 0.9971042), (45, 0.9974028), (46, 0.9973374), (57, 0.9979146), (58, 0.90232027), (66, 0.9978022), (68, 0.99847424), (78, 0.9728791), (79, 0.99575675), (85, 0.9986864), (86, 0.9989087), (88, 0.6621057), (93, 0.9980312), (94, 0.9730558), (95, 0.99863917)], 4: [(6, 0.9983014), (30, 0.9962993), (39, 0.994516), (48, 0.9969244), (56, 0.9978025), (70, 0.9973038), (92, 0.9977297), (99, 0.99825233)], 5: [(8, 0.995898), (9, 0.99874574), (10, 0.9973572), (12, 0.5909753), (18, 0.9970295), (28, 0.9838287), (29, 0.99851644), (41, 0.99801385), (51, 0.9993301), (55, 0.8057351), (60, 0.996327), (61, 0.99651986), (71, 0.97714645), (75, 0.99853706), (83, 0.99782556), (96, 0.6159167), (98, 0.99757576)], 6: [(1, 0.6901513), (16, 0.9979624), (17, 0.99700874), (33, 0.7321858), (40, 0.99673957), (52, 0.99886495), (62, 0.99587256), (67, 0.9979925), (69, 0.99777913), (76, 0.9972085), (77, 0.9981988), (82, 0.9859355)]}\n"
     ]
    }
   ],
   "source": [
    "# the following code will group all articles into whatever topic they are most relevant to,\n",
    "# this data will be used later in order to generate article topic names \n",
    "\n",
    "# [(topicnum,percent),...] -> topic\n",
    "# function returns the topic and percentage with the highest percent\n",
    "def define_topic(docTopics):\n",
    "    top = 0 \n",
    "    perc = 0\n",
    "    for topic,percent in docTopics:\n",
    "        if percent > perc:\n",
    "            top = topic\n",
    "            perc = percent\n",
    "    return (top,perc)\n",
    "doc_topics = []\n",
    "for doc in corpus:\n",
    "    doc_topics.append(define_topic(lda_model.get_document_topics(doc)))\n",
    "    \n",
    "# print(doc_topics)\n",
    "# create a dictionary with an index for each of the topics\n",
    "topics_sorted = dict()\n",
    "\n",
    "for i in range(num_of_topics):\n",
    "    topics_sorted[i] = []\n",
    "\n",
    "for i in range(len(doc_topics)):\n",
    "    topics_sorted[doc_topics[i][0]].append((i,doc_topics[i][1]))\n",
    "    \n",
    "print(topics_sorted)\n",
    "        "
   ]
  },
  {
   "cell_type": "code",
   "execution_count": 24,
   "id": "e0284e32",
   "metadata": {},
   "outputs": [],
   "source": [
    "# load in the T5 model that will be used to summerize and title articles\n",
    "tokenizer = T5Tokenizer.from_pretrained(\"t5-base\")\n",
    "language_model = T5ForConditionalGeneration.from_pretrained(\"t5-base\")\n",
    "headline_generator = T5ForConditionalGeneration.from_pretrained(\"Michau/t5-base-en-generate-headline\")\n",
    "\n",
    "summarizer = pipeline(\"summarization\", model=language_model, tokenizer=tokenizer, framework=\"tf\")"
   ]
  },
  {
   "cell_type": "code",
   "execution_count": 29,
   "id": "fdf2d441",
   "metadata": {},
   "outputs": [],
   "source": [
    "def generate_topic_label(articles):\n",
    "    summary_list = []\n",
    "    current_token_length = 0\n",
    "    max_token_length = 512\n",
    "    \n",
    "    for article in sample(articles, k= 5):\n",
    "        summary = summarizer(article)[0][\"summary_text\"]\n",
    "        current_token_length += len(tokenizer.encode(summary))\n",
    "        if current_token_length >= max_token_length:\n",
    "            break\n",
    "        summary_list.append(summary)\n",
    "        print(summary)\n",
    "\n",
    "    encoding = tokenizer.encode(\"headline: \" + \" \".join(summary_list), return_tensors=\"pt\")\n",
    "    output = headline_generator.generate(encoding)\n",
    "    \n",
    "    return tokenizer.decode(output[0][1:-1])\n"
   ]
  },
  {
   "cell_type": "code",
   "execution_count": 45,
   "id": "ac5873c8",
   "metadata": {},
   "outputs": [
    {
     "ename": "KeyboardInterrupt",
     "evalue": "",
     "output_type": "error",
     "traceback": [
      "\u001b[1;31m---------------------------------------------------------------------------\u001b[0m",
      "\u001b[1;31mKeyboardInterrupt\u001b[0m                         Traceback (most recent call last)",
      "Cell \u001b[1;32mIn[45], line 4\u001b[0m\n\u001b[0;32m      2\u001b[0m \u001b[38;5;66;03m#generate a name for each topic in topics\u001b[39;00m\n\u001b[0;32m      3\u001b[0m \u001b[38;5;28;01mfor\u001b[39;00m topic_num \u001b[38;5;129;01min\u001b[39;00m \u001b[38;5;28mrange\u001b[39m(num_of_topics):\n\u001b[1;32m----> 4\u001b[0m     topic_names\u001b[38;5;241m.\u001b[39mappend(\u001b[43mgenerate_topic_label\u001b[49m\u001b[43m(\u001b[49m\u001b[43m[\u001b[49m\u001b[43mdata\u001b[49m\u001b[43m[\u001b[49m\u001b[43mi\u001b[49m\u001b[43m]\u001b[49m\u001b[43m \u001b[49m\u001b[38;5;28;43;01mfor\u001b[39;49;00m\u001b[43m \u001b[49m\u001b[43mi\u001b[49m\u001b[43m,\u001b[49m\u001b[43mper\u001b[49m\u001b[43m \u001b[49m\u001b[38;5;129;43;01min\u001b[39;49;00m\u001b[43m \u001b[49m\u001b[43mtopics_sorted\u001b[49m\u001b[43m[\u001b[49m\u001b[43mtopic_num\u001b[49m\u001b[43m]\u001b[49m\u001b[43m]\u001b[49m\u001b[43m)\u001b[49m)\n\u001b[0;32m      5\u001b[0m     \u001b[38;5;28mprint\u001b[39m(topic_names[topic_num])\n\u001b[0;32m      7\u001b[0m \u001b[38;5;28mprint\u001b[39m(topic_names)\n",
      "Cell \u001b[1;32mIn[29], line 7\u001b[0m, in \u001b[0;36mgenerate_topic_label\u001b[1;34m(articles)\u001b[0m\n\u001b[0;32m      4\u001b[0m max_token_length \u001b[38;5;241m=\u001b[39m \u001b[38;5;241m512\u001b[39m\n\u001b[0;32m      6\u001b[0m \u001b[38;5;28;01mfor\u001b[39;00m article \u001b[38;5;129;01min\u001b[39;00m sample(articles, k\u001b[38;5;241m=\u001b[39m \u001b[38;5;241m5\u001b[39m):\n\u001b[1;32m----> 7\u001b[0m     summary \u001b[38;5;241m=\u001b[39m \u001b[43msummarizer\u001b[49m\u001b[43m(\u001b[49m\u001b[43marticle\u001b[49m\u001b[43m)\u001b[49m[\u001b[38;5;241m0\u001b[39m][\u001b[38;5;124m\"\u001b[39m\u001b[38;5;124msummary_text\u001b[39m\u001b[38;5;124m\"\u001b[39m]\n\u001b[0;32m      8\u001b[0m     current_token_length \u001b[38;5;241m+\u001b[39m\u001b[38;5;241m=\u001b[39m \u001b[38;5;28mlen\u001b[39m(tokenizer\u001b[38;5;241m.\u001b[39mencode(summary))\n\u001b[0;32m      9\u001b[0m     \u001b[38;5;28;01mif\u001b[39;00m current_token_length \u001b[38;5;241m>\u001b[39m\u001b[38;5;241m=\u001b[39m max_token_length:\n",
      "File \u001b[1;32m~\\PycharmProjects\\JupyterFiles\\SMX\\LDAenv\\LDAenv\\Lib\\site-packages\\transformers\\pipelines\\text2text_generation.py:265\u001b[0m, in \u001b[0;36mSummarizationPipeline.__call__\u001b[1;34m(self, *args, **kwargs)\u001b[0m\n\u001b[0;32m    241\u001b[0m \u001b[38;5;28;01mdef\u001b[39;00m \u001b[38;5;21m__call__\u001b[39m(\u001b[38;5;28mself\u001b[39m, \u001b[38;5;241m*\u001b[39margs, \u001b[38;5;241m*\u001b[39m\u001b[38;5;241m*\u001b[39mkwargs):\n\u001b[0;32m    242\u001b[0m \u001b[38;5;250m    \u001b[39m\u001b[38;5;124mr\u001b[39m\u001b[38;5;124;03m\"\"\"\u001b[39;00m\n\u001b[0;32m    243\u001b[0m \u001b[38;5;124;03m    Summarize the text(s) given as inputs.\u001b[39;00m\n\u001b[0;32m    244\u001b[0m \n\u001b[1;32m   (...)\u001b[0m\n\u001b[0;32m    263\u001b[0m \u001b[38;5;124;03m          ids of the summary.\u001b[39;00m\n\u001b[0;32m    264\u001b[0m \u001b[38;5;124;03m    \"\"\"\u001b[39;00m\n\u001b[1;32m--> 265\u001b[0m     \u001b[38;5;28;01mreturn\u001b[39;00m \u001b[38;5;28;43msuper\u001b[39;49m\u001b[43m(\u001b[49m\u001b[43m)\u001b[49m\u001b[38;5;241;43m.\u001b[39;49m\u001b[38;5;21;43m__call__\u001b[39;49m\u001b[43m(\u001b[49m\u001b[38;5;241;43m*\u001b[39;49m\u001b[43margs\u001b[49m\u001b[43m,\u001b[49m\u001b[43m \u001b[49m\u001b[38;5;241;43m*\u001b[39;49m\u001b[38;5;241;43m*\u001b[39;49m\u001b[43mkwargs\u001b[49m\u001b[43m)\u001b[49m\n",
      "File \u001b[1;32m~\\PycharmProjects\\JupyterFiles\\SMX\\LDAenv\\LDAenv\\Lib\\site-packages\\transformers\\pipelines\\text2text_generation.py:165\u001b[0m, in \u001b[0;36mText2TextGenerationPipeline.__call__\u001b[1;34m(self, *args, **kwargs)\u001b[0m\n\u001b[0;32m    136\u001b[0m \u001b[38;5;28;01mdef\u001b[39;00m \u001b[38;5;21m__call__\u001b[39m(\u001b[38;5;28mself\u001b[39m, \u001b[38;5;241m*\u001b[39margs, \u001b[38;5;241m*\u001b[39m\u001b[38;5;241m*\u001b[39mkwargs):\n\u001b[0;32m    137\u001b[0m \u001b[38;5;250m    \u001b[39m\u001b[38;5;124mr\u001b[39m\u001b[38;5;124;03m\"\"\"\u001b[39;00m\n\u001b[0;32m    138\u001b[0m \u001b[38;5;124;03m    Generate the output text(s) using text(s) given as inputs.\u001b[39;00m\n\u001b[0;32m    139\u001b[0m \n\u001b[1;32m   (...)\u001b[0m\n\u001b[0;32m    162\u001b[0m \u001b[38;5;124;03m          ids of the generated text.\u001b[39;00m\n\u001b[0;32m    163\u001b[0m \u001b[38;5;124;03m    \"\"\"\u001b[39;00m\n\u001b[1;32m--> 165\u001b[0m     result \u001b[38;5;241m=\u001b[39m \u001b[38;5;28;43msuper\u001b[39;49m\u001b[43m(\u001b[49m\u001b[43m)\u001b[49m\u001b[38;5;241;43m.\u001b[39;49m\u001b[38;5;21;43m__call__\u001b[39;49m\u001b[43m(\u001b[49m\u001b[38;5;241;43m*\u001b[39;49m\u001b[43margs\u001b[49m\u001b[43m,\u001b[49m\u001b[43m \u001b[49m\u001b[38;5;241;43m*\u001b[39;49m\u001b[38;5;241;43m*\u001b[39;49m\u001b[43mkwargs\u001b[49m\u001b[43m)\u001b[49m\n\u001b[0;32m    166\u001b[0m     \u001b[38;5;28;01mif\u001b[39;00m (\n\u001b[0;32m    167\u001b[0m         \u001b[38;5;28misinstance\u001b[39m(args[\u001b[38;5;241m0\u001b[39m], \u001b[38;5;28mlist\u001b[39m)\n\u001b[0;32m    168\u001b[0m         \u001b[38;5;129;01mand\u001b[39;00m \u001b[38;5;28mall\u001b[39m(\u001b[38;5;28misinstance\u001b[39m(el, \u001b[38;5;28mstr\u001b[39m) \u001b[38;5;28;01mfor\u001b[39;00m el \u001b[38;5;129;01min\u001b[39;00m args[\u001b[38;5;241m0\u001b[39m])\n\u001b[0;32m    169\u001b[0m         \u001b[38;5;129;01mand\u001b[39;00m \u001b[38;5;28mall\u001b[39m(\u001b[38;5;28mlen\u001b[39m(res) \u001b[38;5;241m==\u001b[39m \u001b[38;5;241m1\u001b[39m \u001b[38;5;28;01mfor\u001b[39;00m res \u001b[38;5;129;01min\u001b[39;00m result)\n\u001b[0;32m    170\u001b[0m     ):\n\u001b[0;32m    171\u001b[0m         \u001b[38;5;28;01mreturn\u001b[39;00m [res[\u001b[38;5;241m0\u001b[39m] \u001b[38;5;28;01mfor\u001b[39;00m res \u001b[38;5;129;01min\u001b[39;00m result]\n",
      "File \u001b[1;32m~\\PycharmProjects\\JupyterFiles\\SMX\\LDAenv\\LDAenv\\Lib\\site-packages\\transformers\\pipelines\\base.py:1120\u001b[0m, in \u001b[0;36mPipeline.__call__\u001b[1;34m(self, inputs, num_workers, batch_size, *args, **kwargs)\u001b[0m\n\u001b[0;32m   1112\u001b[0m     \u001b[38;5;28;01mreturn\u001b[39;00m \u001b[38;5;28mnext\u001b[39m(\n\u001b[0;32m   1113\u001b[0m         \u001b[38;5;28miter\u001b[39m(\n\u001b[0;32m   1114\u001b[0m             \u001b[38;5;28mself\u001b[39m\u001b[38;5;241m.\u001b[39mget_iterator(\n\u001b[1;32m   (...)\u001b[0m\n\u001b[0;32m   1117\u001b[0m         )\n\u001b[0;32m   1118\u001b[0m     )\n\u001b[0;32m   1119\u001b[0m \u001b[38;5;28;01melse\u001b[39;00m:\n\u001b[1;32m-> 1120\u001b[0m     \u001b[38;5;28;01mreturn\u001b[39;00m \u001b[38;5;28;43mself\u001b[39;49m\u001b[38;5;241;43m.\u001b[39;49m\u001b[43mrun_single\u001b[49m\u001b[43m(\u001b[49m\u001b[43minputs\u001b[49m\u001b[43m,\u001b[49m\u001b[43m \u001b[49m\u001b[43mpreprocess_params\u001b[49m\u001b[43m,\u001b[49m\u001b[43m \u001b[49m\u001b[43mforward_params\u001b[49m\u001b[43m,\u001b[49m\u001b[43m \u001b[49m\u001b[43mpostprocess_params\u001b[49m\u001b[43m)\u001b[49m\n",
      "File \u001b[1;32m~\\PycharmProjects\\JupyterFiles\\SMX\\LDAenv\\LDAenv\\Lib\\site-packages\\transformers\\pipelines\\base.py:1127\u001b[0m, in \u001b[0;36mPipeline.run_single\u001b[1;34m(self, inputs, preprocess_params, forward_params, postprocess_params)\u001b[0m\n\u001b[0;32m   1125\u001b[0m \u001b[38;5;28;01mdef\u001b[39;00m \u001b[38;5;21mrun_single\u001b[39m(\u001b[38;5;28mself\u001b[39m, inputs, preprocess_params, forward_params, postprocess_params):\n\u001b[0;32m   1126\u001b[0m     model_inputs \u001b[38;5;241m=\u001b[39m \u001b[38;5;28mself\u001b[39m\u001b[38;5;241m.\u001b[39mpreprocess(inputs, \u001b[38;5;241m*\u001b[39m\u001b[38;5;241m*\u001b[39mpreprocess_params)\n\u001b[1;32m-> 1127\u001b[0m     model_outputs \u001b[38;5;241m=\u001b[39m \u001b[38;5;28;43mself\u001b[39;49m\u001b[38;5;241;43m.\u001b[39;49m\u001b[43mforward\u001b[49m\u001b[43m(\u001b[49m\u001b[43mmodel_inputs\u001b[49m\u001b[43m,\u001b[49m\u001b[43m \u001b[49m\u001b[38;5;241;43m*\u001b[39;49m\u001b[38;5;241;43m*\u001b[39;49m\u001b[43mforward_params\u001b[49m\u001b[43m)\u001b[49m\n\u001b[0;32m   1128\u001b[0m     outputs \u001b[38;5;241m=\u001b[39m \u001b[38;5;28mself\u001b[39m\u001b[38;5;241m.\u001b[39mpostprocess(model_outputs, \u001b[38;5;241m*\u001b[39m\u001b[38;5;241m*\u001b[39mpostprocess_params)\n\u001b[0;32m   1129\u001b[0m     \u001b[38;5;28;01mreturn\u001b[39;00m outputs\n",
      "File \u001b[1;32m~\\PycharmProjects\\JupyterFiles\\SMX\\LDAenv\\LDAenv\\Lib\\site-packages\\transformers\\pipelines\\base.py:1026\u001b[0m, in \u001b[0;36mPipeline.forward\u001b[1;34m(self, model_inputs, **forward_params)\u001b[0m\n\u001b[0;32m   1024\u001b[0m     \u001b[38;5;28;01mwith\u001b[39;00m inference_context():\n\u001b[0;32m   1025\u001b[0m         model_inputs \u001b[38;5;241m=\u001b[39m \u001b[38;5;28mself\u001b[39m\u001b[38;5;241m.\u001b[39m_ensure_tensor_on_device(model_inputs, device\u001b[38;5;241m=\u001b[39m\u001b[38;5;28mself\u001b[39m\u001b[38;5;241m.\u001b[39mdevice)\n\u001b[1;32m-> 1026\u001b[0m         model_outputs \u001b[38;5;241m=\u001b[39m \u001b[38;5;28;43mself\u001b[39;49m\u001b[38;5;241;43m.\u001b[39;49m\u001b[43m_forward\u001b[49m\u001b[43m(\u001b[49m\u001b[43mmodel_inputs\u001b[49m\u001b[43m,\u001b[49m\u001b[43m \u001b[49m\u001b[38;5;241;43m*\u001b[39;49m\u001b[38;5;241;43m*\u001b[39;49m\u001b[43mforward_params\u001b[49m\u001b[43m)\u001b[49m\n\u001b[0;32m   1027\u001b[0m         model_outputs \u001b[38;5;241m=\u001b[39m \u001b[38;5;28mself\u001b[39m\u001b[38;5;241m.\u001b[39m_ensure_tensor_on_device(model_outputs, device\u001b[38;5;241m=\u001b[39mtorch\u001b[38;5;241m.\u001b[39mdevice(\u001b[38;5;124m\"\u001b[39m\u001b[38;5;124mcpu\u001b[39m\u001b[38;5;124m\"\u001b[39m))\n\u001b[0;32m   1028\u001b[0m \u001b[38;5;28;01melse\u001b[39;00m:\n",
      "File \u001b[1;32m~\\PycharmProjects\\JupyterFiles\\SMX\\LDAenv\\LDAenv\\Lib\\site-packages\\transformers\\pipelines\\text2text_generation.py:187\u001b[0m, in \u001b[0;36mText2TextGenerationPipeline._forward\u001b[1;34m(self, model_inputs, **generate_kwargs)\u001b[0m\n\u001b[0;32m    185\u001b[0m generate_kwargs[\u001b[38;5;124m\"\u001b[39m\u001b[38;5;124mmax_length\u001b[39m\u001b[38;5;124m\"\u001b[39m] \u001b[38;5;241m=\u001b[39m generate_kwargs\u001b[38;5;241m.\u001b[39mget(\u001b[38;5;124m\"\u001b[39m\u001b[38;5;124mmax_length\u001b[39m\u001b[38;5;124m\"\u001b[39m, \u001b[38;5;28mself\u001b[39m\u001b[38;5;241m.\u001b[39mmodel\u001b[38;5;241m.\u001b[39mconfig\u001b[38;5;241m.\u001b[39mmax_length)\n\u001b[0;32m    186\u001b[0m \u001b[38;5;28mself\u001b[39m\u001b[38;5;241m.\u001b[39mcheck_inputs(input_length, generate_kwargs[\u001b[38;5;124m\"\u001b[39m\u001b[38;5;124mmin_length\u001b[39m\u001b[38;5;124m\"\u001b[39m], generate_kwargs[\u001b[38;5;124m\"\u001b[39m\u001b[38;5;124mmax_length\u001b[39m\u001b[38;5;124m\"\u001b[39m])\n\u001b[1;32m--> 187\u001b[0m output_ids \u001b[38;5;241m=\u001b[39m \u001b[38;5;28;43mself\u001b[39;49m\u001b[38;5;241;43m.\u001b[39;49m\u001b[43mmodel\u001b[49m\u001b[38;5;241;43m.\u001b[39;49m\u001b[43mgenerate\u001b[49m\u001b[43m(\u001b[49m\u001b[38;5;241;43m*\u001b[39;49m\u001b[38;5;241;43m*\u001b[39;49m\u001b[43mmodel_inputs\u001b[49m\u001b[43m,\u001b[49m\u001b[43m \u001b[49m\u001b[38;5;241;43m*\u001b[39;49m\u001b[38;5;241;43m*\u001b[39;49m\u001b[43mgenerate_kwargs\u001b[49m\u001b[43m)\u001b[49m\n\u001b[0;32m    188\u001b[0m out_b \u001b[38;5;241m=\u001b[39m output_ids\u001b[38;5;241m.\u001b[39mshape[\u001b[38;5;241m0\u001b[39m]\n\u001b[0;32m    189\u001b[0m \u001b[38;5;28;01mif\u001b[39;00m \u001b[38;5;28mself\u001b[39m\u001b[38;5;241m.\u001b[39mframework \u001b[38;5;241m==\u001b[39m \u001b[38;5;124m\"\u001b[39m\u001b[38;5;124mpt\u001b[39m\u001b[38;5;124m\"\u001b[39m:\n",
      "File \u001b[1;32m~\\PycharmProjects\\JupyterFiles\\SMX\\LDAenv\\LDAenv\\Lib\\site-packages\\torch\\utils\\_contextlib.py:115\u001b[0m, in \u001b[0;36mcontext_decorator.<locals>.decorate_context\u001b[1;34m(*args, **kwargs)\u001b[0m\n\u001b[0;32m    112\u001b[0m \u001b[38;5;129m@functools\u001b[39m\u001b[38;5;241m.\u001b[39mwraps(func)\n\u001b[0;32m    113\u001b[0m \u001b[38;5;28;01mdef\u001b[39;00m \u001b[38;5;21mdecorate_context\u001b[39m(\u001b[38;5;241m*\u001b[39margs, \u001b[38;5;241m*\u001b[39m\u001b[38;5;241m*\u001b[39mkwargs):\n\u001b[0;32m    114\u001b[0m     \u001b[38;5;28;01mwith\u001b[39;00m ctx_factory():\n\u001b[1;32m--> 115\u001b[0m         \u001b[38;5;28;01mreturn\u001b[39;00m \u001b[43mfunc\u001b[49m\u001b[43m(\u001b[49m\u001b[38;5;241;43m*\u001b[39;49m\u001b[43margs\u001b[49m\u001b[43m,\u001b[49m\u001b[43m \u001b[49m\u001b[38;5;241;43m*\u001b[39;49m\u001b[38;5;241;43m*\u001b[39;49m\u001b[43mkwargs\u001b[49m\u001b[43m)\u001b[49m\n",
      "File \u001b[1;32m~\\PycharmProjects\\JupyterFiles\\SMX\\LDAenv\\LDAenv\\Lib\\site-packages\\transformers\\generation\\utils.py:1611\u001b[0m, in \u001b[0;36mGenerationMixin.generate\u001b[1;34m(self, inputs, generation_config, logits_processor, stopping_criteria, prefix_allowed_tokens_fn, synced_gpus, assistant_model, streamer, **kwargs)\u001b[0m\n\u001b[0;32m   1604\u001b[0m     input_ids, model_kwargs \u001b[38;5;241m=\u001b[39m \u001b[38;5;28mself\u001b[39m\u001b[38;5;241m.\u001b[39m_expand_inputs_for_generation(\n\u001b[0;32m   1605\u001b[0m         input_ids\u001b[38;5;241m=\u001b[39minput_ids,\n\u001b[0;32m   1606\u001b[0m         expand_size\u001b[38;5;241m=\u001b[39mgeneration_config\u001b[38;5;241m.\u001b[39mnum_beams,\n\u001b[0;32m   1607\u001b[0m         is_encoder_decoder\u001b[38;5;241m=\u001b[39m\u001b[38;5;28mself\u001b[39m\u001b[38;5;241m.\u001b[39mconfig\u001b[38;5;241m.\u001b[39mis_encoder_decoder,\n\u001b[0;32m   1608\u001b[0m         \u001b[38;5;241m*\u001b[39m\u001b[38;5;241m*\u001b[39mmodel_kwargs,\n\u001b[0;32m   1609\u001b[0m     )\n\u001b[0;32m   1610\u001b[0m     \u001b[38;5;66;03m# 13. run beam search\u001b[39;00m\n\u001b[1;32m-> 1611\u001b[0m     \u001b[38;5;28;01mreturn\u001b[39;00m \u001b[38;5;28;43mself\u001b[39;49m\u001b[38;5;241;43m.\u001b[39;49m\u001b[43mbeam_search\u001b[49m\u001b[43m(\u001b[49m\n\u001b[0;32m   1612\u001b[0m \u001b[43m        \u001b[49m\u001b[43minput_ids\u001b[49m\u001b[43m,\u001b[49m\n\u001b[0;32m   1613\u001b[0m \u001b[43m        \u001b[49m\u001b[43mbeam_scorer\u001b[49m\u001b[43m,\u001b[49m\n\u001b[0;32m   1614\u001b[0m \u001b[43m        \u001b[49m\u001b[43mlogits_processor\u001b[49m\u001b[38;5;241;43m=\u001b[39;49m\u001b[43mlogits_processor\u001b[49m\u001b[43m,\u001b[49m\n\u001b[0;32m   1615\u001b[0m \u001b[43m        \u001b[49m\u001b[43mstopping_criteria\u001b[49m\u001b[38;5;241;43m=\u001b[39;49m\u001b[43mstopping_criteria\u001b[49m\u001b[43m,\u001b[49m\n\u001b[0;32m   1616\u001b[0m \u001b[43m        \u001b[49m\u001b[43mpad_token_id\u001b[49m\u001b[38;5;241;43m=\u001b[39;49m\u001b[43mgeneration_config\u001b[49m\u001b[38;5;241;43m.\u001b[39;49m\u001b[43mpad_token_id\u001b[49m\u001b[43m,\u001b[49m\n\u001b[0;32m   1617\u001b[0m \u001b[43m        \u001b[49m\u001b[43meos_token_id\u001b[49m\u001b[38;5;241;43m=\u001b[39;49m\u001b[43mgeneration_config\u001b[49m\u001b[38;5;241;43m.\u001b[39;49m\u001b[43meos_token_id\u001b[49m\u001b[43m,\u001b[49m\n\u001b[0;32m   1618\u001b[0m \u001b[43m        \u001b[49m\u001b[43moutput_scores\u001b[49m\u001b[38;5;241;43m=\u001b[39;49m\u001b[43mgeneration_config\u001b[49m\u001b[38;5;241;43m.\u001b[39;49m\u001b[43moutput_scores\u001b[49m\u001b[43m,\u001b[49m\n\u001b[0;32m   1619\u001b[0m \u001b[43m        \u001b[49m\u001b[43mreturn_dict_in_generate\u001b[49m\u001b[38;5;241;43m=\u001b[39;49m\u001b[43mgeneration_config\u001b[49m\u001b[38;5;241;43m.\u001b[39;49m\u001b[43mreturn_dict_in_generate\u001b[49m\u001b[43m,\u001b[49m\n\u001b[0;32m   1620\u001b[0m \u001b[43m        \u001b[49m\u001b[43msynced_gpus\u001b[49m\u001b[38;5;241;43m=\u001b[39;49m\u001b[43msynced_gpus\u001b[49m\u001b[43m,\u001b[49m\n\u001b[0;32m   1621\u001b[0m \u001b[43m        \u001b[49m\u001b[38;5;241;43m*\u001b[39;49m\u001b[38;5;241;43m*\u001b[39;49m\u001b[43mmodel_kwargs\u001b[49m\u001b[43m,\u001b[49m\n\u001b[0;32m   1622\u001b[0m \u001b[43m    \u001b[49m\u001b[43m)\u001b[49m\n\u001b[0;32m   1624\u001b[0m \u001b[38;5;28;01melif\u001b[39;00m is_beam_sample_gen_mode:\n\u001b[0;32m   1625\u001b[0m     \u001b[38;5;66;03m# 11. prepare logits warper\u001b[39;00m\n\u001b[0;32m   1626\u001b[0m     logits_warper \u001b[38;5;241m=\u001b[39m \u001b[38;5;28mself\u001b[39m\u001b[38;5;241m.\u001b[39m_get_logits_warper(generation_config)\n",
      "File \u001b[1;32m~\\PycharmProjects\\JupyterFiles\\SMX\\LDAenv\\LDAenv\\Lib\\site-packages\\transformers\\generation\\utils.py:2909\u001b[0m, in \u001b[0;36mGenerationMixin.beam_search\u001b[1;34m(self, input_ids, beam_scorer, logits_processor, stopping_criteria, max_length, pad_token_id, eos_token_id, output_attentions, output_hidden_states, output_scores, return_dict_in_generate, synced_gpus, **model_kwargs)\u001b[0m\n\u001b[0;32m   2905\u001b[0m         \u001b[38;5;28;01mbreak\u001b[39;00m\n\u001b[0;32m   2907\u001b[0m model_inputs \u001b[38;5;241m=\u001b[39m \u001b[38;5;28mself\u001b[39m\u001b[38;5;241m.\u001b[39mprepare_inputs_for_generation(input_ids, \u001b[38;5;241m*\u001b[39m\u001b[38;5;241m*\u001b[39mmodel_kwargs)\n\u001b[1;32m-> 2909\u001b[0m outputs \u001b[38;5;241m=\u001b[39m \u001b[38;5;28;43mself\u001b[39;49m\u001b[43m(\u001b[49m\n\u001b[0;32m   2910\u001b[0m \u001b[43m    \u001b[49m\u001b[38;5;241;43m*\u001b[39;49m\u001b[38;5;241;43m*\u001b[39;49m\u001b[43mmodel_inputs\u001b[49m\u001b[43m,\u001b[49m\n\u001b[0;32m   2911\u001b[0m \u001b[43m    \u001b[49m\u001b[43mreturn_dict\u001b[49m\u001b[38;5;241;43m=\u001b[39;49m\u001b[38;5;28;43;01mTrue\u001b[39;49;00m\u001b[43m,\u001b[49m\n\u001b[0;32m   2912\u001b[0m \u001b[43m    \u001b[49m\u001b[43moutput_attentions\u001b[49m\u001b[38;5;241;43m=\u001b[39;49m\u001b[43moutput_attentions\u001b[49m\u001b[43m,\u001b[49m\n\u001b[0;32m   2913\u001b[0m \u001b[43m    \u001b[49m\u001b[43moutput_hidden_states\u001b[49m\u001b[38;5;241;43m=\u001b[39;49m\u001b[43moutput_hidden_states\u001b[49m\u001b[43m,\u001b[49m\n\u001b[0;32m   2914\u001b[0m \u001b[43m\u001b[49m\u001b[43m)\u001b[49m\n\u001b[0;32m   2916\u001b[0m \u001b[38;5;28;01mif\u001b[39;00m synced_gpus \u001b[38;5;129;01mand\u001b[39;00m this_peer_finished:\n\u001b[0;32m   2917\u001b[0m     cur_len \u001b[38;5;241m=\u001b[39m cur_len \u001b[38;5;241m+\u001b[39m \u001b[38;5;241m1\u001b[39m\n",
      "File \u001b[1;32m~\\PycharmProjects\\JupyterFiles\\SMX\\LDAenv\\LDAenv\\Lib\\site-packages\\torch\\nn\\modules\\module.py:1501\u001b[0m, in \u001b[0;36mModule._call_impl\u001b[1;34m(self, *args, **kwargs)\u001b[0m\n\u001b[0;32m   1496\u001b[0m \u001b[38;5;66;03m# If we don't have any hooks, we want to skip the rest of the logic in\u001b[39;00m\n\u001b[0;32m   1497\u001b[0m \u001b[38;5;66;03m# this function, and just call forward.\u001b[39;00m\n\u001b[0;32m   1498\u001b[0m \u001b[38;5;28;01mif\u001b[39;00m \u001b[38;5;129;01mnot\u001b[39;00m (\u001b[38;5;28mself\u001b[39m\u001b[38;5;241m.\u001b[39m_backward_hooks \u001b[38;5;129;01mor\u001b[39;00m \u001b[38;5;28mself\u001b[39m\u001b[38;5;241m.\u001b[39m_backward_pre_hooks \u001b[38;5;129;01mor\u001b[39;00m \u001b[38;5;28mself\u001b[39m\u001b[38;5;241m.\u001b[39m_forward_hooks \u001b[38;5;129;01mor\u001b[39;00m \u001b[38;5;28mself\u001b[39m\u001b[38;5;241m.\u001b[39m_forward_pre_hooks\n\u001b[0;32m   1499\u001b[0m         \u001b[38;5;129;01mor\u001b[39;00m _global_backward_pre_hooks \u001b[38;5;129;01mor\u001b[39;00m _global_backward_hooks\n\u001b[0;32m   1500\u001b[0m         \u001b[38;5;129;01mor\u001b[39;00m _global_forward_hooks \u001b[38;5;129;01mor\u001b[39;00m _global_forward_pre_hooks):\n\u001b[1;32m-> 1501\u001b[0m     \u001b[38;5;28;01mreturn\u001b[39;00m \u001b[43mforward_call\u001b[49m\u001b[43m(\u001b[49m\u001b[38;5;241;43m*\u001b[39;49m\u001b[43margs\u001b[49m\u001b[43m,\u001b[49m\u001b[43m \u001b[49m\u001b[38;5;241;43m*\u001b[39;49m\u001b[38;5;241;43m*\u001b[39;49m\u001b[43mkwargs\u001b[49m\u001b[43m)\u001b[49m\n\u001b[0;32m   1502\u001b[0m \u001b[38;5;66;03m# Do not call functions when jit is used\u001b[39;00m\n\u001b[0;32m   1503\u001b[0m full_backward_hooks, non_full_backward_hooks \u001b[38;5;241m=\u001b[39m [], []\n",
      "File \u001b[1;32m~\\PycharmProjects\\JupyterFiles\\SMX\\LDAenv\\LDAenv\\Lib\\site-packages\\transformers\\models\\t5\\modeling_t5.py:1720\u001b[0m, in \u001b[0;36mT5ForConditionalGeneration.forward\u001b[1;34m(self, input_ids, attention_mask, decoder_input_ids, decoder_attention_mask, head_mask, decoder_head_mask, cross_attn_head_mask, encoder_outputs, past_key_values, inputs_embeds, decoder_inputs_embeds, labels, use_cache, output_attentions, output_hidden_states, return_dict)\u001b[0m\n\u001b[0;32m   1717\u001b[0m         decoder_attention_mask \u001b[38;5;241m=\u001b[39m decoder_attention_mask\u001b[38;5;241m.\u001b[39mto(\u001b[38;5;28mself\u001b[39m\u001b[38;5;241m.\u001b[39mdecoder\u001b[38;5;241m.\u001b[39mfirst_device)\n\u001b[0;32m   1719\u001b[0m \u001b[38;5;66;03m# Decode\u001b[39;00m\n\u001b[1;32m-> 1720\u001b[0m decoder_outputs \u001b[38;5;241m=\u001b[39m \u001b[38;5;28;43mself\u001b[39;49m\u001b[38;5;241;43m.\u001b[39;49m\u001b[43mdecoder\u001b[49m\u001b[43m(\u001b[49m\n\u001b[0;32m   1721\u001b[0m \u001b[43m    \u001b[49m\u001b[43minput_ids\u001b[49m\u001b[38;5;241;43m=\u001b[39;49m\u001b[43mdecoder_input_ids\u001b[49m\u001b[43m,\u001b[49m\n\u001b[0;32m   1722\u001b[0m \u001b[43m    \u001b[49m\u001b[43mattention_mask\u001b[49m\u001b[38;5;241;43m=\u001b[39;49m\u001b[43mdecoder_attention_mask\u001b[49m\u001b[43m,\u001b[49m\n\u001b[0;32m   1723\u001b[0m \u001b[43m    \u001b[49m\u001b[43minputs_embeds\u001b[49m\u001b[38;5;241;43m=\u001b[39;49m\u001b[43mdecoder_inputs_embeds\u001b[49m\u001b[43m,\u001b[49m\n\u001b[0;32m   1724\u001b[0m \u001b[43m    \u001b[49m\u001b[43mpast_key_values\u001b[49m\u001b[38;5;241;43m=\u001b[39;49m\u001b[43mpast_key_values\u001b[49m\u001b[43m,\u001b[49m\n\u001b[0;32m   1725\u001b[0m \u001b[43m    \u001b[49m\u001b[43mencoder_hidden_states\u001b[49m\u001b[38;5;241;43m=\u001b[39;49m\u001b[43mhidden_states\u001b[49m\u001b[43m,\u001b[49m\n\u001b[0;32m   1726\u001b[0m \u001b[43m    \u001b[49m\u001b[43mencoder_attention_mask\u001b[49m\u001b[38;5;241;43m=\u001b[39;49m\u001b[43mattention_mask\u001b[49m\u001b[43m,\u001b[49m\n\u001b[0;32m   1727\u001b[0m \u001b[43m    \u001b[49m\u001b[43mhead_mask\u001b[49m\u001b[38;5;241;43m=\u001b[39;49m\u001b[43mdecoder_head_mask\u001b[49m\u001b[43m,\u001b[49m\n\u001b[0;32m   1728\u001b[0m \u001b[43m    \u001b[49m\u001b[43mcross_attn_head_mask\u001b[49m\u001b[38;5;241;43m=\u001b[39;49m\u001b[43mcross_attn_head_mask\u001b[49m\u001b[43m,\u001b[49m\n\u001b[0;32m   1729\u001b[0m \u001b[43m    \u001b[49m\u001b[43muse_cache\u001b[49m\u001b[38;5;241;43m=\u001b[39;49m\u001b[43muse_cache\u001b[49m\u001b[43m,\u001b[49m\n\u001b[0;32m   1730\u001b[0m \u001b[43m    \u001b[49m\u001b[43moutput_attentions\u001b[49m\u001b[38;5;241;43m=\u001b[39;49m\u001b[43moutput_attentions\u001b[49m\u001b[43m,\u001b[49m\n\u001b[0;32m   1731\u001b[0m \u001b[43m    \u001b[49m\u001b[43moutput_hidden_states\u001b[49m\u001b[38;5;241;43m=\u001b[39;49m\u001b[43moutput_hidden_states\u001b[49m\u001b[43m,\u001b[49m\n\u001b[0;32m   1732\u001b[0m \u001b[43m    \u001b[49m\u001b[43mreturn_dict\u001b[49m\u001b[38;5;241;43m=\u001b[39;49m\u001b[43mreturn_dict\u001b[49m\u001b[43m,\u001b[49m\n\u001b[0;32m   1733\u001b[0m \u001b[43m\u001b[49m\u001b[43m)\u001b[49m\n\u001b[0;32m   1735\u001b[0m sequence_output \u001b[38;5;241m=\u001b[39m decoder_outputs[\u001b[38;5;241m0\u001b[39m]\n\u001b[0;32m   1737\u001b[0m \u001b[38;5;66;03m# Set device for model parallelism\u001b[39;00m\n",
      "File \u001b[1;32m~\\PycharmProjects\\JupyterFiles\\SMX\\LDAenv\\LDAenv\\Lib\\site-packages\\torch\\nn\\modules\\module.py:1501\u001b[0m, in \u001b[0;36mModule._call_impl\u001b[1;34m(self, *args, **kwargs)\u001b[0m\n\u001b[0;32m   1496\u001b[0m \u001b[38;5;66;03m# If we don't have any hooks, we want to skip the rest of the logic in\u001b[39;00m\n\u001b[0;32m   1497\u001b[0m \u001b[38;5;66;03m# this function, and just call forward.\u001b[39;00m\n\u001b[0;32m   1498\u001b[0m \u001b[38;5;28;01mif\u001b[39;00m \u001b[38;5;129;01mnot\u001b[39;00m (\u001b[38;5;28mself\u001b[39m\u001b[38;5;241m.\u001b[39m_backward_hooks \u001b[38;5;129;01mor\u001b[39;00m \u001b[38;5;28mself\u001b[39m\u001b[38;5;241m.\u001b[39m_backward_pre_hooks \u001b[38;5;129;01mor\u001b[39;00m \u001b[38;5;28mself\u001b[39m\u001b[38;5;241m.\u001b[39m_forward_hooks \u001b[38;5;129;01mor\u001b[39;00m \u001b[38;5;28mself\u001b[39m\u001b[38;5;241m.\u001b[39m_forward_pre_hooks\n\u001b[0;32m   1499\u001b[0m         \u001b[38;5;129;01mor\u001b[39;00m _global_backward_pre_hooks \u001b[38;5;129;01mor\u001b[39;00m _global_backward_hooks\n\u001b[0;32m   1500\u001b[0m         \u001b[38;5;129;01mor\u001b[39;00m _global_forward_hooks \u001b[38;5;129;01mor\u001b[39;00m _global_forward_pre_hooks):\n\u001b[1;32m-> 1501\u001b[0m     \u001b[38;5;28;01mreturn\u001b[39;00m \u001b[43mforward_call\u001b[49m\u001b[43m(\u001b[49m\u001b[38;5;241;43m*\u001b[39;49m\u001b[43margs\u001b[49m\u001b[43m,\u001b[49m\u001b[43m \u001b[49m\u001b[38;5;241;43m*\u001b[39;49m\u001b[38;5;241;43m*\u001b[39;49m\u001b[43mkwargs\u001b[49m\u001b[43m)\u001b[49m\n\u001b[0;32m   1502\u001b[0m \u001b[38;5;66;03m# Do not call functions when jit is used\u001b[39;00m\n\u001b[0;32m   1503\u001b[0m full_backward_hooks, non_full_backward_hooks \u001b[38;5;241m=\u001b[39m [], []\n",
      "File \u001b[1;32m~\\PycharmProjects\\JupyterFiles\\SMX\\LDAenv\\LDAenv\\Lib\\site-packages\\transformers\\models\\t5\\modeling_t5.py:1090\u001b[0m, in \u001b[0;36mT5Stack.forward\u001b[1;34m(self, input_ids, attention_mask, encoder_hidden_states, encoder_attention_mask, inputs_embeds, head_mask, cross_attn_head_mask, past_key_values, use_cache, output_attentions, output_hidden_states, return_dict)\u001b[0m\n\u001b[0;32m   1077\u001b[0m     layer_outputs \u001b[38;5;241m=\u001b[39m checkpoint(\n\u001b[0;32m   1078\u001b[0m         create_custom_forward(layer_module),\n\u001b[0;32m   1079\u001b[0m         hidden_states,\n\u001b[1;32m   (...)\u001b[0m\n\u001b[0;32m   1087\u001b[0m         \u001b[38;5;28;01mNone\u001b[39;00m,  \u001b[38;5;66;03m# past_key_value is always None with gradient checkpointing\u001b[39;00m\n\u001b[0;32m   1088\u001b[0m     )\n\u001b[0;32m   1089\u001b[0m \u001b[38;5;28;01melse\u001b[39;00m:\n\u001b[1;32m-> 1090\u001b[0m     layer_outputs \u001b[38;5;241m=\u001b[39m \u001b[43mlayer_module\u001b[49m\u001b[43m(\u001b[49m\n\u001b[0;32m   1091\u001b[0m \u001b[43m        \u001b[49m\u001b[43mhidden_states\u001b[49m\u001b[43m,\u001b[49m\n\u001b[0;32m   1092\u001b[0m \u001b[43m        \u001b[49m\u001b[43mattention_mask\u001b[49m\u001b[38;5;241;43m=\u001b[39;49m\u001b[43mextended_attention_mask\u001b[49m\u001b[43m,\u001b[49m\n\u001b[0;32m   1093\u001b[0m \u001b[43m        \u001b[49m\u001b[43mposition_bias\u001b[49m\u001b[38;5;241;43m=\u001b[39;49m\u001b[43mposition_bias\u001b[49m\u001b[43m,\u001b[49m\n\u001b[0;32m   1094\u001b[0m \u001b[43m        \u001b[49m\u001b[43mencoder_hidden_states\u001b[49m\u001b[38;5;241;43m=\u001b[39;49m\u001b[43mencoder_hidden_states\u001b[49m\u001b[43m,\u001b[49m\n\u001b[0;32m   1095\u001b[0m \u001b[43m        \u001b[49m\u001b[43mencoder_attention_mask\u001b[49m\u001b[38;5;241;43m=\u001b[39;49m\u001b[43mencoder_extended_attention_mask\u001b[49m\u001b[43m,\u001b[49m\n\u001b[0;32m   1096\u001b[0m \u001b[43m        \u001b[49m\u001b[43mencoder_decoder_position_bias\u001b[49m\u001b[38;5;241;43m=\u001b[39;49m\u001b[43mencoder_decoder_position_bias\u001b[49m\u001b[43m,\u001b[49m\n\u001b[0;32m   1097\u001b[0m \u001b[43m        \u001b[49m\u001b[43mlayer_head_mask\u001b[49m\u001b[38;5;241;43m=\u001b[39;49m\u001b[43mlayer_head_mask\u001b[49m\u001b[43m,\u001b[49m\n\u001b[0;32m   1098\u001b[0m \u001b[43m        \u001b[49m\u001b[43mcross_attn_layer_head_mask\u001b[49m\u001b[38;5;241;43m=\u001b[39;49m\u001b[43mcross_attn_layer_head_mask\u001b[49m\u001b[43m,\u001b[49m\n\u001b[0;32m   1099\u001b[0m \u001b[43m        \u001b[49m\u001b[43mpast_key_value\u001b[49m\u001b[38;5;241;43m=\u001b[39;49m\u001b[43mpast_key_value\u001b[49m\u001b[43m,\u001b[49m\n\u001b[0;32m   1100\u001b[0m \u001b[43m        \u001b[49m\u001b[43muse_cache\u001b[49m\u001b[38;5;241;43m=\u001b[39;49m\u001b[43muse_cache\u001b[49m\u001b[43m,\u001b[49m\n\u001b[0;32m   1101\u001b[0m \u001b[43m        \u001b[49m\u001b[43moutput_attentions\u001b[49m\u001b[38;5;241;43m=\u001b[39;49m\u001b[43moutput_attentions\u001b[49m\u001b[43m,\u001b[49m\n\u001b[0;32m   1102\u001b[0m \u001b[43m    \u001b[49m\u001b[43m)\u001b[49m\n\u001b[0;32m   1104\u001b[0m \u001b[38;5;66;03m# layer_outputs is a tuple with:\u001b[39;00m\n\u001b[0;32m   1105\u001b[0m \u001b[38;5;66;03m# hidden-states, key-value-states, (self-attention position bias), (self-attention weights), (cross-attention position bias), (cross-attention weights)\u001b[39;00m\n\u001b[0;32m   1106\u001b[0m \u001b[38;5;28;01mif\u001b[39;00m use_cache \u001b[38;5;129;01mis\u001b[39;00m \u001b[38;5;28;01mFalse\u001b[39;00m:\n",
      "File \u001b[1;32m~\\PycharmProjects\\JupyterFiles\\SMX\\LDAenv\\LDAenv\\Lib\\site-packages\\torch\\nn\\modules\\module.py:1501\u001b[0m, in \u001b[0;36mModule._call_impl\u001b[1;34m(self, *args, **kwargs)\u001b[0m\n\u001b[0;32m   1496\u001b[0m \u001b[38;5;66;03m# If we don't have any hooks, we want to skip the rest of the logic in\u001b[39;00m\n\u001b[0;32m   1497\u001b[0m \u001b[38;5;66;03m# this function, and just call forward.\u001b[39;00m\n\u001b[0;32m   1498\u001b[0m \u001b[38;5;28;01mif\u001b[39;00m \u001b[38;5;129;01mnot\u001b[39;00m (\u001b[38;5;28mself\u001b[39m\u001b[38;5;241m.\u001b[39m_backward_hooks \u001b[38;5;129;01mor\u001b[39;00m \u001b[38;5;28mself\u001b[39m\u001b[38;5;241m.\u001b[39m_backward_pre_hooks \u001b[38;5;129;01mor\u001b[39;00m \u001b[38;5;28mself\u001b[39m\u001b[38;5;241m.\u001b[39m_forward_hooks \u001b[38;5;129;01mor\u001b[39;00m \u001b[38;5;28mself\u001b[39m\u001b[38;5;241m.\u001b[39m_forward_pre_hooks\n\u001b[0;32m   1499\u001b[0m         \u001b[38;5;129;01mor\u001b[39;00m _global_backward_pre_hooks \u001b[38;5;129;01mor\u001b[39;00m _global_backward_hooks\n\u001b[0;32m   1500\u001b[0m         \u001b[38;5;129;01mor\u001b[39;00m _global_forward_hooks \u001b[38;5;129;01mor\u001b[39;00m _global_forward_pre_hooks):\n\u001b[1;32m-> 1501\u001b[0m     \u001b[38;5;28;01mreturn\u001b[39;00m \u001b[43mforward_call\u001b[49m\u001b[43m(\u001b[49m\u001b[38;5;241;43m*\u001b[39;49m\u001b[43margs\u001b[49m\u001b[43m,\u001b[49m\u001b[43m \u001b[49m\u001b[38;5;241;43m*\u001b[39;49m\u001b[38;5;241;43m*\u001b[39;49m\u001b[43mkwargs\u001b[49m\u001b[43m)\u001b[49m\n\u001b[0;32m   1502\u001b[0m \u001b[38;5;66;03m# Do not call functions when jit is used\u001b[39;00m\n\u001b[0;32m   1503\u001b[0m full_backward_hooks, non_full_backward_hooks \u001b[38;5;241m=\u001b[39m [], []\n",
      "File \u001b[1;32m~\\PycharmProjects\\JupyterFiles\\SMX\\LDAenv\\LDAenv\\Lib\\site-packages\\transformers\\models\\t5\\modeling_t5.py:693\u001b[0m, in \u001b[0;36mT5Block.forward\u001b[1;34m(self, hidden_states, attention_mask, position_bias, encoder_hidden_states, encoder_attention_mask, encoder_decoder_position_bias, layer_head_mask, cross_attn_layer_head_mask, past_key_value, use_cache, output_attentions, return_dict)\u001b[0m\n\u001b[0;32m    690\u001b[0m \u001b[38;5;28;01melse\u001b[39;00m:\n\u001b[0;32m    691\u001b[0m     self_attn_past_key_value, cross_attn_past_key_value \u001b[38;5;241m=\u001b[39m \u001b[38;5;28;01mNone\u001b[39;00m, \u001b[38;5;28;01mNone\u001b[39;00m\n\u001b[1;32m--> 693\u001b[0m self_attention_outputs \u001b[38;5;241m=\u001b[39m \u001b[38;5;28;43mself\u001b[39;49m\u001b[38;5;241;43m.\u001b[39;49m\u001b[43mlayer\u001b[49m\u001b[43m[\u001b[49m\u001b[38;5;241;43m0\u001b[39;49m\u001b[43m]\u001b[49m\u001b[43m(\u001b[49m\n\u001b[0;32m    694\u001b[0m \u001b[43m    \u001b[49m\u001b[43mhidden_states\u001b[49m\u001b[43m,\u001b[49m\n\u001b[0;32m    695\u001b[0m \u001b[43m    \u001b[49m\u001b[43mattention_mask\u001b[49m\u001b[38;5;241;43m=\u001b[39;49m\u001b[43mattention_mask\u001b[49m\u001b[43m,\u001b[49m\n\u001b[0;32m    696\u001b[0m \u001b[43m    \u001b[49m\u001b[43mposition_bias\u001b[49m\u001b[38;5;241;43m=\u001b[39;49m\u001b[43mposition_bias\u001b[49m\u001b[43m,\u001b[49m\n\u001b[0;32m    697\u001b[0m \u001b[43m    \u001b[49m\u001b[43mlayer_head_mask\u001b[49m\u001b[38;5;241;43m=\u001b[39;49m\u001b[43mlayer_head_mask\u001b[49m\u001b[43m,\u001b[49m\n\u001b[0;32m    698\u001b[0m \u001b[43m    \u001b[49m\u001b[43mpast_key_value\u001b[49m\u001b[38;5;241;43m=\u001b[39;49m\u001b[43mself_attn_past_key_value\u001b[49m\u001b[43m,\u001b[49m\n\u001b[0;32m    699\u001b[0m \u001b[43m    \u001b[49m\u001b[43muse_cache\u001b[49m\u001b[38;5;241;43m=\u001b[39;49m\u001b[43muse_cache\u001b[49m\u001b[43m,\u001b[49m\n\u001b[0;32m    700\u001b[0m \u001b[43m    \u001b[49m\u001b[43moutput_attentions\u001b[49m\u001b[38;5;241;43m=\u001b[39;49m\u001b[43moutput_attentions\u001b[49m\u001b[43m,\u001b[49m\n\u001b[0;32m    701\u001b[0m \u001b[43m\u001b[49m\u001b[43m)\u001b[49m\n\u001b[0;32m    702\u001b[0m hidden_states, present_key_value_state \u001b[38;5;241m=\u001b[39m self_attention_outputs[:\u001b[38;5;241m2\u001b[39m]\n\u001b[0;32m    703\u001b[0m attention_outputs \u001b[38;5;241m=\u001b[39m self_attention_outputs[\u001b[38;5;241m2\u001b[39m:]  \u001b[38;5;66;03m# Keep self-attention outputs and relative position weights\u001b[39;00m\n",
      "File \u001b[1;32m~\\PycharmProjects\\JupyterFiles\\SMX\\LDAenv\\LDAenv\\Lib\\site-packages\\torch\\nn\\modules\\module.py:1501\u001b[0m, in \u001b[0;36mModule._call_impl\u001b[1;34m(self, *args, **kwargs)\u001b[0m\n\u001b[0;32m   1496\u001b[0m \u001b[38;5;66;03m# If we don't have any hooks, we want to skip the rest of the logic in\u001b[39;00m\n\u001b[0;32m   1497\u001b[0m \u001b[38;5;66;03m# this function, and just call forward.\u001b[39;00m\n\u001b[0;32m   1498\u001b[0m \u001b[38;5;28;01mif\u001b[39;00m \u001b[38;5;129;01mnot\u001b[39;00m (\u001b[38;5;28mself\u001b[39m\u001b[38;5;241m.\u001b[39m_backward_hooks \u001b[38;5;129;01mor\u001b[39;00m \u001b[38;5;28mself\u001b[39m\u001b[38;5;241m.\u001b[39m_backward_pre_hooks \u001b[38;5;129;01mor\u001b[39;00m \u001b[38;5;28mself\u001b[39m\u001b[38;5;241m.\u001b[39m_forward_hooks \u001b[38;5;129;01mor\u001b[39;00m \u001b[38;5;28mself\u001b[39m\u001b[38;5;241m.\u001b[39m_forward_pre_hooks\n\u001b[0;32m   1499\u001b[0m         \u001b[38;5;129;01mor\u001b[39;00m _global_backward_pre_hooks \u001b[38;5;129;01mor\u001b[39;00m _global_backward_hooks\n\u001b[0;32m   1500\u001b[0m         \u001b[38;5;129;01mor\u001b[39;00m _global_forward_hooks \u001b[38;5;129;01mor\u001b[39;00m _global_forward_pre_hooks):\n\u001b[1;32m-> 1501\u001b[0m     \u001b[38;5;28;01mreturn\u001b[39;00m \u001b[43mforward_call\u001b[49m\u001b[43m(\u001b[49m\u001b[38;5;241;43m*\u001b[39;49m\u001b[43margs\u001b[49m\u001b[43m,\u001b[49m\u001b[43m \u001b[49m\u001b[38;5;241;43m*\u001b[39;49m\u001b[38;5;241;43m*\u001b[39;49m\u001b[43mkwargs\u001b[49m\u001b[43m)\u001b[49m\n\u001b[0;32m   1502\u001b[0m \u001b[38;5;66;03m# Do not call functions when jit is used\u001b[39;00m\n\u001b[0;32m   1503\u001b[0m full_backward_hooks, non_full_backward_hooks \u001b[38;5;241m=\u001b[39m [], []\n",
      "File \u001b[1;32m~\\PycharmProjects\\JupyterFiles\\SMX\\LDAenv\\LDAenv\\Lib\\site-packages\\transformers\\models\\t5\\modeling_t5.py:600\u001b[0m, in \u001b[0;36mT5LayerSelfAttention.forward\u001b[1;34m(self, hidden_states, attention_mask, position_bias, layer_head_mask, past_key_value, use_cache, output_attentions)\u001b[0m\n\u001b[0;32m    589\u001b[0m \u001b[38;5;28;01mdef\u001b[39;00m \u001b[38;5;21mforward\u001b[39m(\n\u001b[0;32m    590\u001b[0m     \u001b[38;5;28mself\u001b[39m,\n\u001b[0;32m    591\u001b[0m     hidden_states,\n\u001b[1;32m   (...)\u001b[0m\n\u001b[0;32m    597\u001b[0m     output_attentions\u001b[38;5;241m=\u001b[39m\u001b[38;5;28;01mFalse\u001b[39;00m,\n\u001b[0;32m    598\u001b[0m ):\n\u001b[0;32m    599\u001b[0m     normed_hidden_states \u001b[38;5;241m=\u001b[39m \u001b[38;5;28mself\u001b[39m\u001b[38;5;241m.\u001b[39mlayer_norm(hidden_states)\n\u001b[1;32m--> 600\u001b[0m     attention_output \u001b[38;5;241m=\u001b[39m \u001b[38;5;28;43mself\u001b[39;49m\u001b[38;5;241;43m.\u001b[39;49m\u001b[43mSelfAttention\u001b[49m\u001b[43m(\u001b[49m\n\u001b[0;32m    601\u001b[0m \u001b[43m        \u001b[49m\u001b[43mnormed_hidden_states\u001b[49m\u001b[43m,\u001b[49m\n\u001b[0;32m    602\u001b[0m \u001b[43m        \u001b[49m\u001b[43mmask\u001b[49m\u001b[38;5;241;43m=\u001b[39;49m\u001b[43mattention_mask\u001b[49m\u001b[43m,\u001b[49m\n\u001b[0;32m    603\u001b[0m \u001b[43m        \u001b[49m\u001b[43mposition_bias\u001b[49m\u001b[38;5;241;43m=\u001b[39;49m\u001b[43mposition_bias\u001b[49m\u001b[43m,\u001b[49m\n\u001b[0;32m    604\u001b[0m \u001b[43m        \u001b[49m\u001b[43mlayer_head_mask\u001b[49m\u001b[38;5;241;43m=\u001b[39;49m\u001b[43mlayer_head_mask\u001b[49m\u001b[43m,\u001b[49m\n\u001b[0;32m    605\u001b[0m \u001b[43m        \u001b[49m\u001b[43mpast_key_value\u001b[49m\u001b[38;5;241;43m=\u001b[39;49m\u001b[43mpast_key_value\u001b[49m\u001b[43m,\u001b[49m\n\u001b[0;32m    606\u001b[0m \u001b[43m        \u001b[49m\u001b[43muse_cache\u001b[49m\u001b[38;5;241;43m=\u001b[39;49m\u001b[43muse_cache\u001b[49m\u001b[43m,\u001b[49m\n\u001b[0;32m    607\u001b[0m \u001b[43m        \u001b[49m\u001b[43moutput_attentions\u001b[49m\u001b[38;5;241;43m=\u001b[39;49m\u001b[43moutput_attentions\u001b[49m\u001b[43m,\u001b[49m\n\u001b[0;32m    608\u001b[0m \u001b[43m    \u001b[49m\u001b[43m)\u001b[49m\n\u001b[0;32m    609\u001b[0m     hidden_states \u001b[38;5;241m=\u001b[39m hidden_states \u001b[38;5;241m+\u001b[39m \u001b[38;5;28mself\u001b[39m\u001b[38;5;241m.\u001b[39mdropout(attention_output[\u001b[38;5;241m0\u001b[39m])\n\u001b[0;32m    610\u001b[0m     outputs \u001b[38;5;241m=\u001b[39m (hidden_states,) \u001b[38;5;241m+\u001b[39m attention_output[\u001b[38;5;241m1\u001b[39m:]  \u001b[38;5;66;03m# add attentions if we output them\u001b[39;00m\n",
      "File \u001b[1;32m~\\PycharmProjects\\JupyterFiles\\SMX\\LDAenv\\LDAenv\\Lib\\site-packages\\torch\\nn\\modules\\module.py:1501\u001b[0m, in \u001b[0;36mModule._call_impl\u001b[1;34m(self, *args, **kwargs)\u001b[0m\n\u001b[0;32m   1496\u001b[0m \u001b[38;5;66;03m# If we don't have any hooks, we want to skip the rest of the logic in\u001b[39;00m\n\u001b[0;32m   1497\u001b[0m \u001b[38;5;66;03m# this function, and just call forward.\u001b[39;00m\n\u001b[0;32m   1498\u001b[0m \u001b[38;5;28;01mif\u001b[39;00m \u001b[38;5;129;01mnot\u001b[39;00m (\u001b[38;5;28mself\u001b[39m\u001b[38;5;241m.\u001b[39m_backward_hooks \u001b[38;5;129;01mor\u001b[39;00m \u001b[38;5;28mself\u001b[39m\u001b[38;5;241m.\u001b[39m_backward_pre_hooks \u001b[38;5;129;01mor\u001b[39;00m \u001b[38;5;28mself\u001b[39m\u001b[38;5;241m.\u001b[39m_forward_hooks \u001b[38;5;129;01mor\u001b[39;00m \u001b[38;5;28mself\u001b[39m\u001b[38;5;241m.\u001b[39m_forward_pre_hooks\n\u001b[0;32m   1499\u001b[0m         \u001b[38;5;129;01mor\u001b[39;00m _global_backward_pre_hooks \u001b[38;5;129;01mor\u001b[39;00m _global_backward_hooks\n\u001b[0;32m   1500\u001b[0m         \u001b[38;5;129;01mor\u001b[39;00m _global_forward_hooks \u001b[38;5;129;01mor\u001b[39;00m _global_forward_pre_hooks):\n\u001b[1;32m-> 1501\u001b[0m     \u001b[38;5;28;01mreturn\u001b[39;00m \u001b[43mforward_call\u001b[49m\u001b[43m(\u001b[49m\u001b[38;5;241;43m*\u001b[39;49m\u001b[43margs\u001b[49m\u001b[43m,\u001b[49m\u001b[43m \u001b[49m\u001b[38;5;241;43m*\u001b[39;49m\u001b[38;5;241;43m*\u001b[39;49m\u001b[43mkwargs\u001b[49m\u001b[43m)\u001b[49m\n\u001b[0;32m   1502\u001b[0m \u001b[38;5;66;03m# Do not call functions when jit is used\u001b[39;00m\n\u001b[0;32m   1503\u001b[0m full_backward_hooks, non_full_backward_hooks \u001b[38;5;241m=\u001b[39m [], []\n",
      "File \u001b[1;32m~\\PycharmProjects\\JupyterFiles\\SMX\\LDAenv\\LDAenv\\Lib\\site-packages\\transformers\\models\\t5\\modeling_t5.py:519\u001b[0m, in \u001b[0;36mT5Attention.forward\u001b[1;34m(self, hidden_states, mask, key_value_states, position_bias, past_key_value, layer_head_mask, query_length, use_cache, output_attentions)\u001b[0m\n\u001b[0;32m    516\u001b[0m     \u001b[38;5;28;01mreturn\u001b[39;00m hidden_states\n\u001b[0;32m    518\u001b[0m \u001b[38;5;66;03m# get query states\u001b[39;00m\n\u001b[1;32m--> 519\u001b[0m query_states \u001b[38;5;241m=\u001b[39m shape(\u001b[38;5;28;43mself\u001b[39;49m\u001b[38;5;241;43m.\u001b[39;49m\u001b[43mq\u001b[49m\u001b[43m(\u001b[49m\u001b[43mhidden_states\u001b[49m\u001b[43m)\u001b[49m)  \u001b[38;5;66;03m# (batch_size, n_heads, seq_length, dim_per_head)\u001b[39;00m\n\u001b[0;32m    521\u001b[0m \u001b[38;5;66;03m# get key/value states\u001b[39;00m\n\u001b[0;32m    522\u001b[0m key_states \u001b[38;5;241m=\u001b[39m project(\n\u001b[0;32m    523\u001b[0m     hidden_states, \u001b[38;5;28mself\u001b[39m\u001b[38;5;241m.\u001b[39mk, key_value_states, past_key_value[\u001b[38;5;241m0\u001b[39m] \u001b[38;5;28;01mif\u001b[39;00m past_key_value \u001b[38;5;129;01mis\u001b[39;00m \u001b[38;5;129;01mnot\u001b[39;00m \u001b[38;5;28;01mNone\u001b[39;00m \u001b[38;5;28;01melse\u001b[39;00m \u001b[38;5;28;01mNone\u001b[39;00m\n\u001b[0;32m    524\u001b[0m )\n",
      "File \u001b[1;32m~\\PycharmProjects\\JupyterFiles\\SMX\\LDAenv\\LDAenv\\Lib\\site-packages\\torch\\nn\\modules\\module.py:1501\u001b[0m, in \u001b[0;36mModule._call_impl\u001b[1;34m(self, *args, **kwargs)\u001b[0m\n\u001b[0;32m   1496\u001b[0m \u001b[38;5;66;03m# If we don't have any hooks, we want to skip the rest of the logic in\u001b[39;00m\n\u001b[0;32m   1497\u001b[0m \u001b[38;5;66;03m# this function, and just call forward.\u001b[39;00m\n\u001b[0;32m   1498\u001b[0m \u001b[38;5;28;01mif\u001b[39;00m \u001b[38;5;129;01mnot\u001b[39;00m (\u001b[38;5;28mself\u001b[39m\u001b[38;5;241m.\u001b[39m_backward_hooks \u001b[38;5;129;01mor\u001b[39;00m \u001b[38;5;28mself\u001b[39m\u001b[38;5;241m.\u001b[39m_backward_pre_hooks \u001b[38;5;129;01mor\u001b[39;00m \u001b[38;5;28mself\u001b[39m\u001b[38;5;241m.\u001b[39m_forward_hooks \u001b[38;5;129;01mor\u001b[39;00m \u001b[38;5;28mself\u001b[39m\u001b[38;5;241m.\u001b[39m_forward_pre_hooks\n\u001b[0;32m   1499\u001b[0m         \u001b[38;5;129;01mor\u001b[39;00m _global_backward_pre_hooks \u001b[38;5;129;01mor\u001b[39;00m _global_backward_hooks\n\u001b[0;32m   1500\u001b[0m         \u001b[38;5;129;01mor\u001b[39;00m _global_forward_hooks \u001b[38;5;129;01mor\u001b[39;00m _global_forward_pre_hooks):\n\u001b[1;32m-> 1501\u001b[0m     \u001b[38;5;28;01mreturn\u001b[39;00m \u001b[43mforward_call\u001b[49m\u001b[43m(\u001b[49m\u001b[38;5;241;43m*\u001b[39;49m\u001b[43margs\u001b[49m\u001b[43m,\u001b[49m\u001b[43m \u001b[49m\u001b[38;5;241;43m*\u001b[39;49m\u001b[38;5;241;43m*\u001b[39;49m\u001b[43mkwargs\u001b[49m\u001b[43m)\u001b[49m\n\u001b[0;32m   1502\u001b[0m \u001b[38;5;66;03m# Do not call functions when jit is used\u001b[39;00m\n\u001b[0;32m   1503\u001b[0m full_backward_hooks, non_full_backward_hooks \u001b[38;5;241m=\u001b[39m [], []\n",
      "File \u001b[1;32m~\\PycharmProjects\\JupyterFiles\\SMX\\LDAenv\\LDAenv\\Lib\\site-packages\\torch\\nn\\modules\\linear.py:114\u001b[0m, in \u001b[0;36mLinear.forward\u001b[1;34m(self, input)\u001b[0m\n\u001b[0;32m    113\u001b[0m \u001b[38;5;28;01mdef\u001b[39;00m \u001b[38;5;21mforward\u001b[39m(\u001b[38;5;28mself\u001b[39m, \u001b[38;5;28minput\u001b[39m: Tensor) \u001b[38;5;241m-\u001b[39m\u001b[38;5;241m>\u001b[39m Tensor:\n\u001b[1;32m--> 114\u001b[0m     \u001b[38;5;28;01mreturn\u001b[39;00m \u001b[43mF\u001b[49m\u001b[38;5;241;43m.\u001b[39;49m\u001b[43mlinear\u001b[49m\u001b[43m(\u001b[49m\u001b[38;5;28;43minput\u001b[39;49m\u001b[43m,\u001b[49m\u001b[43m \u001b[49m\u001b[38;5;28;43mself\u001b[39;49m\u001b[38;5;241;43m.\u001b[39;49m\u001b[43mweight\u001b[49m\u001b[43m,\u001b[49m\u001b[43m \u001b[49m\u001b[38;5;28;43mself\u001b[39;49m\u001b[38;5;241;43m.\u001b[39;49m\u001b[43mbias\u001b[49m\u001b[43m)\u001b[49m\n",
      "\u001b[1;31mKeyboardInterrupt\u001b[0m: "
     ]
    }
   ],
   "source": [
    "\n",
    "topic_names = []\n",
    "#generate a name for each topic in topics\n",
    "for topic_num in range(num_of_topics):\n",
    "    topic_names.append(generate_topic_label([data[i] for i,per in topics_sorted[topic_num]]))\n",
    "    print(topic_names[topic_num])\n",
    "\n",
    "print(topic_names)"
   ]
  },
  {
   "cell_type": "code",
   "execution_count": 46,
   "id": "df560a0b",
   "metadata": {},
   "outputs": [],
   "source": [
    "# bring in the T5 model\n",
    "tokenizer = T5Tokenizer.from_pretrained(\"google/flan-t5-large\")\n",
    "model = T5ForConditionalGeneration.from_pretrained(\"google/flan-t5-large\", device_map=\"auto\")\n"
   ]
  },
  {
   "cell_type": "code",
   "execution_count": 32,
   "id": "5711cc9d",
   "metadata": {},
   "outputs": [],
   "source": [
    "#first, use a random selection of X number of keywords to generate 10 possible topics:\n",
    "def gen_headlines(keywords,number_of_keywords=20,number_of_headlines=10):\n",
    "    headlines = []\n",
    "    for i in range(number_of_headlines):\n",
    "        #randomly generate list with topics that are more relevent being more likely to apperar\n",
    "        instance_keywords = random.choices([words for words,percent in keywords], weights=[percent for words,percent in keywords],k= number_of_keywords)\n",
    "#         print(topics[0])\n",
    "#         print(test_keywords)\n",
    "\n",
    "        input_text = \"create a topic given the following keywords: '\" + \", \".join(instance_keywords) + \"'\"\n",
    "        input_ids = tokenizer(input_text, return_tensors=\"pt\").input_ids.to(\"cuda\")\n",
    "\n",
    "        outputs = model.generate(input_ids)\n",
    "\n",
    "        # then use those topics to create one general topic\n",
    "        headline = tokenizer.decode(outputs[0])\n",
    "        \n",
    "        # removes the html (<> padding) before and after result\n",
    "        headline = re.sub(r'^<.{1,5}>|<.{0,5}$','',headline).strip()\n",
    "        headlines.append(headline)\n",
    "    return headlines\n"
   ]
  },
  {
   "cell_type": "markdown",
   "id": "d80b8bfd",
   "metadata": {},
   "source": [
    "The following code uses something called a \"cosine similarity matrix\" to decide which topic best suits the keywords based on each headline's similairty to each other, more can be found here: https://medium.com/simula-consulting-deep-tech-consultancy/automatic-topic-labelling-using-nlp-1b92de15edcc\n"
   ]
  },
  {
   "cell_type": "code",
   "execution_count": 33,
   "id": "5c214795",
   "metadata": {},
   "outputs": [],
   "source": [
    "from bertopic import BERTopic\n",
    "\n",
    "import numpy as np\n",
    "from sklearn.metrics.pairwise import cosine_similarity\n",
    "\n",
    "def measure_similarity_of_topic(topic_labels):\n",
    "  embedding = topic_model.embedding_model.embed(topic_labels)\n",
    "  similarity_matrix = cosine_similarity(embedding)\n",
    "  \n",
    "  top_label = topic_labels[np.argmax(np.sum(similarity_matrix, axis=1))]\n",
    "    \n",
    "  # scoring topic\n",
    "  triu_mat = np.triu(similarity_matrix, k=1)\n",
    "  score = np.mean(triu_mat[np.nonzero(triu_mat)])\n",
    "  \n",
    "  return similarity_matrix, top_label, score\n"
   ]
  },
  {
   "cell_type": "code",
   "execution_count": 48,
   "id": "f5fe3328",
   "metadata": {},
   "outputs": [
    {
     "name": "stdout",
     "output_type": "stream",
     "text": [
      "a soldier numst deploys to a unit for the first time in his\n",
      "armed forces team provides information and support to soldiers during exercise numst.\n",
      "military gets people to help with mission also provides support to families and members of the military\n",
      "numst need for other soldiers also need to work\n",
      "soldiers maintain a well-defined perimeter around the unit to help prevent the formation of clouds and\n",
      "soldier says he is continuing to help soldiers and says he is proud to be part of\n",
      "data and capability to provide the skills and capabilities required for the future in the field of work\n"
     ]
    }
   ],
   "source": [
    "#generate headlines\n",
    "topic_names = []\n",
    "for topic in topics:\n",
    "    headlines = gen_headlines(topic,number_of_keywords=10,number_of_headlines=10)\n",
    "    # use the similarity to topic score\n",
    "    simi, top_lab, score = measure_similarity_of_topic(headlines)\n",
    "    \n",
    "    topic_names.append(top_lab)\n",
    "    print(top_lab)"
   ]
  },
  {
   "cell_type": "code",
   "execution_count": 36,
   "id": "a61be808",
   "metadata": {},
   "outputs": [],
   "source": [
    "# displays some random articles from a given topic\n",
    "# input: list of article indexes\n",
    "# k: number of articles to show\n",
    "def get_articles_from_topic(data,article_indexes,k=3):\n",
    "    for article in sample(article_indexes,k=k):\n",
    "        print(data[article])\n",
    "    "
   ]
  },
  {
   "cell_type": "code",
   "execution_count": 40,
   "id": "0af28880",
   "metadata": {},
   "outputs": [
    {
     "name": "stdout",
     "output_type": "stream",
     "text": [
      "FORT SHAFTER  The 8th Human Resources Sustainment Center, 8th Theater Sustainment Commands casualty operations division conducted its first ever training exercise to assess their casualty reporting capabilities within the Indo-Pacific Command area of operations, from Jan. 17-21. The training exercise simulated wartime conditions for the 8th HRSC for Soldiers and leadership to rehearse casualty reports to brigade and division level echelons.\n",
      "\n",
      "The 3-day exercise consisted of battle drills designed to increase the human resources Soldiers proficiency using the Defense Casualty Information Processing System, the single authorized system for casualty reporting in the Department of Defense. The unit also utilized excel spreadsheets to report casualties within a 12-hour window via email.\n",
      "\n",
      "Sgt. Jonathan Sonnier, a human resources specialist from the casualty operations division, 8th HRSC, played a key role in helping the team achieve success by processing casualty packets in DCIPS, which helped him learn more about his job.\n",
      "\n",
      "I came from an infantry unit where I was working in a lower echelon creating packets and field trainings, but didnt know where they were going, said Sonnier. So to be here in this unit with my team, I get to actually see the full scope on where these packets are going and understand the process that goes behind it.\n",
      "\n",
      "The casualty operations division simulated a full Theater Casualty Assistance Center using two floors of their office building on Fort Shafter to complete the training throughout the week. Brigade level operations personnel worked on the first floor with division level troops situated on the top floor. The exercise provided a learning experience for the human resources professionals to hone the skills needed in a deployed environment.\n",
      "\n",
      "Chief Warrant Officer 3 Alimameh Fatty, casualty operations division chief, supervised the teams progress as they collaborated with one another to successfully conduct operations normally applied in a theater of war.\n",
      "\n",
      "Theres not too many times that we get a deployment opportunity as a HRSC to do our job now a day, so the next best thing for us is to hone our proficiency in our battle drills while in garrison, said Fatty. Whenever the balloon goes up we will be ready to execute.\n",
      "\n",
      "HRSC trained their human resource professionals to remain technically and tactically proficient in all aspects of casualty reporting. The unit conducted drills that are crucial in a combat theater for the accountability of Soldiers, Department of the Army Civilians, and contractors. The Soldiers of the HRSC displayed their commitment to remain always ready when called upon and showed how the 8th TSC leads teams at every echelon.\n",
      "\n",
      "\n",
      "FORT KNOX, Ky.  U.S. Army dining facilities, also known as warrior restaurants or DFACs, provide an average of over 222,000 meals per day, worldwide. DFACs serve to supply the Armys warfighters with nutritious food in a safe and sanitary manner so that Soldiers can train and fight to the best of their ability.\n",
      "\n",
      "U.S. Army Sustainment Command oversees and operates 185 DFACs across the ASC food service enterprise. It is important that quality assurance evaluators are trained and informed on the performance readiness standards  or PRS  put in place to maintain safe and sanitary operations at all DFACs.\n",
      "\n",
      "It doesnt matter how big the installation is or how small the installation is, the Soldier gets the same quality, said Craig Schwartz, a Food Program analyst located at ASC Headquarters at Rock Island Arsenal, Ill. Whether theyre at Fort Knox, Kentucky, or at Fort Bragg (North Carolina) or at Natick (Soldier Systems Center, Massachusetts), we have the same standard, the same food, and it&#39;s as safe as it is anywhere across the Army.\n",
      "\n",
      "A group of 11 ASC food service employees met at Fort Knox April 10-14 to update these standards and record training videos, which will serve to train incoming QAEs, contracting officer representatives, and food program managers on how to inspect DFACs properly.\n",
      "\n",
      "By bringing food service employees together from a variety of installations including RIA; Fort Bragg; Fort McCoy, Wisconsin; Fort Benning, Georgia; Fort Novosel (formerly Rucker), Alabama; Fort Knox; Fort Hood, Texas; and Camp Parks, California, they were able to use a variety of experience and knowledge to create the most versatile PRSs that can apply to all of ASCs DFACs across the Army.\n",
      "\n",
      "Its important to standardize DFAC evaluations so that no matter where a QAE goes, if they transfer to a different place, it&#39;s the same standards for the DFAC no matter what, said Wade Froehlich, ASC HQ food service analyst. Now, were setting a standard to show them that we inspect the same no matter what area of the U.S. or across our enterprise.\n",
      "\n",
      "After the 12 standards were established, training videos were recorded.\n",
      "\n",
      "These training videos cover many topics including cleaning and sanitizing food service equipment and surfaces; washing, rinsing and sanitizing pots and pans in three-compartment sinks; operating and maintaining mechanical dishwasher machines; cleaning and maintaining dining facility interior and exterior areas; maintaining and preparing dining room service areas; furnishing and maintaining expendable cleaning and sanitary supplies; establishing and maintaining administration operations; maintaining automated and manual headcount procedures; managing, maintaining and accounting for government subsistence; food preparation; and safeguarding and serving food.\n",
      "\n",
      "Both non-operational and operational DFACs were used to record these training videos.\n",
      "\n",
      "The videos serve to explain the standards, as well as the subcategories of critical standards and other standards involved in each PRS, and how to properly conduct the inspection and determine whether a PRS is satisfactory or defective.\n",
      "\n",
      "I think these training videos show that were a learning organization. Were trying to teach the QAEs and CORs and FPMs what the standard is so that they can build and improve upon that, Schwartz said of the benefit of the training videos. If they dont have a firm foundation of what our contract is saying and how we have to inspect them and what our outcomes are, were never going to get better. Im really pleased that were actually doing these training videos and investing in our people.\n",
      "\n",
      "These videos will serve as part of a larger project of a complete training program for ASCs food service enterprise personnel.\n",
      "\n",
      "\n",
      "CAMP HUMPHREYS, South Korea  The Army Field Support BattalionKorea, received the Fiscal Year 2022 Army Award for Maintenance Excellence during a ceremony here Dec. 8, 2022.\n",
      "\n",
      "The battalion was recognized in the Active Army Table of Distributions and Allowances Unit Category.\n",
      "\n",
      "Today we have the opportunity to formally recognized AFSBn-Korea for winning the FY22 Army Award for Maintenance Excellence in the TDA category. This is a monumental achievement and special occasion as many units compete for this honor across the Army, said Col. Lisa Rennard, commander, 403rd Army Field Support Brigade. So AFSBn-Korea&#39;s Installation Maintenance Division has been named the best of the best. We are so proud of you all and this achievement that you have accomplished.\n",
      "\n",
      "The battalion was also recognized with AAME Awards in 2008 and 2010.\n",
      "\n",
      "The Army Award for Maintenance Excellence was established in 1982 by the Department of the Army to recognize exceptional accomplishment in Maintenance and provide added incentive to the competitive programs of Major Army Commands. Active Table of Organization and Equipment, Army National Guard TOE, Army Reserve TOE, Directorates of Logistics, and Table of Distribution and Allowances units compete separately, and the competition in each component is divided into three categories: Small, Medium and Large, based on number of authorized personnel. Aligns with the Department of Defense Awards Program and Category Winners are considered for DOD.\n",
      "\n",
      "The Chief of Staff, Army Award for Maintenance Excellence Program is conducted each year to recognize Army units and/or activities that have demonstrated excellence in maintenance operations. Each unit is evaluated on their effectiveness ensuring that Soldier competency is maintained. Assessments of each unit in the categories of attitude and effective leadership are rated with a benchmark based on those of past winners, and the tenets of exceptional maintenance processes that were exhibited are validated and ranked.\n",
      "\n",
      "The award, recognizing the best in Army maintenance operations, was presented by Maj. Gen. Joseph Dcosta, deputy commanding general  sustainment, Eighth Army.\n",
      "\n",
      "I constantly go out to units and I want to see how they&#39;re performing maintenance. Because if vehicles don&#39;t move, and that first round lands in Korea from the enemy, we are going to lose this war, even before it actually begins. So when we say fight tonight, fight tonight does not necessarily mean when it&#39;s dark. Fight Tonight means now immediately, Dcosta said. Maintenance is to ensure that we are successful during combat operations. Everything we do is for combat operations. For those in uniform the test for us is combat itself. We can&#39;t do that job without people like these that we&#39;re about to award.\n",
      "\n",
      "In addition to the unit award, Dcosta presented his coin of excellence to members of the AFSBn-Korea Maintenance Division including: Carlos Hill; So, Sung Min; Chong, Hak Song; Cho, Yong Hun; Choe, Chin Yong; Kim, Nam Su; Yi, Pyong Chik; Na, Yong Pu; Sim, Wan Sop; Kim, Tae Hun; Yi, Sung Won; Chong, Song Hun; and Kim, Chang Kun.\n",
      "\n",
      "The Battalions history dates back to the early 1980s with the formal establishment of the Logistics Assistance Office for 2nd Infantry Division at Camp Casey. The battalion provided support to 2ID in all areas of logistics, maintenance, readiness, and warfighter support.\n",
      "\n",
      "In 1995, the battalion was renamed the Logistics Support Element-2nd Infantry Division, and placed under the control of Army Field Support Brigade-Far East. While the mission of providing support to 2ID did not change, reporting channels were streamlined under a single forward command.\n",
      "\n",
      "As the army reorganized to a modular concept in the 2000s, the battalion was assigned responsibility for all Lifecycle Management Command Logistics Assistance Representatives within the 2ID footprint across Korea. This marked the initial partnering of all AMC enterprise partners in a forward area.\n",
      "\n",
      "In June 2009, the unit was re-designated as AFSBn-2ID, to ensure compliance with ASCs most current force structure and to streamline the support provided to the 2ID.\n",
      "\n",
      "Changes again occurred in May 2011, when the unit was re-designated as Army Field Support Battalion-Korea based on the units geographical location.\n",
      "\n",
      "March 2015 brought a merger between AFSBn-Korea and Logistics Readiness Center-Red Cloud, thus establishing a single face to the field with a combined support operations center. But this merger was short-lived and in 2016 both the Battalion and LRC-Casey were reestablished as separate reporting elements of the 403rd AFSB.\n",
      "\n",
      "The most recent change occurred in the fall of 2018, when the battalion underwent transformation again in support of the Army Sustainment Command futures concept and merged the battalion with LRCHumphreys.  The battalion relocated its headquarters from Camp Casey in Area I to its current location at Camp Humphreys. As part of the changing Army doctrine in support of large-scale combat operations, AFSBn-Korea created a Support Operations Division to increase readiness support at the division level. The battalion also absorbed the former LRC-Humphreys garrison support mission of transportation, maintenance, and supply support to the installation.\n",
      "\n",
      "As the battalion forges ahead, it is prepared to support the 2ID by providing readiness support at points of need throughout the Korean Theater of Operations and providing USAG-Humphreys with baseline services and logistics support.\n",
      "\n",
      "AFSBn-Korea, the Anvil Battalion continues its support for Army units in Korea with its motto, Forging Readiness!\n",
      "\n",
      "For more photos of the ceremony (and other brigade events), go to the 403rd AFSB Flickr page at: https://www.flickr.com/photos/afsb403d/albums/72157717233650603\n",
      "\n",
      "\n"
     ]
    }
   ],
   "source": [
    "get_articles_from_topic(data,[index for index, perc in topics_sorted[1]])"
   ]
  },
  {
   "cell_type": "code",
   "execution_count": null,
   "id": "32a47ef0",
   "metadata": {},
   "outputs": [],
   "source": []
  },
  {
   "cell_type": "code",
   "execution_count": 58,
   "id": "897860b1",
   "metadata": {},
   "outputs": [
    {
     "name": "stdout",
     "output_type": "stream",
     "text": [
      "[[0.9999999  0.6304208  0.4790045  0.56034696 0.40218195 0.42248312\n",
      "  0.29008853 0.11728258 0.43539602 0.07472368]\n",
      " [0.6304208  1.         0.42925    0.54024744 0.5459087  0.528769\n",
      "  0.4100899  0.09582747 0.56465006 0.10100758]\n",
      " [0.4790045  0.42925    1.         0.8746504  0.35037878 0.40930688\n",
      "  0.44453746 0.26972157 0.5481092  0.52262723]\n",
      " [0.56034696 0.54024744 0.8746504  1.         0.42006695 0.44951218\n",
      "  0.4504317  0.279424   0.6031151  0.4250691 ]\n",
      " [0.40218195 0.5459087  0.35037878 0.42006695 1.0000005  0.6205119\n",
      "  0.42652884 0.00507005 0.46810007 0.09034961]\n",
      " [0.42248312 0.528769   0.40930688 0.44951218 0.6205119  1.\n",
      "  0.28128314 0.10426641 0.543876   0.0846706 ]\n",
      " [0.29008853 0.4100899  0.44453746 0.4504317  0.42652884 0.28128314\n",
      "  1.0000001  0.07856961 0.5217459  0.22795992]\n",
      " [0.11728258 0.09582747 0.26972157 0.279424   0.00507005 0.10426641\n",
      "  0.07856961 1.         0.24709083 0.25647807]\n",
      " [0.43539602 0.56465006 0.5481092  0.6031151  0.46810007 0.543876\n",
      "  0.5217459  0.24709083 1.         0.15845545]\n",
      " [0.07472368 0.10100758 0.52262723 0.4250691  0.09034961 0.0846706\n",
      "  0.22795992 0.25647807 0.15845545 1.        ]]\n",
      "0.3731019\n"
     ]
    },
    {
     "data": {
      "image/png": "[encoded data removed]",
      "text/plain": [
       "<Figure size 1000x1000 with 2 Axes>"
      ]
     },
     "metadata": {},
     "output_type": "display_data"
    }
   ],
   "source": [
    "#give a visualization of the similarity matrix used to decide which topic is most relevant\n",
    "labels = [head[:20] for head in headlines]\n",
    " \n",
    "fig, ax = plt.subplots(figsize=(10,10))\n",
    "cax = ax.matshow(simi, interpolation='nearest')\n",
    "ax.grid(True)\n",
    "plt.title('Topic similarity matrix')\n",
    "plt.xticks(range(10), labels, rotation=90);\n",
    "plt.yticks(range(10), labels);\n",
    "fig.colorbar(cax, ticks=[0.1, 0.2, 0.3, 0.4, 0.5, 0.6, 0.7, .75,.8,.85,.90,.95,1])\n",
    "plt.show()"
   ]
  },
  {
   "cell_type": "code",
   "execution_count": 101,
   "id": "8a5d79d0",
   "metadata": {},
   "outputs": [
    {
     "name": "stdout",
     "output_type": "stream",
     "text": [
      "['support', 'system', 'unit', 'training', 'battalion', 'team', 'maintenance', 'say', 'provide', 'cloud', 'service', 'datum', 'capability', 'social_medium', 'soldier', 'platform', 'base', 'ceremony', 'deployment', 'people', 'use', 'application', 'deploy', 'operation', 'more', 'work', 'event', 'exercise', 'power', 'train']\n",
      "military base provides maintenance and support to soldiers and other people working in the military and provides a\n",
      "['team', 'say', 'training', 'soldier', 'intelligence', 'work', 'fire', 'just', 'equipment', 'unit', 'need', 'exercise', 'sfab', 'analyst', 'mission', 'well', 'think', 'system', 'area', 'vehicle', 'opportunity', 'process', 'group', 'volunteer', 'other', 'also', 'cloud', 'day', 'theater', 'help']\n",
      "military exercises in the cloud\n",
      "['operation', 'work', 'unit', 'come', 'flight', 'information', 'capability', 'use', 'competition', 'win', 'fight', 'aircraft', 'event', 'different', 'force', 'enable', 'level', 'other', 'award', 'success', 'presentation', 'soldier', 'commander', 'day', 'knowledge', 'opportunity', 'maintenance', 'training', 'make', 'datum']\n",
      "military uses cloud to provide soldiers with the power and capability they need to work with their batt\n",
      "['know', 'day', 'soldier', 'just', 'case', 'family', 'new', 'find', 'first', 'remember', 'mission', 'use', 'unit', 'innovation', 'brigade', 'career', 'combat', 'commander', 'visit', 'leader', 'military', 'vehicle', 'serve', 'continue', 'think', 'leave', 'later', 'team', 'attack', 'ceremony']\n",
      "military deploys more than a thousand soldiers to provide security and support to military and other teams\n",
      "['say', 'unit', 'support', 'year', 'day', 'position', 'ceremony', 'battalion', 'mile', 'get', 'member', 'event', 'minute', 'just', 'help', 'work', 'capability', 'move', 'team', 'responsible', 'present', 'soldier', 'operation', 'call', 'mission', 'baby', 'delivery', 'know', 'test', 'office']\n",
      "cloud computing\n",
      "['program', 'continue', 'family', 'soldier', 'help', 'serve', 'military', 'share', 'event', 'provide', 'graduate', 'exercise', 'support', 'operation', 'unit', 'learn', 'team', 'facility', 'engine', 'community', 'remark', 'get', 'communication', 'division', 'brigade', 'give', 'mask', 'life', 'rental', 'complete']\n",
      "military deploys more people with the capability to use social media to support the mission\n",
      "['soldier', 'business', 'event', 'get', 'come', 'plan', 'need', 'unit', 'just', 'work', 'training', 'opportunity', 'datum', 'standard', 'network', 'way', 'service', 'mile', 'exercise', 'serve', 'airborne', 'team', 'program', 'evacuee', 'level', 'maintain', 'here', 'execute', 'lot', 'division']\n",
      "military uses cloud to deploy soldiers and support systems\n",
      "['military base provides maintenance and support to soldiers and other people working in the military and provides a', 'military exercises in the cloud', 'military uses cloud to provide soldiers with the power and capability they need to work with their batt', 'military deploys more than a thousand soldiers to provide security and support to military and other teams', 'cloud computing', 'military deploys more people with the capability to use social media to support the mission', 'military uses cloud to deploy soldiers and support systems']\n"
     ]
    }
   ],
   "source": [
    "topic_titles = []\n",
    "for topic in topics:\n",
    "    # Summerize the 10 headlines\n",
    "    print([top for top, per in topic])\n",
    "    headlines = gen_headlines(topics[0])\n",
    "    # print(headlines)\n",
    "\n",
    "    input_text = \"create a topic given the following topics: '\" + \", \".join(headlines) + \"'\"\n",
    "    input_ids = tokenizer(input_text, return_tensors=\"pt\").input_ids.to(\"cuda\")\n",
    "\n",
    "    outputs = model.generate(input_ids)\n",
    "\n",
    "    # then use those topics to create 1 general topic\n",
    "    topic_name = tokenizer.decode(outputs[0])\n",
    "    topic_name = re.sub(r'^<.{1,5}>|<.{0,5}$','',topic_name).strip()\n",
    "    print(topic_name)\n",
    "    topic_titles.append(topic_name)\n",
    "    \n",
    "print(topic_titles)"
   ]
  },
  {
   "cell_type": "code",
   "execution_count": 60,
   "id": "84f4146e",
   "metadata": {},
   "outputs": [
    {
     "name": "stdout",
     "output_type": "stream",
     "text": [
      "military said on tuesday it will deploy a contingent of soldiers to sup\n",
      " base\n",
      " military system of command and control\n",
      " cloud based training and education\n",
      "cloud computing and the internet of things – a review of the role of social medi\n",
      "military community provides social media and other services to soldiers and their families as part of their training\n",
      " military transport system\n",
      "more than a thousand soldiers are training and deploying from a battalio\n",
      " military team training in the cloud for military operations\n",
      "military personnel in training and supporting soldiers in a battalion and unit for training\n"
     ]
    },
    {
     "data": {
      "text/plain": [
       "[None, None, None, None, None, None, None, None, None, None]"
      ]
     },
     "execution_count": 60,
     "metadata": {},
     "output_type": "execute_result"
    }
   ],
   "source": [
    "# print some of the headlines generated\n",
    "[print(headline) for headline in headlines]"
   ]
  },
  {
   "cell_type": "code",
   "execution_count": 59,
   "id": "ae95249d",
   "metadata": {},
   "outputs": [
    {
     "name": "stdout",
     "output_type": "stream",
     "text": [
      "['support', 'system', 'unit', 'training', 'battalion', 'team', 'maintenance', 'say', 'provide', 'cloud', 'service', 'datum', 'capability', 'social_medium', 'soldier', 'platform', 'base', 'ceremony', 'deployment', 'people', 'use', 'application', 'deploy', 'operation', 'more', 'work', 'event', 'exercise', 'power', 'train']\n"
     ]
    }
   ],
   "source": [
    "print([top for top,perc in topics[0]])"
   ]
  },
  {
   "cell_type": "code",
   "execution_count": 48,
   "id": "1e481175",
   "metadata": {},
   "outputs": [
    {
     "name": "stdout",
     "output_type": "stream",
     "text": [
      "['there', 'is', '1', '12hour', 'in', 'a', 'day34', 'for', 'a', 'time']\n",
      "there is 1 <num>hour in a day34 for a time\n"
     ]
    }
   ],
   "source": [
    "\n",
    "# code to remove padding from T5 results\n",
    "# removes the html (<> padding) before and after result\n",
    "# test_string = re.sub(r'^<.{1,5}>|<.{0,5}$','',test_string).strip()\n",
    "# test_string = re.sub(r'<.{0,5}$','',test_string).strip()\n",
    "\n",
    "test_string = \"there is 1 12hour in a day34 for a time\"\n",
    "\n",
    "final = []\n",
    "print(test_string.split())\n",
    "for word in test_string.split():   \n",
    "    word = re.sub(r'^\\d+(\\w+)',r'<num>\\1',word)\n",
    "    if word != '':\n",
    "        final.append(word)\n",
    "final = ' '.join(final)\n",
    "print(final)"
   ]
  },
  {
   "cell_type": "markdown",
   "id": "bb78160c",
   "metadata": {},
   "source": [
    "# Visualizing the Data"
   ]
  },
  {
   "cell_type": "code",
   "execution_count": 19,
   "id": "af4cade1",
   "metadata": {},
   "outputs": [
    {
     "name": "stdout",
     "output_type": "stream",
     "text": [
      "other armed forces armed forces provide training and support to combat veterans and other armed forces\n",
      "armed forces provide intelligence and support to the armed forces and their allies also provide training\n",
      "military family needs to get the support of airborne units and families to ensure they execute their mission\n",
      "a team of soldiers and evacuees come together for a mission to\n",
      "military unit serving food in the ring also serves as a training video for soldiers in the\n",
      "a soldier comes out to meet business and community leaders for a ceremony to recognize the men\n",
      "other groups and individuals demonstrating the capabilities of cbm platform and other systems and services\n",
      "a soldier provides training for a team of soldiers in a cloud based environment also\n",
      "military says it still has armored vehicles and armored personnel carriers to fight the assault\n",
      "saapm - soldiers come to find out about equipment and equipment for the soldiers\n",
      "military commander uses social media to communicate with soldiers and their families and provide them with information about the\n",
      "military force numst known information about team and other units at ceremony\n"
     ]
    }
   ],
   "source": [
    "for i in range(len(topics)):\n",
    "    print(topic_names[i])\n",
    "#     [print(name) for name,per in topics[i]]\n",
    "# print(topic_names)\n",
    "# [print([name for name,per in topic]) for topic in topics]"
   ]
  },
  {
   "cell_type": "code",
   "execution_count": 93,
   "id": "917e5f5b",
   "metadata": {
    "scrolled": false
   },
   "outputs": [
    {
     "data": {
      "text/html": [
       "\n",
       "<link rel=\"stylesheet\" type=\"text/css\" href=\"https://cdn.jsdelivr.net/gh/bmabey/pyLDAvis@3.4.0/pyLDAvis/js/ldavis.v1.0.0.css\">\n",
       "\n",
       "\n",
       "<div id=\"ldavis_el1356812382103284164351378019\" style=\"background-color:white;\"></div>\n",
       "<script type=\"text/javascript\">\n",
       "\n",
       "var ldavis_el1356812382103284164351378019_data = {\"mdsDat\": {\"x\": [0.006027595728978735, -0.08241148039711377, 0.06541816802691607, 0.09329758538375284, 0.0013154845230747027, -0.06936209608721478, -0.014285257178393804], \"y\": [-0.1000216424188671, 0.04017757514261087, 0.05808180086021864, -0.020429924005693385, -0.007535013247219228, -0.05723991515269874, 0.08696711882164898], \"topics\": [1, 2, 3, 4, 5, 6, 7], \"cluster\": [1, 1, 1, 1, 1, 1, 1], \"Freq\": [14.773613355792973, 15.648981618815636, 8.891040768441085, 19.359110917424374, 6.663366016574192, 19.89671318712981, 14.76717413582193]}, \"tinfo\": {\"Term\": [\"say\", \"cloud\", \"work\", \"mission\", \"unit\", \"team\", \"people\", \"support\", \"get\", \"numst\", \"fire\", \"division\", \"datum\", \"maintain\", \"standard\", \"use\", \"system\", \"need\", \"environment\", \"capability\", \"cbm\", \"numst_evcc\", \"rescue\", \"sergeant_major\", \"die\", \"court_martial\", \"patch\", \"tier\", \"valor\", \"streak\", \"deter\", \"ppmx\", \"mobilize\", \"battery\", \"fold\", \"airframe\", \"blade\", \"end_end\", \"blueprint\", \"plane\", \"air_defense\", \"competition\", \"numst_numst\", \"deployment\", \"deploy\", \"award\", \"numst\", \"win\", \"unit\", \"say\", \"capability\", \"vehicle\", \"find\", \"wear\", \"leader\", \"soldier\", \"platform\", \"maintenance\", \"receive\", \"other\", \"family\", \"system\", \"more\", \"know\", \"use\", \"support\", \"help\", \"day\", \"fire_prevention\", \"detector\", \"fire_extinguisher\", \"edecu\", \"fire_safety\", \"marshal\", \"monoxide\", \"carbon\", \"lyon\", \"prevention\", \"fielding\", \"engine\", \"inspector\", \"kitchen\", \"alarm\", \"bedroom\", \"design\", \"premier\", \"warfighter_exercise\", \"innovation\", \"upgrade\", \"division\", \"fire\", \"exchange\", \"flight\", \"exercise\", \"use\", \"fight\", \"small\", \"partner\", \"business\", \"intelligence\", \"information\", \"operation\", \"datum\", \"ability\", \"training\", \"demonstration\", \"support\", \"capability\", \"communication\", \"day\", \"force\", \"unit\", \"soldier\", \"numst\", \"tire\", \"block\", \"tempo\", \"motivation\", \"vendor\", \"broken\", \"passage\", \"convoy\", \"mortar\", \"loadmaster\", \"ammo\", \"literature\", \"winch\", \"book\", \"resupply\", \"grenade\", \"slow\", \"refugee\", \"profound\", \"flawlessly\", \"road\", \"decision_make\", \"credit\", \"vulnerable\", \"evacuation\", \"access\", \"truck\", \"graduate\", \"share\", \"word\", \"get\", \"remark\", \"mission\", \"child\", \"just\", \"airborne\", \"first\", \"program\", \"hour\", \"fire\", \"day\", \"team\", \"family\", \"event\", \"vehicle\", \"community\", \"operation\", \"provide\", \"help\", \"continue\", \"training\", \"datum\", \"refuel\", \"amlc\", \"limestone\", \"people\", \"fence\", \"sharp\", \"reason\", \"social_engineering\", \"aviation_asset\", \"romanian\", \"submit\", \"saapm\", \"scholarship\", \"housing\", \"space_missile\", \"social_medium\", \"manager\", \"downrange\", \"cyber\", \"passenger\", \"online\", \"different\", \"account\", \"learn_more\", \"work\", \"engineer\", \"evacuee\", \"situation\", \"mission\", \"soldier\", \"team\", \"come\", \"success\", \"need\", \"operation\", \"about\", \"numst\", \"more\", \"member\", \"think\", \"event\", \"training\", \"organization\", \"opportunity\", \"program\", \"use\", \"day\", \"training_video\", \"dfac\", \"casualty_operation\", \"sanitary\", \"human_resource\", \"qae\", \"plant\", \"rigger\", \"extreme\", \"subsistence\", \"eis\", \"hrsc\", \"restaurant\", \"cutover\", \"food_service\", \"maintenance_section\", \"standard\", \"lap\", \"clock\", \"accelerated\", \"casualty\", \"cloud\", \"maintain\", \"mask\", \"production\", \"process\", \"safe\", \"environment\", \"same\", \"unit\", \"support\", \"year\", \"team\", \"system\", \"serve\", \"analyst\", \"numst\", \"division\", \"mile\", \"train\", \"exercise\", \"get\", \"work\", \"worried\", \"command_sergeant\", \"path\", \"baby\", \"vehicle_equipment\", \"astronaut\", \"true\", \"contraction\", \"hand\", \"handoff\", \"faith\", \"daughter\", \"paramedic\", \"phone\", \"application\", \"new_home\", \"citizenship\", \"high_school\", \"carmy\", \"spacewalk\", \"sfab\", \"dream\", \"say\", \"wife\", \"minute\", \"italian\", \"new\", \"woman\", \"good\", \"want\", \"see\", \"own\", \"join\", \"serve\", \"opportunity\", \"experience\", \"year\", \"meet\", \"come\", \"work\", \"training\", \"know\", \"military\", \"numst\", \"event\", \"just\", \"soldier\", \"business\", \"unit\", \"day\", \"support\", \"commander\", \"help\", \"face_shield\", \"lar\", \"volunteer\", \"print\", \"visor\", \"cbrn\", \"healthcare\", \"delay\", \"panamanian\", \"sale\", \"democratic\", \"orbit\", \"loading\", \"radar\", \"amcom\", \"fault\", \"personal_protective\", \"shipping\", \"ring\", \"placement\", \"robin\", \"low\", \"satellite\", \"competitor\", \"navigation\", \"group\", \"transportation\", \"test\", \"set\", \"course\", \"rental\", \"need\", \"provide\", \"support\", \"system\", \"future\", \"coordination\", \"security\", \"equipment\", \"case\", \"ensure\", \"training\", \"requirement\", \"numst\", \"team\", \"help\", \"capability\", \"work\", \"other\", \"soldier\", \"unit\"], \"Freq\": [82.0, 22.0, 81.0, 40.0, 75.0, 68.0, 29.0, 66.0, 37.0, 106.0, 27.0, 23.0, 31.0, 14.0, 11.0, 50.0, 48.0, 37.0, 17.0, 46.0, 7.371682654751598, 2.3344685214982954, 4.022162310697873, 2.2960568676667337, 3.3325515769285317, 3.2530708255713447, 6.107765766424099, 1.6484901944663, 2.706334861808369, 1.6352105362909855, 2.7272384474710867, 2.683835738887421, 2.127040330102589, 3.3039598012708735, 1.6258327778686963, 1.6273829533569002, 1.6211614605928224, 2.6411622837593938, 2.6507648034519193, 3.0768888609105876, 4.274885647020546, 8.27044611470839, 7.289405854291933, 10.689683813919483, 11.558802727139248, 9.418561964452746, 34.77990231978281, 7.141114447927171, 23.299281863333736, 23.491918180047094, 15.069215284244107, 10.039190361515452, 7.429116325826644, 6.5549269747572305, 9.949169298872897, 20.07505797337645, 7.067464574092165, 8.962473307768528, 7.23107313813594, 8.853172862840044, 10.443153934266913, 10.563875464848786, 8.423326620140852, 9.285124647697975, 9.665696037681087, 9.507274466034948, 8.936491723961156, 9.031440838897446, 5.738818948726027, 4.094536580046451, 3.342202719363249, 4.021060472876943, 3.2792834992134594, 3.2175775302553915, 2.4791193124645323, 2.463495867112828, 2.4630227124951545, 2.9686618305174814, 3.4561375504732013, 8.42837394423965, 1.6969149805404773, 1.6965692907069725, 1.694596089133197, 1.6576916973418776, 8.516760428059897, 3.3051388297529956, 2.663771739302308, 5.780018102917966, 4.751931866590196, 12.60620842706296, 13.421038071217653, 5.069812354434886, 9.898730948598358, 18.782269624716722, 19.964136450627564, 10.828103384168646, 5.665105596892792, 7.728533551922589, 10.255834552802924, 10.847929163268574, 10.960207619539224, 16.23038727378365, 11.08448311468423, 6.126341923569242, 16.36407180553596, 6.802465857772217, 13.79508915287754, 11.014153252148041, 7.659900105519159, 10.011519264005681, 7.9050008710230335, 9.786663376473244, 9.158409475952006, 8.44620366486079, 2.074166441910519, 2.0522181533960646, 1.2281913273138045, 1.2240760113685711, 1.5137745375542222, 1.1434459621212902, 1.1271634726320232, 4.134379010052388, 1.4762384768270786, 3.0347009946769776, 1.0473144945211863, 1.026216379189107, 1.0382086648391189, 1.0284442329415158, 1.0200032616272903, 1.0147998491316634, 0.9890211839724795, 0.6668096712255684, 0.6658951829016795, 0.6656285381071627, 1.977192289552771, 1.3149218833813856, 1.92691424759089, 1.5892213646155926, 2.7839659746363963, 2.9233830017234768, 4.508337670466056, 4.764623793406206, 5.6652060177805055, 3.3322424608904675, 10.358281799284697, 3.5339741773967046, 10.826575653265019, 5.157665993319084, 9.850530961448584, 3.290515441649294, 3.3284698114692928, 8.385500855429479, 4.256533985863307, 5.748538724824182, 8.58717190621638, 8.689658297497248, 6.418871415514878, 6.967538247756798, 5.088108196172017, 4.628685945323015, 5.764877519684207, 4.624041226186393, 5.227808835496991, 4.719687557612186, 5.071227580606178, 4.560038892287473, 2.6921053924191023, 3.808006130914125, 3.775522258154461, 19.97001700970123, 1.818847757490182, 2.9941683820757334, 3.0133976591316234, 4.05805566809639, 3.560804412347878, 1.753947502671495, 6.391415170031921, 2.8890597683745325, 2.8731926427358725, 2.251557057674783, 2.8399783430967998, 11.80249550946825, 4.020078836600192, 2.2667387502344614, 9.45305712208104, 5.5368619532851024, 8.359798584879801, 12.405291075765216, 6.117083428169665, 5.179579806070469, 42.326604262969596, 6.096782968433885, 6.49434984015561, 7.018616777156844, 18.617604088932236, 37.04902465727181, 26.089502446354242, 17.577149285222955, 9.5213056999471, 14.094690224671824, 17.1998469607541, 7.3970220689168995, 19.017548614694874, 9.73530777281845, 8.483877451694067, 10.130787592659818, 12.290250596603702, 13.915742037417555, 8.889255082055056, 9.993089226292442, 10.356969363470611, 10.562466369699775, 9.87617469342507, 3.1782038430276187, 2.7375548481275596, 1.7144252949899998, 1.3565430152921882, 1.6721052007291646, 0.9575977694944889, 1.264526860298158, 1.8411181822934253, 0.8904025785340249, 0.8880653545006175, 1.1830746737741529, 0.8705308462317485, 0.8806762455830853, 1.1402908998395775, 2.8335359012295696, 1.381833058058052, 4.92948879495007, 1.6526154518198253, 0.8270748895067749, 0.8204694255227538, 2.4419842398847855, 9.009024829118514, 5.449967133036166, 3.1046752011780856, 2.041813976116506, 4.832896795748142, 2.2488557949518757, 4.229163838062794, 2.4695526853618786, 8.814585975841526, 6.814751384974784, 5.003629235382451, 6.074712658305021, 5.0535995114581675, 4.476428216909443, 2.8177734918516837, 5.685944069566096, 3.3292510310006147, 3.085706887661002, 3.183349714154789, 3.2970527507300496, 3.224794024285416, 3.391019954990144, 3.8828549951050912, 3.1261925756370035, 4.970137546784336, 5.015567536753043, 3.1135450391844195, 4.342952698765819, 3.629517349821591, 3.6155332129432027, 4.74183787875197, 1.8017834051368546, 4.172773194305289, 2.997098950667469, 2.9607568253936227, 3.56473560875857, 10.925194119668328, 2.947033814546684, 3.534103467655776, 3.3945107095208416, 2.2376581162847353, 2.291937754430577, 4.4304067976626476, 3.930752424552127, 45.60162804554039, 6.500185482239907, 7.235668692643785, 7.364869865052755, 16.097021934292403, 5.333374674912485, 8.124602795735493, 12.284951821347025, 9.446432524690207, 7.0689014329776505, 10.445791332441244, 14.833065031011333, 13.674130429652823, 7.187933751044102, 13.809321167150353, 7.763975655171081, 13.940593529300246, 20.516635381238373, 19.460617103540656, 12.6584142291015, 11.514684756852915, 21.790670773557817, 14.125659126679558, 13.038421969777511, 17.48422862741676, 9.656654465141571, 13.811833577155626, 12.314736734692215, 12.339359370944504, 10.789526524885096, 10.840037760148155, 6.272710966416146, 7.038080125424524, 7.451519804774924, 2.411494834321787, 2.341619035875201, 3.9424077505209114, 1.628442610708055, 1.616354087500796, 1.6078652151877555, 2.6632394361113607, 1.5922954340827988, 2.1104077471072227, 2.047655208138808, 5.318370211461008, 1.5706805254679883, 1.565384485561121, 3.1341072757741406, 1.5019741727370366, 2.828822432620434, 1.5048190682784346, 2.0004313590890583, 3.3147753033399154, 3.4759651639780884, 5.687404330366338, 3.8095522308000875, 7.9907910874275565, 5.224059798857473, 7.811642961442117, 7.836090485473687, 9.711461999862832, 5.04474132550204, 13.486521564676544, 11.020343807649203, 18.565865762411722, 14.440007119156814, 7.591595722908564, 4.331408722339482, 6.254306523206991, 9.280842741017283, 6.266244693606168, 6.911325938399402, 14.110057173352931, 6.83570933912152, 12.540166039486746, 10.614656350570993, 9.095414748216387, 8.490528555491956, 9.217913714616556, 7.314704102295477, 8.516607131975594, 7.5648817286935985], \"Total\": [82.0, 22.0, 81.0, 40.0, 75.0, 68.0, 29.0, 66.0, 37.0, 106.0, 27.0, 23.0, 31.0, 14.0, 11.0, 50.0, 48.0, 37.0, 17.0, 46.0, 10.07229272111077, 3.378987671117262, 5.842171516043526, 3.3719385816110985, 4.927097442054901, 4.878837585508485, 9.293910207579575, 2.519740113018198, 4.140494728695317, 2.522499530842477, 4.214903972473105, 4.16009278397537, 3.3010085650435452, 5.142659488012311, 2.535739883780666, 2.5394567421849157, 2.5395885926835877, 4.141811283813989, 4.161378786638942, 4.881619710440594, 6.85369571694841, 16.715867591602333, 14.539961475869683, 23.15479699930306, 25.668019999644873, 20.499764175894292, 106.26672830464334, 14.916530936957273, 75.64533080679188, 82.6442361425496, 46.34848020383851, 27.70487537618076, 18.288179552893347, 15.391734090330903, 30.959007876948043, 98.2208704510878, 17.849031928504704, 28.254207470156615, 18.85165119016896, 28.282887423371402, 42.464778888538994, 48.22184277905464, 27.766775152416614, 38.55213902512652, 50.81512666007913, 66.72491828322194, 50.16935863144467, 55.82444800431173, 6.638079357202706, 4.969204476956438, 4.137840574922529, 5.007617295389085, 4.123918283665523, 4.114035816224746, 3.2946301544717707, 3.2927694539644192, 3.294129742880775, 4.1413672949640805, 4.837546631186085, 11.818343562329257, 2.458147754417898, 2.459502524684419, 2.4583618099635793, 2.451650994992441, 12.606419300152076, 4.948683630369181, 4.06145871165348, 8.9481049240625, 7.569660002248305, 23.757944106552802, 27.27135559379653, 8.96090420151851, 19.96944445827488, 44.142412918378774, 50.81512666007913, 24.946471027257676, 10.438942100211666, 16.561480261873623, 25.032524170678624, 28.173459794231235, 28.8407145910236, 57.7084288113708, 31.887842007055664, 11.891074515676868, 74.95378280873264, 14.934999704278704, 66.72491828322194, 46.34848020383851, 21.190338097751578, 55.82444800431173, 25.881126587377175, 75.64533080679188, 98.2208704510878, 106.26672830464334, 3.365212477632566, 3.3917178518975386, 2.0468772023726087, 2.0492462784956755, 2.6775818108068448, 2.069088504560562, 2.0766841645108136, 7.644644968181671, 2.7605959219697094, 5.748678572281569, 2.0930570182518538, 2.071943917360571, 2.0976647821885943, 2.0827284621858086, 2.098683694089524, 2.105980271664803, 2.095140611417098, 1.4156500550071422, 1.4159326439018085, 1.416748477661838, 4.3677367044576325, 2.859318787877569, 4.286802641441919, 3.5371947906330736, 6.6334989136792295, 7.0207358103702, 11.957447040152449, 13.241483533599194, 16.378559983816796, 8.92843363753038, 37.48850656455943, 9.678346192695962, 40.63010779477525, 17.962119053181254, 47.78202773815378, 9.738555556895006, 9.931514119411611, 44.60126566183649, 15.712810964446069, 27.27135559379653, 55.82444800431173, 68.23210273278846, 42.464778888538994, 52.98699998695511, 27.70487537618076, 22.137845334693118, 57.7084288113708, 28.755854732010697, 50.16935863144467, 35.83166595446497, 74.95378280873264, 31.887842007055664, 3.630640718706383, 5.37501220528091, 5.450214729109413, 29.338348135147616, 2.6760528440790186, 4.4188531990472795, 4.467627107999763, 6.11718403307254, 5.41007366340886, 2.6734607047200263, 9.759221380619428, 4.416941277386003, 4.429077385064334, 3.4826331803879906, 4.397963330568244, 18.32399779199562, 6.260928608634343, 3.555798249990756, 14.835818825122914, 8.710956039252402, 13.214538752220944, 20.508362563474066, 9.84822139149868, 8.360231146207479, 81.66094581240004, 10.030773838180146, 10.818187309523397, 12.157808050441384, 40.63010779477525, 98.2208704510878, 68.23210273278846, 41.99806158018436, 19.937365462702942, 37.22164995237778, 57.7084288113708, 15.909788475339097, 106.26672830464334, 27.766775152416614, 21.251509809858593, 31.961928874560062, 52.98699998695511, 74.95378280873264, 24.252491577380034, 34.642652026971945, 44.60126566183649, 50.81512666007913, 55.82444800431173, 4.443210318439076, 3.917313374015433, 2.9099430920311407, 2.3934828044959415, 2.9591157371088066, 1.8337632214747286, 2.4916140300128635, 3.71903356703484, 1.8838614198514771, 1.9015473461789514, 2.547347504506823, 1.8787850062377704, 1.908320235701674, 2.5842588085442926, 6.498163450758558, 3.201170944033355, 11.49373924552048, 3.885687572771202, 1.9470157415264784, 1.9565430136568946, 5.830308344086476, 22.929609410660948, 14.837055253542971, 8.531046913043827, 5.249219608084073, 17.004870088414936, 6.7064950161015835, 17.632275836108242, 8.229944715042887, 75.64533080679188, 66.72491828322194, 38.10720534429307, 68.23210273278846, 48.22184277905464, 37.90712906787105, 12.976141316056264, 106.26672830464334, 23.757944106552802, 19.1486760296311, 28.451256857757507, 44.142412918378774, 37.48850656455943, 81.66094581240004, 5.248390769112635, 4.325628879389847, 6.914579724162057, 7.030964031343729, 4.375034324757524, 6.134763453232615, 5.263187759611098, 5.248424673344991, 6.886338918672048, 2.6234911440702593, 6.138810881129858, 4.411055763463942, 4.375287535522297, 5.273354742293038, 16.322130723599233, 4.403171097326103, 5.293066706885, 5.118825022984424, 3.387763146672532, 3.490660009697062, 6.76580920086457, 6.070325467219667, 82.6442361425496, 10.444011796238494, 11.874039137605646, 12.339229547496311, 32.10843950214458, 8.760291711639166, 14.732336696459384, 26.47607036031114, 19.260336519922596, 13.25171507886824, 22.891529626040764, 37.90712906787105, 34.642652026971945, 13.793045536783128, 38.10720534429307, 15.706000861436223, 41.99806158018436, 81.66094581240004, 74.95378280873264, 38.55213902512652, 32.42210321468108, 106.26672830464334, 52.98699998695511, 47.78202773815378, 98.2208704510878, 25.032524170678624, 75.64533080679188, 55.82444800431173, 66.72491828322194, 37.564795213682075, 50.16935863144467, 7.69984474841819, 9.612231626908128, 10.233211253262876, 3.3845793387633942, 3.38574512193706, 5.827734733223913, 2.5219515402698898, 2.5158154462753854, 2.5098803682197754, 4.203466215715572, 2.5172325659092034, 3.3384094006243332, 3.2870064836408424, 8.562892070180467, 2.5514604807326227, 2.552805402634152, 5.161993920477014, 2.487992668839972, 4.689062712648815, 2.4944223907408816, 3.3217712565418163, 5.570474236681816, 5.938873439982514, 10.011824525239746, 6.597919102155641, 15.600055063281891, 9.778729338386517, 16.07584687842998, 16.880681159484745, 22.625241402690836, 10.286649961187448, 37.22164995237778, 28.755854732010697, 66.72491828322194, 48.22184277905464, 20.266108720316826, 8.506257757106015, 16.023108682421917, 32.87787053519296, 16.305661302567955, 19.52418050395608, 74.95378280873264, 19.8328883718841, 106.26672830464334, 68.23210273278846, 50.16935863144467, 46.34848020383851, 81.66094581240004, 28.282887423371402, 98.2208704510878, 75.64533080679188], \"Category\": [\"Default\", \"Default\", \"Default\", \"Default\", \"Default\", \"Default\", \"Default\", \"Default\", \"Default\", \"Default\", \"Default\", \"Default\", \"Default\", \"Default\", \"Default\", \"Default\", \"Default\", \"Default\", \"Default\", \"Default\", \"Topic1\", \"Topic1\", \"Topic1\", \"Topic1\", \"Topic1\", \"Topic1\", \"Topic1\", \"Topic1\", \"Topic1\", \"Topic1\", \"Topic1\", \"Topic1\", \"Topic1\", \"Topic1\", \"Topic1\", \"Topic1\", \"Topic1\", \"Topic1\", \"Topic1\", \"Topic1\", \"Topic1\", \"Topic1\", \"Topic1\", \"Topic1\", \"Topic1\", \"Topic1\", \"Topic1\", \"Topic1\", \"Topic1\", \"Topic1\", \"Topic1\", \"Topic1\", \"Topic1\", \"Topic1\", \"Topic1\", \"Topic1\", \"Topic1\", \"Topic1\", \"Topic1\", \"Topic1\", \"Topic1\", \"Topic1\", \"Topic1\", \"Topic1\", \"Topic1\", \"Topic1\", \"Topic1\", \"Topic1\", \"Topic2\", \"Topic2\", \"Topic2\", \"Topic2\", \"Topic2\", \"Topic2\", \"Topic2\", \"Topic2\", \"Topic2\", \"Topic2\", \"Topic2\", \"Topic2\", \"Topic2\", \"Topic2\", \"Topic2\", \"Topic2\", \"Topic2\", \"Topic2\", \"Topic2\", \"Topic2\", \"Topic2\", \"Topic2\", \"Topic2\", \"Topic2\", \"Topic2\", \"Topic2\", \"Topic2\", \"Topic2\", \"Topic2\", \"Topic2\", \"Topic2\", \"Topic2\", \"Topic2\", \"Topic2\", \"Topic2\", \"Topic2\", \"Topic2\", \"Topic2\", \"Topic2\", \"Topic2\", \"Topic2\", \"Topic2\", \"Topic2\", \"Topic2\", \"Topic2\", \"Topic2\", \"Topic3\", \"Topic3\", \"Topic3\", \"Topic3\", \"Topic3\", \"Topic3\", \"Topic3\", \"Topic3\", \"Topic3\", \"Topic3\", \"Topic3\", \"Topic3\", \"Topic3\", \"Topic3\", \"Topic3\", \"Topic3\", \"Topic3\", \"Topic3\", \"Topic3\", \"Topic3\", \"Topic3\", \"Topic3\", \"Topic3\", \"Topic3\", \"Topic3\", \"Topic3\", \"Topic3\", \"Topic3\", \"Topic3\", \"Topic3\", \"Topic3\", \"Topic3\", \"Topic3\", \"Topic3\", \"Topic3\", \"Topic3\", \"Topic3\", \"Topic3\", \"Topic3\", \"Topic3\", \"Topic3\", \"Topic3\", \"Topic3\", \"Topic3\", \"Topic3\", \"Topic3\", \"Topic3\", \"Topic3\", \"Topic3\", \"Topic3\", \"Topic3\", \"Topic3\", \"Topic4\", \"Topic4\", \"Topic4\", \"Topic4\", \"Topic4\", \"Topic4\", \"Topic4\", \"Topic4\", \"Topic4\", \"Topic4\", \"Topic4\", \"Topic4\", \"Topic4\", \"Topic4\", \"Topic4\", \"Topic4\", \"Topic4\", \"Topic4\", \"Topic4\", \"Topic4\", \"Topic4\", \"Topic4\", \"Topic4\", \"Topic4\", \"Topic4\", \"Topic4\", \"Topic4\", \"Topic4\", \"Topic4\", \"Topic4\", \"Topic4\", \"Topic4\", \"Topic4\", \"Topic4\", \"Topic4\", \"Topic4\", \"Topic4\", \"Topic4\", \"Topic4\", \"Topic4\", \"Topic4\", \"Topic4\", \"Topic4\", \"Topic4\", \"Topic4\", \"Topic4\", \"Topic4\", \"Topic5\", \"Topic5\", \"Topic5\", \"Topic5\", \"Topic5\", \"Topic5\", \"Topic5\", \"Topic5\", \"Topic5\", \"Topic5\", \"Topic5\", \"Topic5\", \"Topic5\", \"Topic5\", \"Topic5\", \"Topic5\", \"Topic5\", \"Topic5\", \"Topic5\", \"Topic5\", \"Topic5\", \"Topic5\", \"Topic5\", \"Topic5\", \"Topic5\", \"Topic5\", \"Topic5\", \"Topic5\", \"Topic5\", \"Topic5\", \"Topic5\", \"Topic5\", \"Topic5\", \"Topic5\", \"Topic5\", \"Topic5\", \"Topic5\", \"Topic5\", \"Topic5\", \"Topic5\", \"Topic5\", \"Topic5\", \"Topic5\", \"Topic6\", \"Topic6\", \"Topic6\", \"Topic6\", \"Topic6\", \"Topic6\", \"Topic6\", \"Topic6\", \"Topic6\", \"Topic6\", \"Topic6\", \"Topic6\", \"Topic6\", \"Topic6\", \"Topic6\", \"Topic6\", \"Topic6\", \"Topic6\", \"Topic6\", \"Topic6\", \"Topic6\", \"Topic6\", \"Topic6\", \"Topic6\", \"Topic6\", \"Topic6\", \"Topic6\", \"Topic6\", \"Topic6\", \"Topic6\", \"Topic6\", \"Topic6\", \"Topic6\", \"Topic6\", \"Topic6\", \"Topic6\", \"Topic6\", \"Topic6\", \"Topic6\", \"Topic6\", \"Topic6\", \"Topic6\", \"Topic6\", \"Topic6\", \"Topic6\", \"Topic6\", \"Topic6\", \"Topic6\", \"Topic6\", \"Topic6\", \"Topic6\", \"Topic6\", \"Topic6\", \"Topic7\", \"Topic7\", \"Topic7\", \"Topic7\", \"Topic7\", \"Topic7\", \"Topic7\", \"Topic7\", \"Topic7\", \"Topic7\", \"Topic7\", \"Topic7\", \"Topic7\", \"Topic7\", \"Topic7\", \"Topic7\", \"Topic7\", \"Topic7\", \"Topic7\", \"Topic7\", \"Topic7\", \"Topic7\", \"Topic7\", \"Topic7\", \"Topic7\", \"Topic7\", \"Topic7\", \"Topic7\", \"Topic7\", \"Topic7\", \"Topic7\", \"Topic7\", \"Topic7\", \"Topic7\", \"Topic7\", \"Topic7\", \"Topic7\", \"Topic7\", \"Topic7\", \"Topic7\", \"Topic7\", \"Topic7\", \"Topic7\", \"Topic7\", \"Topic7\", \"Topic7\", \"Topic7\", \"Topic7\", \"Topic7\", \"Topic7\", \"Topic7\"], \"logprob\": [20.0, 19.0, 18.0, 17.0, 16.0, 15.0, 14.0, 13.0, 12.0, 11.0, 10.0, 9.0, 8.0, 7.0, 6.0, 5.0, 4.0, 3.0, 2.0, 1.0, -5.9056, -7.0554, -6.5114, -7.072, -6.6995, -6.7236, -6.0936, -7.4033, -6.9076, -7.4114, -6.8999, -6.916, -7.1485, -6.7081, -7.4172, -7.4162, -7.4201, -6.932, -6.9284, -6.7793, -6.4504, -5.7905, -5.9168, -5.5339, -5.4558, -5.6605, -4.3542, -5.9373, -4.7548, -4.7465, -5.1905, -5.5967, -5.8978, -6.023, -5.6057, -4.9037, -5.9477, -5.7102, -5.9248, -5.7224, -5.5573, -5.5458, -5.7722, -5.6748, -5.6346, -5.6511, -5.7131, -5.7025, -6.2135, -6.5511, -6.7541, -6.5692, -6.7731, -6.7921, -7.0529, -7.0592, -7.0594, -6.8727, -6.7206, -5.8292, -7.432, -7.4322, -7.4333, -7.4553, -5.8187, -6.7653, -6.981, -6.2064, -6.4022, -5.4266, -5.3639, -6.3375, -5.6684, -5.0279, -4.9668, -5.5786, -6.2264, -5.9158, -5.6329, -5.5768, -5.5665, -5.1739, -5.5552, -6.1482, -5.1657, -6.0435, -5.3365, -5.5616, -5.9248, -5.657, -5.8933, -5.6797, -5.7461, -5.827, -6.6658, -6.6765, -7.1899, -7.1932, -6.9808, -7.2614, -7.2757, -5.9761, -7.0059, -6.2853, -7.3492, -7.3695, -7.3579, -7.3674, -7.3756, -7.3807, -7.4064, -7.8007, -7.802, -7.8024, -6.7137, -7.1216, -6.7395, -6.9322, -6.3715, -6.3227, -5.8895, -5.8342, -5.6611, -6.1918, -5.0576, -6.133, -5.0134, -5.7549, -5.1079, -6.2044, -6.1929, -5.2689, -5.9469, -5.6465, -5.2451, -5.2333, -5.5362, -5.4541, -5.7685, -5.8631, -5.6436, -5.8641, -5.7414, -5.8437, -5.7718, -5.8781, -7.1832, -6.8364, -6.845, -5.1793, -7.5753, -7.0769, -7.0705, -6.7728, -6.9035, -7.6117, -6.3186, -7.1126, -7.1181, -7.3619, -7.1297, -5.7052, -6.7822, -7.3552, -5.9272, -6.4621, -6.0501, -5.6554, -6.3624, -6.5288, -4.4281, -6.3658, -6.3026, -6.225, -5.2494, -4.5613, -4.912, -5.3069, -5.92, -5.5277, -5.3286, -6.1724, -5.2282, -5.8978, -6.0354, -5.8579, -5.6647, -5.5405, -5.9887, -5.8716, -5.8359, -5.8162, -5.8834, -5.9507, -6.0999, -6.5679, -6.802, -6.5929, -7.1503, -6.8723, -6.4966, -7.2231, -7.2257, -6.9389, -7.2456, -7.2341, -6.9757, -6.0655, -6.7836, -5.5117, -6.6046, -7.2968, -7.3049, -6.2142, -4.9088, -5.4114, -5.9741, -6.3931, -5.5315, -6.2966, -5.665, -6.2029, -4.9306, -5.1879, -5.4968, -5.3029, -5.4869, -5.6082, -6.071, -5.369, -5.9042, -5.9802, -5.9491, -5.914, -5.9361, -5.8859, -6.8443, -7.0611, -6.5975, -6.5884, -7.0652, -6.7324, -6.9118, -6.9157, -6.6445, -7.6121, -6.7723, -7.1033, -7.1155, -6.9298, -5.8098, -7.1201, -6.9385, -6.9788, -7.3955, -7.3715, -6.7124, -6.8321, -4.381, -6.3291, -6.2219, -6.2042, -5.4223, -6.5269, -6.106, -5.6925, -5.9553, -6.2452, -5.8547, -5.5041, -5.5854, -6.2285, -5.5756, -6.1514, -5.5661, -5.1797, -5.2325, -5.6626, -5.7573, -5.1194, -5.5529, -5.633, -5.3396, -5.9333, -5.5754, -5.6901, -5.6881, -5.8223, -5.8177, -6.0666, -5.9514, -5.8943, -7.0225, -7.0519, -6.531, -7.4151, -7.4226, -7.4279, -6.9232, -7.4376, -7.1559, -7.1861, -6.2316, -7.4513, -7.4546, -6.7604, -7.496, -6.8629, -7.4941, -7.2094, -6.7044, -6.6569, -6.1645, -6.5653, -5.8245, -6.2495, -5.8472, -5.844, -5.6295, -6.2844, -5.3011, -5.503, -4.9814, -5.2328, -5.8757, -6.4369, -6.0695, -5.6748, -6.0676, -5.9696, -5.2559, -5.9806, -5.3738, -5.5405, -5.695, -5.7638, -5.6816, -5.9129, -5.7607, -5.8793], \"loglift\": [20.0, 19.0, 18.0, 17.0, 16.0, 15.0, 14.0, 13.0, 12.0, 11.0, 10.0, 9.0, 8.0, 7.0, 6.0, 5.0, 4.0, 3.0, 2.0, 1.0, 1.6002, 1.5425, 1.539, 1.528, 1.5213, 1.507, 1.4925, 1.488, 1.4871, 1.4788, 1.477, 1.474, 1.4728, 1.4699, 1.4679, 1.4674, 1.4635, 1.4624, 1.4613, 1.4508, 1.4403, 1.2087, 1.2218, 1.1394, 1.1145, 1.1346, 0.7954, 1.1757, 0.7347, 0.6544, 0.7888, 0.8972, 1.0115, 1.0587, 0.7772, 0.3246, 0.9859, 0.7641, 0.9541, 0.7508, 0.5096, 0.394, 0.7195, 0.4887, 0.2527, -0.0362, 0.1871, 0.0908, 1.7092, 1.6612, 1.6412, 1.6353, 1.6256, 1.609, 1.5704, 1.5646, 1.564, 1.5218, 1.5185, 1.5167, 1.4842, 1.4834, 1.4827, 1.4634, 1.4626, 1.4511, 1.433, 1.4177, 1.3892, 1.221, 1.1458, 1.2852, 1.153, 1.0003, 0.9205, 1.0202, 1.2435, 1.0926, 0.9624, 0.9004, 0.8872, 0.5862, 0.7981, 1.1916, 0.333, 1.0683, 0.2785, 0.4178, 0.8372, 0.1363, 0.6687, -0.1903, -0.5178, -0.6775, 1.9362, 1.9177, 1.9094, 1.9048, 1.8498, 1.8271, 1.8091, 1.8055, 1.7942, 1.7813, 1.7277, 1.7175, 1.7168, 1.7145, 1.6986, 1.69, 1.6695, 1.6673, 1.6657, 1.6647, 1.6276, 1.6433, 1.6205, 1.62, 1.5519, 1.544, 1.4447, 1.398, 1.3585, 1.4345, 1.1339, 1.4127, 1.0976, 1.1723, 0.841, 1.3351, 1.3269, 0.7489, 1.1141, 0.8632, 0.5482, 0.3593, 0.5307, 0.3913, 0.7254, 0.8551, 0.1165, 0.5926, 0.1587, 0.393, -0.2732, 0.4752, 1.3429, 1.2974, 1.2749, 1.2573, 1.2559, 1.2528, 1.2482, 1.2316, 1.2237, 1.2205, 1.2188, 1.2175, 1.2092, 1.2058, 1.2047, 1.2021, 1.199, 1.1918, 1.1913, 1.1889, 1.1841, 1.1393, 1.1658, 1.1632, 0.9848, 1.1441, 1.1317, 1.0926, 0.8616, 0.667, 0.6806, 0.771, 0.9029, 0.6709, 0.4315, 0.8761, -0.0786, 0.5939, 0.7237, 0.493, 0.1808, -0.0418, 0.6383, 0.3988, 0.1819, 0.0711, -0.0901, 2.3735, 2.3502, 2.1795, 2.1407, 2.1377, 2.0588, 2.0303, 2.0055, 1.9591, 1.9472, 1.9416, 1.9393, 1.9353, 1.8904, 1.8786, 1.8684, 1.862, 1.8536, 1.8524, 1.8395, 1.8383, 1.7743, 1.707, 1.6977, 1.7643, 1.4505, 1.6159, 1.2808, 1.5048, 0.5589, 0.4271, 0.6783, 0.2898, 0.4528, 0.5722, 1.1814, -0.2194, 0.7434, 0.8831, 0.5183, 0.1142, 0.2554, -0.4729, 1.3133, 1.2899, 1.2844, 1.2768, 1.2745, 1.2692, 1.243, 1.2419, 1.2415, 1.2389, 1.2286, 1.2281, 1.2241, 1.223, 1.2132, 1.2131, 1.2107, 1.2039, 1.1999, 1.1939, 1.1912, 1.18, 1.02, 1.1404, 1.1193, 1.0986, 0.9241, 1.1184, 1.0195, 0.8467, 0.9022, 0.9862, 0.83, 0.6763, 0.685, 0.9629, 0.5996, 0.9101, 0.5118, 0.2333, 0.2661, 0.5009, 0.5794, 0.0301, 0.2926, 0.3159, -0.1113, 0.6621, -0.0859, 0.1032, -0.0732, 0.3671, 0.0825, 1.7078, 1.6011, 1.5955, 1.5738, 1.544, 1.5219, 1.4754, 1.4703, 1.4674, 1.4564, 1.4548, 1.4542, 1.4395, 1.4365, 1.4276, 1.4237, 1.4138, 1.4081, 1.4074, 1.4074, 1.4056, 1.3937, 1.3771, 1.3473, 1.3635, 1.2438, 1.2858, 1.1911, 1.1453, 1.067, 1.2003, 0.8976, 0.9537, 0.6335, 0.707, 0.9309, 1.2379, 0.972, 0.6479, 0.9564, 0.8743, 0.2428, 0.8476, -0.2243, 0.0521, 0.2051, 0.2155, -0.2687, 0.5604, -0.5324, -0.3898]}, \"token.table\": {\"Topic\": [1, 2, 3, 4, 5, 7, 1, 2, 3, 4, 5, 6, 7, 5, 3, 5, 6, 7, 2, 3, 4, 5, 6, 7, 1, 4, 6, 2, 3, 4, 6, 7, 1, 2, 7, 4, 6, 3, 2, 3, 4, 5, 6, 7, 2, 4, 5, 6, 7, 6, 7, 1, 4, 1, 2, 3, 4, 5, 7, 1, 6, 1, 4, 6, 2, 1, 3, 1, 3, 3, 1, 2, 3, 4, 5, 6, 1, 2, 3, 4, 5, 6, 7, 2, 6, 1, 3, 4, 5, 6, 7, 4, 5, 6, 7, 5, 1, 2, 7, 1, 7, 1, 2, 3, 4, 5, 6, 7, 6, 7, 5, 1, 2, 4, 5, 6, 7, 1, 2, 3, 4, 5, 6, 7, 6, 1, 2, 3, 4, 5, 6, 7, 1, 2, 3, 4, 5, 7, 1, 2, 3, 4, 5, 6, 7, 1, 2, 3, 4, 6, 7, 1, 3, 4, 7, 1, 2, 3, 4, 5, 6, 7, 6, 2, 3, 6, 2, 4, 6, 7, 1, 2, 3, 4, 6, 7, 1, 3, 4, 7, 5, 2, 3, 4, 5, 6, 7, 1, 2, 3, 4, 5, 6, 7, 6, 1, 2, 3, 4, 5, 6, 7, 3, 6, 7, 7, 1, 2, 4, 5, 7, 1, 2, 4, 5, 6, 7, 1, 2, 4, 5, 6, 7, 1, 2, 4, 5, 7, 2, 1, 5, 1, 1, 2, 3, 4, 5, 6, 7, 1, 2, 3, 4, 5, 6, 7, 4, 6, 2, 6, 7, 2, 5, 1, 1, 2, 4, 4, 6, 1, 2, 3, 4, 5, 6, 7, 1, 2, 4, 5, 6, 7, 1, 2, 3, 4, 5, 6, 7, 2, 3, 4, 3, 4, 6, 7, 1, 2, 3, 4, 5, 6, 7, 1, 2, 7, 1, 2, 3, 4, 5, 6, 7, 1, 2, 3, 4, 6, 7, 5, 2, 7, 6, 1, 2, 3, 4, 5, 6, 7, 7, 4, 2, 1, 2, 3, 4, 5, 6, 7, 1, 2, 3, 4, 5, 6, 7, 1, 2, 3, 4, 5, 6, 7, 2, 2, 2, 1, 3, 4, 6, 3, 2, 3, 4, 5, 6, 7, 1, 2, 5, 6, 1, 2, 3, 4, 5, 6, 7, 1, 2, 3, 4, 5, 6, 7, 1, 2, 3, 4, 5, 6, 7, 1, 3, 4, 5, 6, 7, 1, 3, 4, 5, 6, 7, 3, 1, 2, 4, 6, 7, 3, 6, 7, 6, 7, 1, 2, 3, 4, 5, 6, 7, 3, 6, 1, 2, 3, 4, 6, 7, 4, 5, 5, 1, 2, 3, 4, 5, 6, 7, 1, 2, 4, 7, 2, 1, 2, 3, 4, 5, 6, 7, 1, 2, 4, 6, 7, 1, 2, 3, 4, 5, 6, 7, 1, 2, 3, 4, 5, 6, 7, 2, 1, 2, 3, 4, 5, 6, 7, 2, 5, 4, 6, 7, 1, 2, 3, 4, 5, 6, 7, 2, 3, 4, 5, 6, 4, 3, 7, 3, 4, 6, 5, 7, 2, 1, 2, 4, 5, 6, 7, 1, 2, 3, 4, 5, 6, 7, 5, 4, 6, 7, 2, 2, 3, 4, 5, 6, 7, 2, 4, 6, 7, 1, 2, 3, 4, 5, 6, 7, 1, 2, 3, 4, 5, 6, 7, 1, 2, 3, 4, 5, 6, 7, 1, 2, 3, 6, 7, 1, 2, 3, 4, 5, 6, 7, 1, 2, 1, 2, 3, 4, 5, 6, 7, 3, 3, 6, 7, 1, 2, 3, 4, 5, 6, 7, 1, 2, 3, 4, 5, 6, 7, 6, 7, 1, 2, 3, 4, 5, 6, 7, 1, 1, 2, 4, 6, 7, 1, 2, 3, 4, 7, 1, 2, 3, 4, 5, 6, 7, 1, 2, 3, 4, 5, 6, 7, 7, 1, 2, 3, 4, 5, 6, 7, 1, 2, 4, 5, 6, 7, 1, 2, 3, 4, 5, 6, 7, 7, 6, 1, 2, 3, 4, 5, 6, 7, 3, 3, 4, 6, 1, 4, 6, 7, 3, 6, 7, 2, 3, 4, 5, 6, 7, 6, 7, 6, 7, 1, 4, 5, 1, 2, 3, 4, 6, 7, 1, 2, 2, 7, 1, 2, 3, 4, 5, 6, 7, 4, 5, 7, 3, 1, 2, 3, 4, 5, 6, 7, 1, 2, 3, 4, 5, 6, 7, 5, 4, 6, 7, 4, 1, 2, 3, 4, 5, 6, 4, 3, 2, 3, 4, 6, 7, 1, 2, 3, 4, 7, 1, 2, 3, 4, 5, 6, 7, 1, 5, 3, 5, 7, 3, 4, 7, 4, 4, 6, 3, 4, 5, 6, 7, 7, 3, 5, 6, 7, 5, 2, 4, 7, 1, 2, 3, 4, 5, 6, 7, 4, 1, 2, 3, 4, 6, 7, 1, 2, 3, 4, 6, 7, 1, 1, 2, 3, 4, 5, 6, 7, 2, 3, 4, 6, 7, 2, 6, 1, 2, 3, 4, 5, 6, 7, 4, 7, 2, 3, 4, 5, 6, 7, 3, 1, 2, 3, 4, 5, 6, 7, 4, 7, 1, 2, 3, 4, 5, 7, 1, 2, 3, 4, 5, 6, 7, 2, 4, 6, 1, 2, 3, 4, 5, 6, 1, 1, 4, 5, 6, 5, 1, 2, 3, 4, 5, 6, 7, 1, 2, 3, 4, 5, 6, 7, 1, 2, 3, 4, 5, 6, 7, 1, 2, 3, 4, 5, 6, 7, 3, 1, 2, 3, 4, 5, 6, 7, 1, 2, 3, 4, 5, 6, 7, 1, 3, 1, 2, 3, 4, 5, 6, 7, 1, 2, 3, 4, 5, 6, 7, 5, 1, 2, 3, 4, 5, 7, 2, 3, 4, 7, 6, 7, 1, 2, 3, 4, 5, 6, 7, 2, 7, 1, 2, 3, 4, 5, 6, 7, 1, 1, 2, 3, 4, 5, 6, 7, 6, 3, 7, 1, 2, 7, 2, 3, 1, 2, 3, 4, 5, 6, 7, 2, 1, 2, 3, 4, 6, 7, 1, 2, 4, 6, 7, 1, 2, 5, 6, 7, 3, 1, 2, 4, 6, 3, 4, 6, 7, 1, 2, 3, 4, 5, 6, 7, 6, 1, 2, 3, 4, 5, 6, 7], \"Freq\": [0.0840966893851037, 0.5045801363106222, 0.0840966893851037, 0.0840966893851037, 0.0840966893851037, 0.0840966893851037, 0.12570877375900327, 0.12570877375900327, 0.06285438687950164, 0.4399807081565114, 0.06285438687950164, 0.12570877375900327, 0.06285438687950164, 0.5111055535298152, 0.4273056387578002, 0.14243521291926672, 0.14243521291926672, 0.28487042583853345, 0.1015411778682427, 0.1015411778682427, 0.6092470672094562, 0.1015411778682427, 0.1015411778682427, 0.1015411778682427, 0.5836267271259876, 0.1459066817814969, 0.1459066817814969, 0.4107385306405071, 0.3080538979803803, 0.10268463266012677, 0.10268463266012677, 0.10268463266012677, 0.7875700210901115, 0.8135498981045552, 0.7838647767045652, 0.744184356655047, 0.18604608916376175, 0.47777007089621093, 0.38532256070710014, 0.07706451214142003, 0.15412902428284006, 0.23119353642426008, 0.07706451214142003, 0.07706451214142003, 0.06126651090682403, 0.12253302181364806, 0.06126651090682403, 0.6739316199750643, 0.06126651090682403, 0.6520218799784797, 0.16300546999461993, 0.1848403667335474, 0.7393614669341896, 0.4390294406695232, 0.0975620979265607, 0.14634314688984107, 0.1951241958531214, 0.04878104896328035, 0.04878104896328035, 0.14222800679139358, 0.7111400339569679, 0.5833557533787892, 0.19445191779292975, 0.19445191779292975, 0.8157767986083869, 0.7875291319869241, 0.5896716906688082, 0.7209149067689262, 0.4801394027863369, 0.483304603836839, 0.03994802893953983, 0.3994802893953983, 0.03994802893953983, 0.03994802893953983, 0.03994802893953983, 0.3994802893953983, 0.32363520732569184, 0.237332485372174, 0.021575680488379455, 0.12945408293027671, 0.06472704146513836, 0.04315136097675891, 0.17260544390703564, 0.6073914460036204, 0.590360043902244, 0.3679703563482622, 0.06132839272471037, 0.06132839272471037, 0.06132839272471037, 0.12265678544942074, 0.3679703563482622, 0.17151751519527658, 0.34303503039055316, 0.17151751519527658, 0.17151751519527658, 0.6872986641824668, 0.6949758306098993, 0.0992822615156999, 0.0992822615156999, 0.17159325977879544, 0.6863730391151818, 0.16701815588226337, 0.05567271862742113, 0.2783635931371056, 0.11134543725484226, 0.05567271862742113, 0.33403631176452675, 0.05567271862742113, 0.7557055713650779, 0.18892639284126947, 0.513606530585105, 0.043611732851195344, 0.08722346570239069, 0.13083519855358602, 0.3925055956607581, 0.21805866425597673, 0.13083519855358602, 0.04762124547537797, 0.07143186821306696, 0.04762124547537797, 0.4285912092784017, 0.023810622737688986, 0.3333487183276458, 0.07143186821306696, 0.6935407737575411, 0.10648267818968693, 0.18634468683195213, 0.0798620086422652, 0.21296535637937386, 0.053241339094843465, 0.29282736502163903, 0.0798620086422652, 0.04719131876928882, 0.3775305501543106, 0.14157395630786646, 0.09438263753857765, 0.04719131876928882, 0.2831479126157329, 0.18068605772267446, 0.045171514430668615, 0.22585757215334307, 0.3613721154453489, 0.045171514430668615, 0.045171514430668615, 0.09034302886133723, 0.47858718407287554, 0.11964679601821888, 0.05982339800910944, 0.05982339800910944, 0.05982339800910944, 0.17947019402732833, 0.1997637888037303, 0.09988189440186515, 0.09988189440186515, 0.599291366411191, 0.22326620286554452, 0.13954137679096532, 0.13954137679096532, 0.22326620286554452, 0.027908275358193065, 0.22326620286554452, 0.027908275358193065, 0.7621334493595142, 0.1308105221579514, 0.5232420886318055, 0.1308105221579514, 0.11756050998626431, 0.11756050998626431, 0.11756050998626431, 0.47024203994505726, 0.08839684688456577, 0.08839684688456577, 0.044198423442282884, 0.26519054065369735, 0.08839684688456577, 0.44198423442282886, 0.6149005674857554, 0.46654818690866423, 0.23327409345433212, 0.23327409345433212, 0.38695814702990133, 0.13480887193184163, 0.06740443596592081, 0.6066399236932873, 0.06740443596592081, 0.06740443596592081, 0.06740443596592081, 0.25087931626824667, 0.3449590598688392, 0.15679957266765418, 0.03135991453353083, 0.09407974360059251, 0.03135991453353083, 0.09407974360059251, 0.6801092892201709, 0.16121968638731302, 0.17913298487479223, 0.16121968638731302, 0.17913298487479223, 0.017913298487479225, 0.2149595818497507, 0.08956649243739612, 0.34973365132968803, 0.34973365132968803, 0.7949708723511337, 0.7945233297415317, 0.26782725672596075, 0.46869769927043126, 0.06695681418149019, 0.06695681418149019, 0.06695681418149019, 0.46750781712676026, 0.11687695428169007, 0.23375390856338013, 0.03895898476056336, 0.11687695428169007, 0.03895898476056336, 0.47506354732158057, 0.21593797605526388, 0.12956278563315832, 0.08637519042210555, 0.08637519042210555, 0.043187595211052775, 0.07932466596505612, 0.7139219936855051, 0.07932466596505612, 0.07932466596505612, 0.07932466596505612, 0.8049578194153802, 0.7117599877939195, 0.7658309952682844, 0.6088777490767092, 0.048760596898214895, 0.048760596898214895, 0.048760596898214895, 0.5851271627785788, 0.048760596898214895, 0.19504238759285958, 0.048760596898214895, 0.08418236826512146, 0.5471853937232894, 0.04209118413256073, 0.04209118413256073, 0.12627355239768218, 0.04209118413256073, 0.12627355239768218, 0.5624616076025122, 0.2812308038012561, 0.16473581283245764, 0.6589432513298306, 0.16473581283245764, 0.7987830866554281, 0.3925652068399691, 0.7243207849000423, 0.0846142265814205, 0.676913812651364, 0.0846142265814205, 0.5981592344513036, 0.19938641148376787, 0.05121853897004155, 0.15365561691012464, 0.05121853897004155, 0.3073112338202493, 0.05121853897004155, 0.05121853897004155, 0.35852977279029086, 0.11342835256151686, 0.34028505768455053, 0.17014252884227526, 0.22685670512303371, 0.05671417628075843, 0.05671417628075843, 0.18249357097435828, 0.030415595162393047, 0.030415595162393047, 0.18249357097435828, 0.030415595162393047, 0.24332476129914438, 0.27374035646153744, 0.3015000116870016, 0.45225001753050237, 0.1507500058435008, 0.18487385573730758, 0.5546215672119227, 0.09243692786865379, 0.09243692786865379, 0.09436276824939989, 0.11323532189927986, 0.13210787554915984, 0.22647064379855972, 0.05661766094963993, 0.2642157510983197, 0.09436276824939989, 0.22319176223991785, 0.5579794055997946, 0.11159588111995893, 0.06796184897158045, 0.43042504348667615, 0.06796184897158045, 0.1359236979431609, 0.06796184897158045, 0.1359236979431609, 0.09061579862877393, 0.07250030439856173, 0.07250030439856173, 0.07250030439856173, 0.07250030439856173, 0.5075021307899321, 0.21750091319568518, 0.5308246081491703, 0.1298727484350167, 0.7792364906101001, 0.651591990281967, 0.23548927515313034, 0.16484249260719125, 0.1412935650918782, 0.0706467825459391, 0.04709785503062607, 0.21194034763781733, 0.09419571006125214, 0.7834518048012077, 0.7473693968432501, 0.6201490608193787, 0.1202574903970209, 0.4409441314557433, 0.0400858301323403, 0.2004291506617015, 0.0400858301323403, 0.0801716602646806, 0.0400858301323403, 0.3827608964443123, 0.054680128063473186, 0.054680128063473186, 0.054680128063473186, 0.054680128063473186, 0.21872051225389275, 0.16404038419041955, 0.07333702181108093, 0.476690641772026, 0.22001106543324278, 0.03666851090554046, 0.03666851090554046, 0.07333702181108093, 0.11000553271662139, 0.7250158496152713, 0.9038759070407387, 0.7274634931256363, 0.30206874439581766, 0.30206874439581766, 0.10068958146527256, 0.2013791629305451, 0.7058415913390442, 0.5007650573802632, 0.10015301147605266, 0.05007650573802633, 0.05007650573802633, 0.15022951721407898, 0.10015301147605266, 0.7887244321835157, 0.15388963475261086, 0.4616689042578326, 0.3077792695052217, 0.1931909719277296, 0.3091055550843674, 0.03863819438554592, 0.23182916631327552, 0.03863819438554592, 0.11591458315663776, 0.03863819438554592, 0.04934346370092733, 0.09868692740185465, 0.04934346370092733, 0.1973738548037093, 0.04934346370092733, 0.1973738548037093, 0.3947477096074186, 0.08002452684621252, 0.05334968456414167, 0.2667484228207084, 0.1333742114103542, 0.08002452684621252, 0.24007358053863753, 0.10669936912828334, 0.06787789477010321, 0.06787789477010321, 0.13575578954020642, 0.06787789477010321, 0.5430231581608257, 0.13575578954020642, 0.07552023891149212, 0.3776011945574606, 0.07552023891149212, 0.07552023891149212, 0.22656071673447636, 0.15104047782298424, 0.4748382563002302, 0.12820467568139765, 0.06410233784069883, 0.12820467568139765, 0.12820467568139765, 0.5128187027255906, 0.145215042682337, 0.7260752134116851, 0.145215042682337, 0.7623429583593205, 0.793036649620146, 0.1793923670843794, 0.11959491138958625, 0.09966242615798855, 0.1793923670843794, 0.01993248523159771, 0.2192573375475748, 0.1793923670843794, 0.19535733210450137, 0.586071996313504, 0.12728467264867313, 0.1909270089730097, 0.25456934529734626, 0.25456934529734626, 0.06364233632433657, 0.06364233632433657, 0.574278109811492, 0.5322588783069331, 0.6758775856310686, 0.13869281870168926, 0.3814052514296455, 0.06934640935084463, 0.2080392280525339, 0.034673204675422314, 0.034673204675422314, 0.13869281870168926, 0.11175550672309208, 0.6705330403385524, 0.11175550672309208, 0.11175550672309208, 0.8136207420426648, 0.03549439817841467, 0.3904383799625613, 0.14197759271365867, 0.07098879635682934, 0.07098879635682934, 0.17747199089207333, 0.14197759271365867, 0.08104233705603643, 0.08104233705603643, 0.08104233705603643, 0.5672963593922551, 0.16208467411207286, 0.13105284133513226, 0.08736856089008818, 0.08736856089008818, 0.08736856089008818, 0.04368428044504409, 0.4368428044504409, 0.13105284133513226, 0.14649859646727645, 0.0627851127716899, 0.20928370923896633, 0.1883553383150697, 0.020928370923896635, 0.27206882201065624, 0.10464185461948317, 0.8131725745053349, 0.23345008156704902, 0.077816693855683, 0.10375559180757735, 0.18157228566326034, 0.025938897951894337, 0.33720567337462637, 0.05187779590378867, 0.25735471040118085, 0.5147094208023617, 0.10403411390968115, 0.10403411390968115, 0.7282387973677681, 0.3230077669073485, 0.16150388345367425, 0.09690233007220456, 0.06460155338146971, 0.032300776690734855, 0.1938046601444091, 0.09690233007220456, 0.11961391766705377, 0.11961391766705377, 0.5980695883352689, 0.11961391766705377, 0.11961391766705377, 0.7339160379564744, 0.4826385461600187, 0.6084563598988422, 0.5218590607005086, 0.3479060404670057, 0.17395302023350284, 0.17951792926622948, 0.5385537877986885, 0.6071406277552882, 0.13479763779422577, 0.13479763779422577, 0.13479763779422577, 0.33699409448556444, 0.13479763779422577, 0.06739881889711288, 0.31853662890761353, 0.17696479383756308, 0.03539295876751262, 0.2477507113725883, 0.03539295876751262, 0.03539295876751262, 0.14157183507005047, 0.3123856918243915, 0.6388828638748039, 0.15972071596870097, 0.15972071596870097, 0.7292109582927638, 0.11721890761976901, 0.11721890761976901, 0.11721890761976901, 0.35165672285930705, 0.11721890761976901, 0.23443781523953802, 0.06366993156452404, 0.06366993156452404, 0.5093594525161923, 0.3183496578226202, 0.2352774012169477, 0.09411096048677908, 0.04705548024338954, 0.37644384194711633, 0.09411096048677908, 0.04705548024338954, 0.04705548024338954, 0.20889172670790962, 0.052222931676977405, 0.052222931676977405, 0.10444586335395481, 0.15666879503093223, 0.20889172670790962, 0.20889172670790962, 0.21590209474227828, 0.1542157819587702, 0.12337262556701617, 0.061686312783508085, 0.061686312783508085, 0.3701178767010485, 0.061686312783508085, 0.08421734073900368, 0.08421734073900368, 0.08421734073900368, 0.5895213851730258, 0.08421734073900368, 0.024612290103955693, 0.049224580207911386, 0.27073519114351263, 0.4676335119751582, 0.024612290103955693, 0.07383687031186709, 0.09844916041582277, 0.6058754349138191, 0.6070484109681988, 0.2881141204222176, 0.0360142650527772, 0.0360142650527772, 0.360142650527772, 0.0720285301055544, 0.180071325263886, 0.0360142650527772, 0.362240627844763, 0.4879842947593818, 0.15156293742269206, 0.6062517496907682, 0.02686608469209244, 0.02686608469209244, 0.05373216938418488, 0.37612518568929415, 0.02686608469209244, 0.10746433876836976, 0.3492591009972017, 0.06228891939349518, 0.09343337909024277, 0.03114445969674759, 0.21801121787723313, 0.03114445969674759, 0.49831135514796143, 0.09343337909024277, 0.681327146660687, 0.22710904888689568, 0.3293599093374052, 0.0752822649914069, 0.03764113249570345, 0.1787953793545914, 0.05646169874355517, 0.20702622872636897, 0.12233368061103622, 0.5918932516669112, 0.48143181201800994, 0.13755194629085998, 0.20632791943628997, 0.06877597314542999, 0.06877597314542999, 0.07567422660378001, 0.07567422660378001, 0.07567422660378001, 0.6053938128302401, 0.15134845320756002, 0.13862792948581698, 0.27725585897163396, 0.10397094711436274, 0.29458435015736106, 0.034656982371454245, 0.0866424559286356, 0.06931396474290849, 0.05773230058838589, 0.08659845088257884, 0.05773230058838589, 0.28866150294192944, 0.028866150294192944, 0.4041261041187012, 0.08659845088257884, 0.5990876971608005, 0.08246575382239787, 0.24739726146719365, 0.04123287691119894, 0.3710958922007905, 0.08246575382239787, 0.16493150764479575, 0.04123287691119894, 0.31821362031667605, 0.07071413784815024, 0.2121424135444507, 0.03535706892407512, 0.10607120677222535, 0.24749948246852582, 0.07546193032739161, 0.15092386065478322, 0.15092386065478322, 0.07546193032739161, 0.07546193032739161, 0.5282335122917413, 0.07546193032739161, 0.796850728554275, 0.6856692218839229, 0.06038107609874171, 0.48304860878993366, 0.06038107609874171, 0.06038107609874171, 0.06038107609874171, 0.06038107609874171, 0.24152430439496683, 0.4815368735840297, 0.11479796195663304, 0.6887877717397982, 0.11479796195663304, 0.6455840293256488, 0.10759733822094147, 0.10759733822094147, 0.10759733822094147, 0.1446219495460637, 0.7231097477303184, 0.1446219495460637, 0.03408508193417988, 0.13634032773671953, 0.6817016386835977, 0.03408508193417988, 0.06817016386835976, 0.03408508193417988, 0.19372359119469693, 0.5811707735840907, 0.7585304223740997, 0.8017888259117051, 0.6145501243334731, 0.20485004144449104, 0.4013462711136031, 0.39217813201516427, 0.16807634229221327, 0.05602544743073775, 0.16807634229221327, 0.05602544743073775, 0.16807634229221327, 0.7211377620124162, 0.6062218206048857, 0.7243984380830003, 0.590915384105231, 0.11761336544185412, 0.17642004816278117, 0.05880668272092706, 0.17642004816278117, 0.2940334136046353, 0.11761336544185412, 0.05880668272092706, 0.19050450822441256, 0.3810090164488251, 0.19050450822441256, 0.7062482839892401, 0.11210444201089788, 0.15694621881525703, 0.17936710721743662, 0.22420888402179576, 0.044841776804359156, 0.15694621881525703, 0.08968355360871831, 0.06955105381630762, 0.20865316144892285, 0.17387763454076904, 0.10432658072446142, 0.03477552690815381, 0.06955105381630762, 0.38253079598969186, 0.5453266748341649, 0.11678297376682041, 0.11678297376682041, 0.583914868834102, 0.6714974028669894, 0.3713202588667917, 0.10609150253336906, 0.05304575126668453, 0.10609150253336906, 0.05304575126668453, 0.31827450760010717, 0.8263004335689036, 0.7063892636905629, 0.1033234377123933, 0.4132937508495732, 0.2066468754247866, 0.2066468754247866, 0.1033234377123933, 0.0972133788719456, 0.0972133788719456, 0.0972133788719456, 0.1944267577438912, 0.48606689435972805, 0.0504212992706418, 0.3025277956238508, 0.0504212992706418, 0.0504212992706418, 0.0504212992706418, 0.1512638978119254, 0.3529490948944926, 0.6846769200485415, 0.5240210638086684, 0.4764891454659307, 0.5377741189882796, 0.6397867087397778, 0.4579030594858972, 0.2289515297429486, 0.6020884177564148, 0.748094032752745, 0.6792030528817524, 0.2264010176272508, 0.14910918409677573, 0.29821836819355146, 0.29821836819355146, 0.14910918409677573, 0.14910918409677573, 0.7136967079178246, 0.1215074990931806, 0.2430149981863612, 0.3645224972795418, 0.1215074990931806, 0.4178012050563264, 0.1683821031220602, 0.1683821031220602, 0.5051463093661805, 0.27830131989275403, 0.024200114773282957, 0.024200114773282957, 0.024200114773282957, 0.03630017215992444, 0.5566026397855081, 0.060500286933207394, 0.6773419697105663, 0.062409861895091914, 0.18722958568527576, 0.062409861895091914, 0.18722958568527576, 0.12481972379018383, 0.3744591713705515, 0.155760518353189, 0.05192017278439633, 0.05192017278439633, 0.155760518353189, 0.46728155505956703, 0.05192017278439633, 0.5931306136200168, 0.1582815725574275, 0.05276052418580916, 0.07914078627871375, 0.05276052418580916, 0.10552104837161833, 0.39570393139356874, 0.1582815725574275, 0.05923931567406747, 0.11847863134813494, 0.2961965783703373, 0.05923931567406747, 0.47391452539253975, 0.14780198056312538, 0.5912079222525015, 0.06105542862059134, 0.12211085724118267, 0.366332571723548, 0.24422171448236535, 0.06105542862059134, 0.12211085724118267, 0.06105542862059134, 0.6789091795687647, 0.8038608895630311, 0.08225166870961542, 0.08225166870961542, 0.575761680967308, 0.08225166870961542, 0.08225166870961542, 0.08225166870961542, 0.4772949340730054, 0.0957951476691995, 0.574770886015197, 0.0957951476691995, 0.0957951476691995, 0.0957951476691995, 0.0957951476691995, 0.0957951476691995, 0.65389564518151, 0.1634739112953775, 0.05457324386039956, 0.16371973158119868, 0.05457324386039956, 0.6548789263247947, 0.05457324386039956, 0.05457324386039956, 0.20362271183454472, 0.09163022032554512, 0.030543406775181706, 0.3767020168939077, 0.030543406775181706, 0.173079305059363, 0.09163022032554512, 0.22737797585747352, 0.6821339275724206, 0.5729575479834745, 0.17400777564877082, 0.17400777564877082, 0.08700388782438541, 0.08700388782438541, 0.43501943912192703, 0.08700388782438541, 0.7928643694661184, 0.1024671908750705, 0.614803145250423, 0.1024671908750705, 0.1024671908750705, 0.5258875105105544, 0.05015707826947906, 0.10031415653895812, 0.05015707826947906, 0.5015707826947906, 0.05015707826947906, 0.10031415653895812, 0.20062831307791623, 0.14986904828498698, 0.2098166675989818, 0.0449607144854961, 0.029973809656997398, 0.1049083337994909, 0.1798428579419844, 0.2847511917414753, 0.2281123940119911, 0.10368745182363232, 0.04147498072945293, 0.14516243255308525, 0.10368745182363232, 0.08294996145890586, 0.2903248651061705, 0.029311715745188576, 0.08793514723556572, 0.1319027208533486, 0.3810523046874515, 0.08793514723556572, 0.1319027208533486, 0.16121443659853715, 0.48854909265727525, 0.0622051209844357, 0.0622051209844357, 0.0622051209844357, 0.2488204839377428, 0.0622051209844357, 0.0622051209844357, 0.4976409678754856, 0.1564361155931276, 0.06257444623725103, 0.12514889247450206, 0.3128722311862552, 0.031287223118625515, 0.21901056183037862, 0.09386166935587655, 0.7937326511043862, 0.5943161132598094, 0.14059132853068887, 0.14059132853068887, 0.07029566426534443, 0.17573916066336107, 0.10544349639801665, 0.17573916066336107, 0.17573916066336107, 0.05336621915677313, 0.21346487662709251, 0.0667077739459664, 0.18678176704870594, 0.026683109578386564, 0.25348954099467236, 0.18678176704870594, 0.6751874849475765, 0.10226277519252816, 0.10226277519252816, 0.10226277519252816, 0.10226277519252816, 0.10226277519252816, 0.5113138759626408, 0.08362989161834086, 0.4181494580917043, 0.25088967485502256, 0.25088967485502256, 0.7599956875366278, 0.18999892188415696, 0.3040504913481709, 0.13219586580355258, 0.03965875974106577, 0.11897627922319731, 0.11897627922319731, 0.1850742121249736, 0.10575669264284206, 0.6605316485172285, 0.13210632970344569, 0.19679179522455267, 0.39358359044910535, 0.039358359044910536, 0.21647097474700797, 0.05903753856736581, 0.039358359044910536, 0.07871671808982107, 0.724551097531601, 0.36094730130414127, 0.07218946026082824, 0.18047365065207063, 0.18047365065207063, 0.03609473013041412, 0.07218946026082824, 0.07218946026082824, 0.6857089058761311, 0.7469426300731156, 0.5907119195244548, 0.09772103548445249, 0.09772103548445249, 0.6840472483911674, 0.28270990408787294, 0.5654198081757459, 0.03776995552553926, 0.03776995552553926, 0.03776995552553926, 0.15107982210215704, 0.03776995552553926, 0.4532394663064711, 0.1888497776276963, 0.7386508673329971, 0.4547895616516273, 0.0649699373788039, 0.0649699373788039, 0.1299398747576078, 0.1949098121364117, 0.1299398747576078, 0.09574864712046373, 0.09574864712046373, 0.09574864712046373, 0.6702405298432461, 0.09574864712046373, 0.4692780130705032, 0.2011191484587871, 0.06703971615292903, 0.06703971615292903, 0.13407943230585806, 0.4767205935338496, 0.11415144985085056, 0.11415144985085056, 0.11415144985085056, 0.5707572492542528, 0.3360051854324814, 0.1120017284774938, 0.3360051854324814, 0.1120017284774938, 0.024491511580022676, 0.024491511580022676, 0.024491511580022676, 0.5143217431804762, 0.036737267370034014, 0.2571608715902381, 0.11021180211010205, 0.7621383726875762, 0.07872526922127811, 0.15745053844255621, 0.07872526922127811, 0.05248351281418541, 0.13120878203546352, 0.3673845896992978, 0.13120878203546352], \"Term\": [\"ability\", \"ability\", \"ability\", \"ability\", \"ability\", \"ability\", \"about\", \"about\", \"about\", \"about\", \"about\", \"about\", \"about\", \"accelerated\", \"access\", \"access\", \"access\", \"access\", \"account\", \"account\", \"account\", \"account\", \"account\", \"account\", \"air_defense\", \"air_defense\", \"air_defense\", \"airborne\", \"airborne\", \"airborne\", \"airborne\", \"airborne\", \"airframe\", \"alarm\", \"amcom\", \"amlc\", \"amlc\", \"ammo\", \"analyst\", \"analyst\", \"analyst\", \"analyst\", \"analyst\", \"analyst\", \"application\", \"application\", \"application\", \"application\", \"application\", \"astronaut\", \"astronaut\", \"aviation_asset\", \"aviation_asset\", \"award\", \"award\", \"award\", \"award\", \"award\", \"award\", \"baby\", \"baby\", \"battery\", \"battery\", \"battery\", \"bedroom\", \"blade\", \"block\", \"blueprint\", \"book\", \"broken\", \"business\", \"business\", \"business\", \"business\", \"business\", \"business\", \"capability\", \"capability\", \"capability\", \"capability\", \"capability\", \"capability\", \"capability\", \"carbon\", \"carmy\", \"case\", \"case\", \"case\", \"case\", \"case\", \"case\", \"casualty\", \"casualty\", \"casualty\", \"casualty\", \"casualty_operation\", \"cbm\", \"cbm\", \"cbm\", \"cbrn\", \"cbrn\", \"child\", \"child\", \"child\", \"child\", \"child\", \"child\", \"child\", \"citizenship\", \"citizenship\", \"clock\", \"cloud\", \"cloud\", \"cloud\", \"cloud\", \"cloud\", \"cloud\", \"come\", \"come\", \"come\", \"come\", \"come\", \"come\", \"come\", \"command_sergeant\", \"commander\", \"commander\", \"commander\", \"commander\", \"commander\", \"commander\", \"commander\", \"communication\", \"communication\", \"communication\", \"communication\", \"communication\", \"communication\", \"community\", \"community\", \"community\", \"community\", \"community\", \"community\", \"community\", \"competition\", \"competition\", \"competition\", \"competition\", \"competition\", \"competition\", \"competitor\", \"competitor\", \"competitor\", \"competitor\", \"continue\", \"continue\", \"continue\", \"continue\", \"continue\", \"continue\", \"continue\", \"contraction\", \"convoy\", \"convoy\", \"convoy\", \"coordination\", \"coordination\", \"coordination\", \"coordination\", \"course\", \"course\", \"course\", \"course\", \"course\", \"course\", \"court_martial\", \"credit\", \"credit\", \"credit\", \"cutover\", \"cyber\", \"cyber\", \"cyber\", \"cyber\", \"cyber\", \"cyber\", \"datum\", \"datum\", \"datum\", \"datum\", \"datum\", \"datum\", \"datum\", \"daughter\", \"day\", \"day\", \"day\", \"day\", \"day\", \"day\", \"day\", \"decision_make\", \"decision_make\", \"delay\", \"democratic\", \"demonstration\", \"demonstration\", \"demonstration\", \"demonstration\", \"demonstration\", \"deploy\", \"deploy\", \"deploy\", \"deploy\", \"deploy\", \"deploy\", \"deployment\", \"deployment\", \"deployment\", \"deployment\", \"deployment\", \"deployment\", \"design\", \"design\", \"design\", \"design\", \"design\", \"detector\", \"deter\", \"dfac\", \"die\", \"different\", \"different\", \"different\", \"different\", \"different\", \"different\", \"different\", \"division\", \"division\", \"division\", \"division\", \"division\", \"division\", \"division\", \"downrange\", \"downrange\", \"dream\", \"dream\", \"dream\", \"edecu\", \"eis\", \"end_end\", \"engine\", \"engine\", \"engine\", \"engineer\", \"engineer\", \"ensure\", \"ensure\", \"ensure\", \"ensure\", \"ensure\", \"ensure\", \"ensure\", \"environment\", \"environment\", \"environment\", \"environment\", \"environment\", \"environment\", \"equipment\", \"equipment\", \"equipment\", \"equipment\", \"equipment\", \"equipment\", \"equipment\", \"evacuation\", \"evacuation\", \"evacuation\", \"evacuee\", \"evacuee\", \"evacuee\", \"evacuee\", \"event\", \"event\", \"event\", \"event\", \"event\", \"event\", \"event\", \"exchange\", \"exchange\", \"exchange\", \"exercise\", \"exercise\", \"exercise\", \"exercise\", \"exercise\", \"exercise\", \"exercise\", \"experience\", \"experience\", \"experience\", \"experience\", \"experience\", \"experience\", \"extreme\", \"face_shield\", \"face_shield\", \"faith\", \"family\", \"family\", \"family\", \"family\", \"family\", \"family\", \"family\", \"fault\", \"fence\", \"fielding\", \"fight\", \"fight\", \"fight\", \"fight\", \"fight\", \"fight\", \"fight\", \"find\", \"find\", \"find\", \"find\", \"find\", \"find\", \"find\", \"fire\", \"fire\", \"fire\", \"fire\", \"fire\", \"fire\", \"fire\", \"fire_extinguisher\", \"fire_prevention\", \"fire_safety\", \"first\", \"first\", \"first\", \"first\", \"flawlessly\", \"flight\", \"flight\", \"flight\", \"flight\", \"flight\", \"flight\", \"fold\", \"food_service\", \"food_service\", \"food_service\", \"force\", \"force\", \"force\", \"force\", \"force\", \"force\", \"force\", \"future\", \"future\", \"future\", \"future\", \"future\", \"future\", \"future\", \"get\", \"get\", \"get\", \"get\", \"get\", \"get\", \"get\", \"good\", \"good\", \"good\", \"good\", \"good\", \"good\", \"graduate\", \"graduate\", \"graduate\", \"graduate\", \"graduate\", \"graduate\", \"grenade\", \"group\", \"group\", \"group\", \"group\", \"group\", \"hand\", \"hand\", \"hand\", \"handoff\", \"healthcare\", \"help\", \"help\", \"help\", \"help\", \"help\", \"help\", \"help\", \"high_school\", \"high_school\", \"hour\", \"hour\", \"hour\", \"hour\", \"hour\", \"hour\", \"housing\", \"hrsc\", \"human_resource\", \"information\", \"information\", \"information\", \"information\", \"information\", \"information\", \"information\", \"innovation\", \"innovation\", \"innovation\", \"innovation\", \"inspector\", \"intelligence\", \"intelligence\", \"intelligence\", \"intelligence\", \"intelligence\", \"intelligence\", \"intelligence\", \"italian\", \"italian\", \"italian\", \"italian\", \"italian\", \"join\", \"join\", \"join\", \"join\", \"join\", \"join\", \"join\", \"just\", \"just\", \"just\", \"just\", \"just\", \"just\", \"just\", \"kitchen\", \"know\", \"know\", \"know\", \"know\", \"know\", \"know\", \"know\", \"lap\", \"lap\", \"lar\", \"lar\", \"lar\", \"leader\", \"leader\", \"leader\", \"leader\", \"leader\", \"leader\", \"leader\", \"learn_more\", \"learn_more\", \"learn_more\", \"learn_more\", \"learn_more\", \"limestone\", \"literature\", \"loading\", \"loadmaster\", \"loadmaster\", \"loadmaster\", \"low\", \"low\", \"lyon\", \"maintain\", \"maintain\", \"maintain\", \"maintain\", \"maintain\", \"maintain\", \"maintenance\", \"maintenance\", \"maintenance\", \"maintenance\", \"maintenance\", \"maintenance\", \"maintenance\", \"maintenance_section\", \"manager\", \"manager\", \"manager\", \"marshal\", \"mask\", \"mask\", \"mask\", \"mask\", \"mask\", \"mask\", \"meet\", \"meet\", \"meet\", \"meet\", \"member\", \"member\", \"member\", \"member\", \"member\", \"member\", \"member\", \"mile\", \"mile\", \"mile\", \"mile\", \"mile\", \"mile\", \"mile\", \"military\", \"military\", \"military\", \"military\", \"military\", \"military\", \"military\", \"minute\", \"minute\", \"minute\", \"minute\", \"minute\", \"mission\", \"mission\", \"mission\", \"mission\", \"mission\", \"mission\", \"mission\", \"mobilize\", \"monoxide\", \"more\", \"more\", \"more\", \"more\", \"more\", \"more\", \"more\", \"mortar\", \"motivation\", \"navigation\", \"navigation\", \"need\", \"need\", \"need\", \"need\", \"need\", \"need\", \"need\", \"new\", \"new\", \"new\", \"new\", \"new\", \"new\", \"new\", \"new_home\", \"new_home\", \"numst\", \"numst\", \"numst\", \"numst\", \"numst\", \"numst\", \"numst\", \"numst_evcc\", \"numst_numst\", \"numst_numst\", \"numst_numst\", \"numst_numst\", \"numst_numst\", \"online\", \"online\", \"online\", \"online\", \"online\", \"operation\", \"operation\", \"operation\", \"operation\", \"operation\", \"operation\", \"operation\", \"opportunity\", \"opportunity\", \"opportunity\", \"opportunity\", \"opportunity\", \"opportunity\", \"opportunity\", \"orbit\", \"organization\", \"organization\", \"organization\", \"organization\", \"organization\", \"organization\", \"organization\", \"other\", \"other\", \"other\", \"other\", \"other\", \"other\", \"own\", \"own\", \"own\", \"own\", \"own\", \"own\", \"own\", \"panamanian\", \"paramedic\", \"partner\", \"partner\", \"partner\", \"partner\", \"partner\", \"partner\", \"partner\", \"passage\", \"passenger\", \"passenger\", \"passenger\", \"patch\", \"patch\", \"patch\", \"patch\", \"path\", \"path\", \"path\", \"people\", \"people\", \"people\", \"people\", \"people\", \"people\", \"personal_protective\", \"personal_protective\", \"phone\", \"placement\", \"plane\", \"plane\", \"plant\", \"platform\", \"platform\", \"platform\", \"platform\", \"platform\", \"platform\", \"ppmx\", \"premier\", \"prevention\", \"print\", \"process\", \"process\", \"process\", \"process\", \"process\", \"process\", \"process\", \"production\", \"production\", \"production\", \"profound\", \"program\", \"program\", \"program\", \"program\", \"program\", \"program\", \"program\", \"provide\", \"provide\", \"provide\", \"provide\", \"provide\", \"provide\", \"provide\", \"qae\", \"radar\", \"radar\", \"radar\", \"reason\", \"receive\", \"receive\", \"receive\", \"receive\", \"receive\", \"receive\", \"refuel\", \"refugee\", \"remark\", \"remark\", \"remark\", \"remark\", \"remark\", \"rental\", \"rental\", \"rental\", \"rental\", \"rental\", \"requirement\", \"requirement\", \"requirement\", \"requirement\", \"requirement\", \"requirement\", \"requirement\", \"rescue\", \"restaurant\", \"resupply\", \"rigger\", \"ring\", \"road\", \"road\", \"robin\", \"romanian\", \"saapm\", \"saapm\", \"safe\", \"safe\", \"safe\", \"safe\", \"safe\", \"sale\", \"same\", \"same\", \"same\", \"same\", \"sanitary\", \"satellite\", \"satellite\", \"satellite\", \"say\", \"say\", \"say\", \"say\", \"say\", \"say\", \"say\", \"scholarship\", \"security\", \"security\", \"security\", \"security\", \"security\", \"security\", \"see\", \"see\", \"see\", \"see\", \"see\", \"see\", \"sergeant_major\", \"serve\", \"serve\", \"serve\", \"serve\", \"serve\", \"serve\", \"serve\", \"set\", \"set\", \"set\", \"set\", \"set\", \"sfab\", \"sfab\", \"share\", \"share\", \"share\", \"share\", \"share\", \"share\", \"share\", \"sharp\", \"shipping\", \"situation\", \"situation\", \"situation\", \"situation\", \"situation\", \"situation\", \"slow\", \"small\", \"small\", \"small\", \"small\", \"small\", \"small\", \"small\", \"social_engineering\", \"social_engineering\", \"social_medium\", \"social_medium\", \"social_medium\", \"social_medium\", \"social_medium\", \"social_medium\", \"soldier\", \"soldier\", \"soldier\", \"soldier\", \"soldier\", \"soldier\", \"soldier\", \"space_missile\", \"space_missile\", \"spacewalk\", \"standard\", \"standard\", \"standard\", \"standard\", \"standard\", \"standard\", \"streak\", \"submit\", \"submit\", \"submit\", \"submit\", \"subsistence\", \"success\", \"success\", \"success\", \"success\", \"success\", \"success\", \"success\", \"support\", \"support\", \"support\", \"support\", \"support\", \"support\", \"support\", \"system\", \"system\", \"system\", \"system\", \"system\", \"system\", \"system\", \"team\", \"team\", \"team\", \"team\", \"team\", \"team\", \"team\", \"tempo\", \"test\", \"test\", \"test\", \"test\", \"test\", \"test\", \"test\", \"think\", \"think\", \"think\", \"think\", \"think\", \"think\", \"think\", \"tier\", \"tire\", \"train\", \"train\", \"train\", \"train\", \"train\", \"train\", \"train\", \"training\", \"training\", \"training\", \"training\", \"training\", \"training\", \"training\", \"training_video\", \"transportation\", \"transportation\", \"transportation\", \"transportation\", \"transportation\", \"transportation\", \"truck\", \"truck\", \"truck\", \"truck\", \"true\", \"true\", \"unit\", \"unit\", \"unit\", \"unit\", \"unit\", \"unit\", \"unit\", \"upgrade\", \"upgrade\", \"use\", \"use\", \"use\", \"use\", \"use\", \"use\", \"use\", \"valor\", \"vehicle\", \"vehicle\", \"vehicle\", \"vehicle\", \"vehicle\", \"vehicle\", \"vehicle\", \"vehicle_equipment\", \"vendor\", \"visor\", \"volunteer\", \"volunteer\", \"volunteer\", \"vulnerable\", \"vulnerable\", \"want\", \"want\", \"want\", \"want\", \"want\", \"want\", \"want\", \"warfighter_exercise\", \"wear\", \"wear\", \"wear\", \"wear\", \"wear\", \"wear\", \"wife\", \"wife\", \"wife\", \"wife\", \"wife\", \"win\", \"win\", \"win\", \"win\", \"win\", \"winch\", \"woman\", \"woman\", \"woman\", \"woman\", \"word\", \"word\", \"word\", \"word\", \"work\", \"work\", \"work\", \"work\", \"work\", \"work\", \"work\", \"worried\", \"year\", \"year\", \"year\", \"year\", \"year\", \"year\", \"year\"]}, \"R\": 20, \"lambda.step\": 0.01, \"plot.opts\": {\"xlab\": \"PC1\", \"ylab\": \"PC2\"}, \"topic.order\": [1, 2, 3, 4, 5, 6, 7]};\n",
       "\n",
       "function LDAvis_load_lib(url, callback){\n",
       "  var s = document.createElement('script');\n",
       "  s.src = url;\n",
       "  s.async = true;\n",
       "  s.onreadystatechange = s.onload = callback;\n",
       "  s.onerror = function(){console.warn(\"failed to load library \" + url);};\n",
       "  document.getElementsByTagName(\"head\")[0].appendChild(s);\n",
       "}\n",
       "\n",
       "if(typeof(LDAvis) !== \"undefined\"){\n",
       "   // already loaded: just create the visualization\n",
       "   !function(LDAvis){\n",
       "       new LDAvis(\"#\" + \"ldavis_el1356812382103284164351378019\", ldavis_el1356812382103284164351378019_data);\n",
       "   }(LDAvis);\n",
       "}else if(typeof define === \"function\" && define.amd){\n",
       "   // require.js is available: use it to load d3/LDAvis\n",
       "   require.config({paths: {d3: \"https://d3js.org/d3.v5\"}});\n",
       "   require([\"d3\"], function(d3){\n",
       "      window.d3 = d3;\n",
       "      LDAvis_load_lib(\"https://cdn.jsdelivr.net/gh/bmabey/pyLDAvis@3.4.0/pyLDAvis/js/ldavis.v3.0.0.js\", function(){\n",
       "        new LDAvis(\"#\" + \"ldavis_el1356812382103284164351378019\", ldavis_el1356812382103284164351378019_data);\n",
       "      });\n",
       "    });\n",
       "}else{\n",
       "    // require.js not available: dynamically load d3 & LDAvis\n",
       "    LDAvis_load_lib(\"https://d3js.org/d3.v5.js\", function(){\n",
       "         LDAvis_load_lib(\"https://cdn.jsdelivr.net/gh/bmabey/pyLDAvis@3.4.0/pyLDAvis/js/ldavis.v3.0.0.js\", function(){\n",
       "                 new LDAvis(\"#\" + \"ldavis_el1356812382103284164351378019\", ldavis_el1356812382103284164351378019_data);\n",
       "            })\n",
       "         });\n",
       "}\n",
       "</script>"
      ],
      "text/plain": [
       "PreparedData(topic_coordinates=              x         y  topics  cluster       Freq\n",
       "topic                                                \n",
       "0      0.006028 -0.100022       1        1  14.773613\n",
       "1     -0.082411  0.040178       2        1  15.648982\n",
       "2      0.065418  0.058082       3        1   8.891041\n",
       "3      0.093298 -0.020430       4        1  19.359111\n",
       "4      0.001315 -0.007535       5        1   6.663366\n",
       "5     -0.069362 -0.057240       6        1  19.896713\n",
       "6     -0.014285  0.086967       7        1  14.767174, topic_info=           Term       Freq      Total Category  logprob  loglift\n",
       "71          say  82.000000  82.000000  Default  20.0000  20.0000\n",
       "623       cloud  22.000000  22.000000  Default  19.0000  19.0000\n",
       "441        work  81.000000  81.000000  Default  18.0000  18.0000\n",
       "50      mission  40.000000  40.000000  Default  17.0000  17.0000\n",
       "231        unit  75.000000  75.000000  Default  16.0000  16.0000\n",
       "..          ...        ...        ...      ...      ...      ...\n",
       "109  capability   8.490529  46.348480   Topic7  -5.7638   0.2155\n",
       "441        work   9.217914  81.660946   Topic7  -5.6816  -0.2687\n",
       "59        other   7.314704  28.282887   Topic7  -5.9129   0.5604\n",
       "74      soldier   8.516607  98.220870   Topic7  -5.7607  -0.5324\n",
       "231        unit   7.564882  75.645331   Topic7  -5.8793  -0.3898\n",
       "\n",
       "[360 rows x 6 columns], token_table=      Topic      Freq     Term\n",
       "term                          \n",
       "89        1  0.084097  ability\n",
       "89        2  0.504580  ability\n",
       "89        3  0.084097  ability\n",
       "89        4  0.084097  ability\n",
       "89        5  0.084097  ability\n",
       "...     ...       ...      ...\n",
       "508       3  0.078725     year\n",
       "508       4  0.052484     year\n",
       "508       5  0.131209     year\n",
       "508       6  0.367385     year\n",
       "508       7  0.131209     year\n",
       "\n",
       "[1002 rows x 3 columns], R=20, lambda_step=0.01, plot_opts={'xlab': 'PC1', 'ylab': 'PC2'}, topic_order=[1, 2, 3, 4, 5, 6, 7])"
      ]
     },
     "execution_count": 93,
     "metadata": {},
     "output_type": "execute_result"
    }
   ],
   "source": [
    "pyLDAvis.enable_notebook()\n",
    "vis = pyLDAvis.gensim.prepare(lda_model, corpus, id2word, mds=\"mmds\", R=20, sort_topics= False)\n",
    "vis"
   ]
  },
  {
   "cell_type": "code",
   "execution_count": null,
   "id": "e382ae6b",
   "metadata": {},
   "outputs": [],
   "source": []
  }
 ],
 "metadata": {
  "kernelspec": {
   "display_name": "LDAenv",
   "language": "python",
   "name": "ldaenv"
  },
  "language_info": {
   "codemirror_mode": {
    "name": "ipython",
    "version": 3
   },
   "file_extension": ".py",
   "mimetype": "text/x-python",
   "name": "python",
   "nbconvert_exporter": "python",
   "pygments_lexer": "ipython3",
   "version": "3.11.4"
  }
 },
 "nbformat": 4,
 "nbformat_minor": 5
}
